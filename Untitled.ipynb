{
 "cells": [
  {
   "cell_type": "markdown",
   "id": "3741834f-a6b7-498d-9f91-d7237baf2fea",
   "metadata": {},
   "source": [
    "# OI"
   ]
  },
  {
   "cell_type": "code",
   "execution_count": 2,
   "id": "291d4638-95d4-46ff-9dfd-30b3d1ff7b8a",
   "metadata": {},
   "outputs": [],
   "source": [
    "import pandas as pd\n",
    "import numpy as np\n",
    "\n",
    "import matplotlib.pyplot as plt\n",
    "import seaborn as sns\n",
    "import chart_studio.plotly as py\n",
    "import plotly.express as px\n",
    "import cufflinks as cf"
   ]
  },
  {
   "cell_type": "code",
   "execution_count": 3,
   "id": "37e29c3e-2308-42c0-86b7-2fd0c4a094ae",
   "metadata": {},
   "outputs": [
    {
     "name": "stderr",
     "output_type": "stream",
     "text": [
      "/tmp/ipykernel_17404/631444111.py:1: DtypeWarning:\n",
      "\n",
      "Columns (0,3,4) have mixed types. Specify dtype option on import or set low_memory=False.\n",
      "\n"
     ]
    }
   ],
   "source": [
    "df = pd.read_csv('teste.csv', encoding = 'Latin-1', sep = ';', index_col = False, decimal = ',', thousands = '.')"
   ]
  },
  {
   "cell_type": "code",
   "execution_count": 4,
   "id": "de7f665a-5f1e-4f24-8f10-2abaa3a5c4d8",
   "metadata": {},
   "outputs": [
    {
     "data": {
      "text/html": [
       "<div>\n",
       "<style scoped>\n",
       "    .dataframe tbody tr th:only-of-type {\n",
       "        vertical-align: middle;\n",
       "    }\n",
       "\n",
       "    .dataframe tbody tr th {\n",
       "        vertical-align: top;\n",
       "    }\n",
       "\n",
       "    .dataframe thead th {\n",
       "        text-align: right;\n",
       "    }\n",
       "</style>\n",
       "<table border=\"1\" class=\"dataframe\">\n",
       "  <thead>\n",
       "    <tr style=\"text-align: right;\">\n",
       "      <th></th>\n",
       "      <th>Código do Município</th>\n",
       "      <th>Município</th>\n",
       "      <th>Estado</th>\n",
       "      <th>Ano de Referência</th>\n",
       "      <th>Código do Prestador</th>\n",
       "      <th>Prestador</th>\n",
       "      <th>Sigla do Prestador</th>\n",
       "      <th>Abrangência</th>\n",
       "      <th>Tipo de Serviço</th>\n",
       "      <th>Natureza Jurídica</th>\n",
       "      <th>...</th>\n",
       "      <th>IN062 - Liquidez geral</th>\n",
       "      <th>IN063 - Grau de endividamento</th>\n",
       "      <th>IN064 - Margem operacional com depreciação</th>\n",
       "      <th>IN065 - Margem líquida com depreciação</th>\n",
       "      <th>IN066 - Retorno sobre o patrimônio líquido</th>\n",
       "      <th>IN067 - Composição de exigibilidades</th>\n",
       "      <th>IN068 - Margem operacional sem depreciação</th>\n",
       "      <th>IN069 - Margem líquida sem depreciação</th>\n",
       "      <th>IN101 - Índice de suficiência de caixa</th>\n",
       "      <th>IN102 - Índice de produtividade de pessoal total (equivalente)</th>\n",
       "    </tr>\n",
       "  </thead>\n",
       "  <tbody>\n",
       "    <tr>\n",
       "      <th>0</th>\n",
       "      <td>270010</td>\n",
       "      <td>Água Branca</td>\n",
       "      <td>AL</td>\n",
       "      <td>2020</td>\n",
       "      <td>27001011</td>\n",
       "      <td>Prefeitura Municipal de Água Branca</td>\n",
       "      <td>PMAB</td>\n",
       "      <td>Local</td>\n",
       "      <td>Esgoto</td>\n",
       "      <td>Administração pública direta</td>\n",
       "      <td>...</td>\n",
       "      <td>NaN</td>\n",
       "      <td>NaN</td>\n",
       "      <td>NaN</td>\n",
       "      <td>NaN</td>\n",
       "      <td>NaN</td>\n",
       "      <td>NaN</td>\n",
       "      <td>NaN</td>\n",
       "      <td>NaN</td>\n",
       "      <td>0.0</td>\n",
       "      <td>NaN</td>\n",
       "    </tr>\n",
       "    <tr>\n",
       "      <th>1</th>\n",
       "      <td>270010</td>\n",
       "      <td>Água Branca</td>\n",
       "      <td>AL</td>\n",
       "      <td>2017</td>\n",
       "      <td>27001011</td>\n",
       "      <td>Prefeitura Municipal de Água Branca</td>\n",
       "      <td>PMAB</td>\n",
       "      <td>Local</td>\n",
       "      <td>Esgoto</td>\n",
       "      <td>Administração pública direta</td>\n",
       "      <td>...</td>\n",
       "      <td>NaN</td>\n",
       "      <td>NaN</td>\n",
       "      <td>NaN</td>\n",
       "      <td>NaN</td>\n",
       "      <td>NaN</td>\n",
       "      <td>NaN</td>\n",
       "      <td>NaN</td>\n",
       "      <td>NaN</td>\n",
       "      <td>0.0</td>\n",
       "      <td>256.07</td>\n",
       "    </tr>\n",
       "    <tr>\n",
       "      <th>2</th>\n",
       "      <td>270010</td>\n",
       "      <td>Água Branca</td>\n",
       "      <td>AL</td>\n",
       "      <td>2016</td>\n",
       "      <td>27001011</td>\n",
       "      <td>Prefeitura Municipal de Água Branca</td>\n",
       "      <td>PMAB</td>\n",
       "      <td>Local</td>\n",
       "      <td>Esgoto</td>\n",
       "      <td>Administração pública direta</td>\n",
       "      <td>...</td>\n",
       "      <td>NaN</td>\n",
       "      <td>NaN</td>\n",
       "      <td>NaN</td>\n",
       "      <td>NaN</td>\n",
       "      <td>NaN</td>\n",
       "      <td>NaN</td>\n",
       "      <td>NaN</td>\n",
       "      <td>NaN</td>\n",
       "      <td>0.0</td>\n",
       "      <td>NaN</td>\n",
       "    </tr>\n",
       "    <tr>\n",
       "      <th>3</th>\n",
       "      <td>270030</td>\n",
       "      <td>Arapiraca</td>\n",
       "      <td>AL</td>\n",
       "      <td>2015</td>\n",
       "      <td>27003011</td>\n",
       "      <td>Prefeitura Municipal de Arapiraca</td>\n",
       "      <td>PMA</td>\n",
       "      <td>Local</td>\n",
       "      <td>Esgoto</td>\n",
       "      <td>Administração pública direta</td>\n",
       "      <td>...</td>\n",
       "      <td>NaN</td>\n",
       "      <td>NaN</td>\n",
       "      <td>NaN</td>\n",
       "      <td>NaN</td>\n",
       "      <td>NaN</td>\n",
       "      <td>NaN</td>\n",
       "      <td>NaN</td>\n",
       "      <td>NaN</td>\n",
       "      <td>0.0</td>\n",
       "      <td>1010.10</td>\n",
       "    </tr>\n",
       "    <tr>\n",
       "      <th>4</th>\n",
       "      <td>270030</td>\n",
       "      <td>Arapiraca</td>\n",
       "      <td>AL</td>\n",
       "      <td>2014</td>\n",
       "      <td>27003011</td>\n",
       "      <td>Prefeitura Municipal de Arapiraca</td>\n",
       "      <td>PMA</td>\n",
       "      <td>Local</td>\n",
       "      <td>Esgoto</td>\n",
       "      <td>Administração pública direta</td>\n",
       "      <td>...</td>\n",
       "      <td>NaN</td>\n",
       "      <td>NaN</td>\n",
       "      <td>NaN</td>\n",
       "      <td>NaN</td>\n",
       "      <td>NaN</td>\n",
       "      <td>NaN</td>\n",
       "      <td>NaN</td>\n",
       "      <td>NaN</td>\n",
       "      <td>0.0</td>\n",
       "      <td>942.76</td>\n",
       "    </tr>\n",
       "  </tbody>\n",
       "</table>\n",
       "<p>5 rows × 229 columns</p>\n",
       "</div>"
      ],
      "text/plain": [
       "  Código do Município    Município Estado Ano de Referência  \\\n",
       "0              270010  Água Branca     AL              2020   \n",
       "1              270010  Água Branca     AL              2017   \n",
       "2              270010  Água Branca     AL              2016   \n",
       "3              270030    Arapiraca     AL              2015   \n",
       "4              270030    Arapiraca     AL              2014   \n",
       "\n",
       "  Código do Prestador                            Prestador Sigla do Prestador  \\\n",
       "0            27001011  Prefeitura Municipal de Água Branca               PMAB   \n",
       "1            27001011  Prefeitura Municipal de Água Branca               PMAB   \n",
       "2            27001011  Prefeitura Municipal de Água Branca               PMAB   \n",
       "3            27003011    Prefeitura Municipal de Arapiraca                PMA   \n",
       "4            27003011    Prefeitura Municipal de Arapiraca                PMA   \n",
       "\n",
       "  Abrangência Tipo de Serviço             Natureza Jurídica  ...  \\\n",
       "0       Local   Esgoto         Administração pública direta  ...   \n",
       "1       Local   Esgoto         Administração pública direta  ...   \n",
       "2       Local   Esgoto         Administração pública direta  ...   \n",
       "3       Local   Esgoto         Administração pública direta  ...   \n",
       "4       Local   Esgoto         Administração pública direta  ...   \n",
       "\n",
       "   IN062 - Liquidez geral  IN063 - Grau de endividamento  \\\n",
       "0                     NaN                            NaN   \n",
       "1                     NaN                            NaN   \n",
       "2                     NaN                            NaN   \n",
       "3                     NaN                            NaN   \n",
       "4                     NaN                            NaN   \n",
       "\n",
       "   IN064 - Margem operacional com depreciação  \\\n",
       "0                                         NaN   \n",
       "1                                         NaN   \n",
       "2                                         NaN   \n",
       "3                                         NaN   \n",
       "4                                         NaN   \n",
       "\n",
       "   IN065 - Margem líquida com depreciação  \\\n",
       "0                                     NaN   \n",
       "1                                     NaN   \n",
       "2                                     NaN   \n",
       "3                                     NaN   \n",
       "4                                     NaN   \n",
       "\n",
       "   IN066 - Retorno sobre o patrimônio líquido  \\\n",
       "0                                         NaN   \n",
       "1                                         NaN   \n",
       "2                                         NaN   \n",
       "3                                         NaN   \n",
       "4                                         NaN   \n",
       "\n",
       "   IN067 - Composição de exigibilidades  \\\n",
       "0                                   NaN   \n",
       "1                                   NaN   \n",
       "2                                   NaN   \n",
       "3                                   NaN   \n",
       "4                                   NaN   \n",
       "\n",
       "   IN068 - Margem operacional sem depreciação  \\\n",
       "0                                         NaN   \n",
       "1                                         NaN   \n",
       "2                                         NaN   \n",
       "3                                         NaN   \n",
       "4                                         NaN   \n",
       "\n",
       "   IN069 - Margem líquida sem depreciação  \\\n",
       "0                                     NaN   \n",
       "1                                     NaN   \n",
       "2                                     NaN   \n",
       "3                                     NaN   \n",
       "4                                     NaN   \n",
       "\n",
       "   IN101 - Índice de suficiência de caixa  \\\n",
       "0                                     0.0   \n",
       "1                                     0.0   \n",
       "2                                     0.0   \n",
       "3                                     0.0   \n",
       "4                                     0.0   \n",
       "\n",
       "   IN102 - Índice de produtividade de pessoal total (equivalente)  \n",
       "0                                                NaN               \n",
       "1                                             256.07               \n",
       "2                                                NaN               \n",
       "3                                            1010.10               \n",
       "4                                             942.76               \n",
       "\n",
       "[5 rows x 229 columns]"
      ]
     },
     "execution_count": 4,
     "metadata": {},
     "output_type": "execute_result"
    }
   ],
   "source": [
    "df.head()"
   ]
  },
  {
   "cell_type": "code",
   "execution_count": 5,
   "id": "4ebe9407-378a-43ff-a944-e7fdfe8e22ce",
   "metadata": {},
   "outputs": [
    {
     "data": {
      "text/plain": [
       "((4252, 229),\n",
       " Index(['Código do Município', 'Município', 'Estado', 'Ano de Referência',\n",
       "        'Código do Prestador', 'Prestador', 'Sigla do Prestador', 'Abrangência',\n",
       "        'Tipo de Serviço', 'Natureza Jurídica',\n",
       "        ...\n",
       "        'IN062 - Liquidez geral', 'IN063 - Grau de endividamento',\n",
       "        'IN064 - Margem operacional com depreciação',\n",
       "        'IN065 - Margem líquida com depreciação',\n",
       "        'IN066 - Retorno sobre o patrimônio líquido',\n",
       "        'IN067 - Composição de exigibilidades',\n",
       "        'IN068 - Margem operacional sem depreciação',\n",
       "        'IN069 - Margem líquida sem depreciação',\n",
       "        'IN101 - Índice de suficiência de caixa',\n",
       "        'IN102 - Índice de produtividade de pessoal total (equivalente)'],\n",
       "       dtype='object', length=229))"
      ]
     },
     "execution_count": 5,
     "metadata": {},
     "output_type": "execute_result"
    }
   ],
   "source": [
    "df.shape, df.columns"
   ]
  },
  {
   "cell_type": "markdown",
   "id": "845240d4-c8e2-42af-a8a8-c5d6f1b1cad1",
   "metadata": {},
   "source": [
    "# Trabalhando incosistências nas colunas"
   ]
  },
  {
   "cell_type": "code",
   "execution_count": 35,
   "id": "048cf411-4545-4f34-8d41-67fda621cc15",
   "metadata": {},
   "outputs": [],
   "source": [
    "df_1 = df.iloc[:,[0,1,2,3,5,8,10,11,12,13,33,34,36,37,41,42,43,44,45,46,47,49,53,67,81,109,104,105,106,161,162,163, 210]]"
   ]
  },
  {
   "cell_type": "code",
   "execution_count": 36,
   "id": "aed86ad2-e341-465f-8e31-1bc0d5c15c11",
   "metadata": {
    "scrolled": true,
    "tags": []
   },
   "outputs": [
    {
     "name": "stdout",
     "output_type": "stream",
     "text": [
      "0 Código do Município\n",
      "1 Município\n",
      "2 Estado\n",
      "3 Ano de Referência\n",
      "4 Código do Prestador\n",
      "5 Prestador\n",
      "6 Sigla do Prestador\n",
      "7 Abrangência\n",
      "8 Tipo de Serviço\n",
      "9 Natureza Jurídica\n",
      "10 G05A - Quantidade total de municípios atendidos com abastecimento de água\n",
      "11 G05B - Quantidade total de municípios atendidos com esgotamento sanitário\n",
      "12 G06A - População urbana residente do(s) município(s) com abastecimento de água\n",
      "13 G06B - População urbana residente do(s) município(s) com esgotamento sanitário\n",
      "14 G12A - População total residente do(s) município(s) com abastecimento de água, segundo o IBGE\n",
      "15 G12B - População total residente do(s) município(s) com esgotamento sanitário, segundo o IBGE\n",
      "16 GE001 - Quantidade de municípios atendidos com abastecimento de água com delegação em vigor\n",
      "17 GE002 - Quantidade de municípios atendidos com abastecimento de água com delegação vencida\n",
      "18 GE003 - Quantidade de municípios atendidos com abastecimento de água sem delegação\n",
      "19 GE005 - Quantidade total de municípios atendidos\n",
      "20 GE008 - Quantidade de Sedes municipais atendidas com abastecimento de água\n",
      "21 GE009 - Quantidade de Sedes municipais atendidas com esgotamento sanitário\n",
      "22 GE010 - Quantidade de Localidades (excluídas as sedes) atendidas com abastecimento de água\n",
      "23 GE011 - Quantidade de Localidades (excluídas as sedes) atendidas com esgotamento sanitário\n",
      "24 GE014 - Quantidade de municípios atendidos com esgotamento sanitário com delegação em vigor\n",
      "25 GE015 - Quantidade de municípios atendidos com esgotamento sanitário com delegação vencida\n",
      "26 GE016 - Quantidade de municípios atendidos com esgotamento sanitário sem delegação\n",
      "27 GE017 - Ano de vencimento da delegação de abastecimento de água\n",
      "28 GE018 - Ano de vencimento da delegação de esgotamento sanitário\n",
      "29 GE025 - Quantidade de municípios não atendidos com abastecimento de água, mas com delegação em vigor\n",
      "30 GE026 - Quantidade de municípios não atendidos com abastecimento de água, mas com delegação vencida para prestar esses serviços\n",
      "31 GE028 - Quantidade de municípios não atendidos com esgotamento sanitário, mas com delegação em vigor para prestar esses serviços\n",
      "32 GE029 - Quantidade de municípios não atendidos com esgotamento sanitário, mas com delegação vencida para prestar esses serviços\n",
      "33 AG001 - População total atendida com abastecimento de água\n",
      "34 AG001A - População total atendida com abastecimento de água no ano anterior ao de referência.\n",
      "35 AG002 - Quantidade de ligações ativas de água\n",
      "36 AG002A - Quantidade de ligações ativas de água no ano anterior ao de referência.\n",
      "37 AG003 - Quantidade de economias ativas de água\n",
      "38 AG003A - Quantidade de economias ativas de água no ano anterior ao de referência.\n",
      "39 AG004 - Quantidade de ligações ativas de água micromedidas\n",
      "40 AG004A - Quantidade de ligações ativas de água micromedidas no ano anterior ao de referência.\n",
      "41 AG005 - Extensão da rede de água\n",
      "42 AG005A - Extensão da rede de água no ano anterior ao de referência.\n",
      "43 AG006 - Volume de água produzido\n",
      "44 AG007 - Volume de água tratada em ETAs\n",
      "45 AG008 - Volume de água micromedido\n",
      "46 AG010 - Volume de água consumido\n",
      "47 AG011 - Volume de água faturado\n",
      "48 AG012 - Volume de água macromedido\n",
      "49 AG013 - Quantidade de economias residenciais ativas de água\n",
      "50 AG013A - Quantidade de economias residenciais ativas de água no ano anterior ao de referência.\n",
      "51 AG014 - Quantidade de economias ativas de água micromedidas\n",
      "52 AG014A - Quantidade de economias ativas de água micromedidas no ano anterior ao de referência.\n",
      "53 AG015 - Volume de água tratada por simples desinfecção\n",
      "54 AG016 - Volume de água bruta importado\n",
      "55 AG017 - Volume de água bruta exportado\n",
      "56 AG018 - Volume de água tratada importado\n",
      "57 AG019 - Volume de água tratada exportado\n",
      "58 AG020 - Volume micromedido nas economias residenciais ativas de água\n",
      "59 AG021 - Quantidade de ligações totais de água\n",
      "60 AG021A - Quantidade de ligações totais de água no ano anterior ao de referência.\n",
      "61 AG022 - Quantidade de economias residenciais ativas de água micromedidas\n",
      "62 AG022A - Quantidade de economias residenciais ativas de água micromedidas no ano anterior ao de referência.\n",
      "63 AG024 - Volume de serviço\n",
      "64 AG025A - População rural atendida com abastecimento de água no ano anterior ao de referência.\n",
      "65 AG026 - População urbana atendida com abastecimento de água\n",
      "66 AG026A - População urbana atendida com abastecimento de água no ano anterior ao de referência.\n",
      "67 AG027 - Volume de água fluoretada\n",
      "68 AG028 - Consumo total de energia elétrica nos sistemas de água\n",
      "69 BL001 - Ativo circulante\n",
      "70 BL002 - Ativo total\n",
      "71 BL003 - Exigível a longo prazo\n",
      "72 BL004 - Lucro líquido com depreciação\n",
      "73 BL005 - Passivo circulante\n",
      "74 BL006 - Patrimônio líquido\n",
      "75 BL007 - Receita operacional\n",
      "76 BL008 - Resultado de exercícios futuros\n",
      "77 BL009 - Resultado operacional com depreciação\n",
      "78 BL010 - Realizável a longo prazo\n",
      "79 BL011 - Lucro líquido sem depreciação\n",
      "80 BL012 - Resultado operacional sem depreciação\n",
      "81 ES001 - População total atendida com esgotamento sanitário\n",
      "82 ES001A - População total atendida com esgotamento sanitário no ano anterior ao de referência.\n",
      "83 ES002 - Quantidade de ligações ativas de esgotos\n",
      "84 ES002A - Quantidade de ligações ativas de esgoto no ano anterior ao de referência.\n",
      "85 ES003 - Quantidade de economias ativas de esgotos\n",
      "86 ES003A - Quantidade de economias ativas de esgoto no ano anterior ao de referência.\n",
      "87 ES004 - Extensão da rede de esgotos\n",
      "88 ES004A - Extensão da rede de esgoto no ano anterior ao de referência.\n",
      "89 ES005 - Volume de esgotos coletado\n",
      "90 ES006 - Volume de esgotos tratado\n",
      "91 ES007 - Volume de esgotos faturado\n",
      "92 ES008 - Quantidade de economias residenciais ativas de esgotos\n",
      "93 ES008A - Quantidade de economias residenciais ativas de esgoto no ano anterior ao de referência.\n",
      "94 ES009 - Quantidade de ligações totais de esgotos\n",
      "95 ES009A - Quantidade de ligações totais de esgoto no ano anterior ao de referência.\n",
      "96 ES012 - Volume de esgoto bruto exportado\n",
      "97 ES013 - Volume de esgotos bruto importado\n",
      "98 ES014 - Volume de esgoto importado tratado nas instalações do importador\n",
      "99 ES015 - Volume de esgoto bruto exportado tratado nas instalações do importador\n",
      "100 ES025A - População rural atendida com esgotamento sanitário no ano anterior ao de referência.\n",
      "101 ES026 - População urbana atendida com esgotamento sanitário\n",
      "102 ES026A - População urbana atendida com esgotamento sanitário no ano anterior ao de referência.\n",
      "103 ES028 - Consumo total de energia elétrica nos sistemas de esgotos\n",
      "104 FN001 - Receita operacional direta total\n",
      "105 FN002 - Receita operacional direta de água\n",
      "106 FN003 - Receita operacional direta de esgoto\n",
      "107 FN004 - Receita operacional indireta\n",
      "108 FN005 - Receita operacional total (direta + indireta)\n",
      "109 FN006 - Arrecadação total\n",
      "110 FN007 - Receita operacional direta de água exportada (bruta ou tratada)\n",
      "111 FN008 - Créditos de contas a receber\n",
      "112 FN008A - Crédito de contas a receber no ano anterior ao de referência.\n",
      "113 FN010 - Despesa com pessoal próprio\n",
      "114 FN011 - Despesa com produtos químicos\n",
      "115 FN013 - Despesa com energia elétrica\n",
      "116 FN014 - Despesa com serviços de terceiros\n",
      "117 FN015 - Despesas de Exploração (DEX)\n",
      "118 FN016 - Despesas com juros e encargos do serviço da dívida\n",
      "119 FN017 - Despesas totais com os serviços (DTS)\n",
      "120 FN018 - Despesas capitalizáveis realizadas pelo prestador de serviços\n",
      "121 FN019 - Despesas com depreciação, amortização do ativo diferido e provisão para devedores duvidosos\n",
      "122 FN020 - Despesa com água importada (bruta ou tratada)\n",
      "123 FN021 - Despesas fiscais ou tributárias computadas na DEX\n",
      "124 FN022 - Despesas fiscais ou tributárias não computadas na DEX\n",
      "125 FN023 - Investimento realizado em abastecimento de água pelo prestador de serviços\n",
      "126 FN024 - Investimento realizado em esgotamento sanitário pelo prestador de serviços\n",
      "127 FN025 - Outros investimentos realizados pelo prestador de serviços\n",
      "128 FN026 - Quantidade total de empregados próprios\n",
      "129 FN026A - Quantidade total de empregados próprios no ano anterior ao de referência.\n",
      "130 FN027 - Outras despesas de exploração\n",
      "131 FN028 - Outras despesas com os serviços\n",
      "132 FN030 - Investimento com recursos próprios realizado pelo prestador de serviços.\n",
      "133 FN031 - Investimento com recursos onerosos realizado pelo prestador de serviços.\n",
      "134 FN032 - Investimento com recursos não onerosos realizado pelo prestador de serviços.\n",
      "135 FN033 - Investimentos totais realizados pelo prestador de serviços\n",
      "136 FN034 - Despesas com amortizações do serviço da dívida\n",
      "137 FN035 - Despesas com juros e encargos do serviço da dívida, exceto variações monetária e cambial\n",
      "138 FN036 - Despesa com variações monetárias e cambiais das dívidas\n",
      "139 FN037 - Despesas totais com o serviço da dívida\n",
      "140 FN038 - Receita operacional direta - esgoto bruto importado\n",
      "141 FN039 - Despesa com esgoto exportado\n",
      "142 FN041 - Despesas capitalizáveis realizadas pelo(s) município(s)\n",
      "143 FN042 - Investimento realizado em abastecimento de água pelo(s) município(s)\n",
      "144 FN043 - Investimento realizado em esgotamento sanitário pelo(s) município(s)\n",
      "145 FN044 - Outros investimentos realizados pelo(s) município(s)\n",
      "146 FN045 - Investimento com recursos próprios realizado pelo(s) município(s)\n",
      "147 FN046 - Investimento com recursos onerosos realizado pelo(s) município(s)\n",
      "148 FN047 - Investimento com recursos não onerosos realizado pelo(s) município(s)\n",
      "149 FN048 - Investimentos totais realizados pelo(s) município(s)\n",
      "150 FN051 - Despesas capitalizáveis realizadas pelo estado\n",
      "151 FN052 - Investimento realizado em abastecimento de água pelo estado\n",
      "152 FN053 - Investimento realizado em esgotamento sanitário pelo estado\n",
      "153 FN054 - Outros investimentos realizados pelo estado\n",
      "154 FN055 - Investimento com recursos próprios realizado pelo estado\n",
      "155 FN056 - Investimento com recursos onerosos realizado pelo estado\n",
      "156 FN057 - Investimento com recursos não onerosos realizado pelo estado\n",
      "157 FN058 - Investimentos totais realizados pelo estado\n",
      "158 IN001 - Densidade de economias de água por ligação\n",
      "159 IN002 - Índice de produtividade: economias ativas por pessoal próprio\n",
      "160 IN003 - Despesa total com os serviços por m3 faturado\n",
      "161 IN004 - Tarifa média praticada\n",
      "162 IN005 - Tarifa média de água\n",
      "163 IN006 - Tarifa média de esgoto\n",
      "164 IN007 - Incidência da desp. de pessoal e de serv. de terc. nas despesas totais com os serviços\n",
      "165 IN008 - Despesa média anual por empregado\n",
      "166 IN009 - Índice de hidrometração\n",
      "167 IN010 - Índice de micromedição relativo ao volume disponibilizado\n",
      "168 IN011 - Índice de macromedição\n",
      "169 IN012 - Indicador de desempenho financeiro\n",
      "170 IN013 - Índice de perdas faturamento\n",
      "171 IN014 - Consumo micromedido por economia\n",
      "172 IN015 - Índice de coleta de esgoto\n",
      "173 IN016 - Índice de tratamento de esgoto\n",
      "174 IN017 - Consumo de água faturado por economia\n",
      "175 IN018 - Quantidade equivalente de pessoal total\n",
      "176 IN019 - Índice de produtividade: economias ativas por pessoal total (equivalente)\n",
      "177 IN020 - Extensão da rede de água por ligação\n",
      "178 IN021 - Extensão da rede de esgoto por ligação\n",
      "179 IN022 - Consumo médio percapita de água\n",
      "180 IN023 - Índice de atendimento urbano de água\n",
      "181 IN024 - Índice de atendimento urbano de esgoto referido aos municípios atendidos com água\n",
      "182 IN025 - Volume de água disponibilizado por economia\n",
      "183 IN026 - Despesa de exploração por m3 faturado\n",
      "184 IN027 - Despesa de exploração por economia\n",
      "185 IN028 - Índice de faturamento de água\n",
      "186 IN029 - Índice de evasão de receitas\n",
      "187 IN030 - Margem da despesa de exploração\n",
      "188 IN031 - Margem da despesa com pessoal próprio\n",
      "189 IN032 - Margem da despesa com pessoal total (equivalente)\n",
      "190 IN033 - Margem do serviço da divida\n",
      "191 IN034 - Margem das outras despesas de exploração\n",
      "192 IN035 - Participação da despesa com pessoal próprio nas despesas de exploração\n",
      "193 IN036 - Participação da despesa com pessoal total (equivalente) nas despesas de exploração\n",
      "194 IN037 - Participação da despesa com energia elétrica nas despesas de exploração\n",
      "195 IN038 - Participação da despesa com produtos químicos nas despesas de exploração (DEX)\n",
      "196 IN039 - Participação das outras despesas nas despesas de exploração\n",
      "197 IN040 - Participação da receita operacional direta de água na receita operacional total\n",
      "198 IN041 - Participação da receita operacional direta de esgoto na receita operacional total\n",
      "199 IN042 - Participação da receita operacional indireta na receita operacional total\n",
      "200 IN043 - Participação das economias residenciais de água no total das economias de água\n",
      "201 IN044 - Índice de micromedição relativo ao consumo\n",
      "202 IN045 - Índice de produtividade: empregados próprios por 1000 ligações de água\n",
      "203 IN046 - Índice de esgoto tratado referido à água consumida\n",
      "204 IN047 - Índice de atendimento urbano de esgoto referido aos municípios atendidos com esgoto\n",
      "205 IN048 - Índice de produtividade: empregados próprios por 1000 ligações de água + esgoto\n",
      "206 IN049 - Índice de perdas na distribuição\n",
      "207 IN050 - Índice bruto de perdas lineares\n",
      "208 IN051 - Índice de perdas por ligação\n",
      "209 IN052 - Índice de consumo de água\n",
      "210 IN053 - Consumo médio de água por economia\n",
      "211 IN054 - Dias de faturamento comprometidos com contas a receber\n",
      "212 IN055 - Índice de atendimento total de água\n",
      "213 IN056 - Índice de atendimento total de esgoto referido aos municípios atendidos com água\n",
      "214 IN057 - Índice de fluoretação de água\n",
      "215 IN058 - Índice de consumo de energia elétrica em sistemas de abastecimento de água\n",
      "216 IN059 - Índice de consumo de energia elétrica em sistemas de esgotamento sanitário\n",
      "217 IN060 - Índice de despesas por consumo de energia elétrica nos sistemas de água e esgotos\n",
      "218 IN061 - Liquidez corrente\n",
      "219 IN062 - Liquidez geral\n",
      "220 IN063 - Grau de endividamento\n",
      "221 IN064 - Margem operacional com depreciação\n",
      "222 IN065 - Margem líquida com depreciação\n",
      "223 IN066 - Retorno sobre o patrimônio líquido\n",
      "224 IN067 - Composição de exigibilidades\n",
      "225 IN068 - Margem operacional sem depreciação\n",
      "226 IN069 - Margem líquida sem depreciação\n",
      "227 IN101 - Índice de suficiência de caixa\n",
      "228 IN102 - Índice de produtividade de pessoal total (equivalente)\n"
     ]
    }
   ],
   "source": [
    "for n, col in enumerate(df.columns):\n",
    "    print(n,col)"
   ]
  },
  {
   "cell_type": "code",
   "execution_count": 37,
   "id": "6eac15e2-71bc-4a52-91ba-b61206ffb2a5",
   "metadata": {},
   "outputs": [],
   "source": [
    "df_AL = df_1[df_1.Estado == 'AL']"
   ]
  },
  {
   "cell_type": "code",
   "execution_count": 38,
   "id": "a440d92e-0552-4c72-938e-e889bd33651f",
   "metadata": {},
   "outputs": [],
   "source": [
    "df_AL = df_AL.sort_values(by=[ 'Município','Ano de Referência', 'Tipo de Serviço'], ascending = True)"
   ]
  },
  {
   "cell_type": "code",
   "execution_count": 39,
   "id": "24ad6e6e-dd07-49f4-9773-4c95dd87a877",
   "metadata": {},
   "outputs": [
    {
     "name": "stdout",
     "output_type": "stream",
     "text": [
      "<class 'pandas.core.frame.DataFrame'>\n",
      "Int64Index: 332 entries, 6 to 0\n",
      "Data columns (total 33 columns):\n",
      " #   Column                                                                                         Non-Null Count  Dtype  \n",
      "---  ------                                                                                         --------------  -----  \n",
      " 0   Código do Município                                                                            332 non-null    object \n",
      " 1   Município                                                                                      332 non-null    object \n",
      " 2   Estado                                                                                         332 non-null    object \n",
      " 3   Ano de Referência                                                                              332 non-null    object \n",
      " 4   Prestador                                                                                      332 non-null    object \n",
      " 5   Tipo de Serviço                                                                                332 non-null    object \n",
      " 6   G05A - Quantidade total de municípios atendidos com abastecimento de água                      318 non-null    float64\n",
      " 7   G05B - Quantidade total de municípios atendidos com esgotamento sanitário                      224 non-null    float64\n",
      " 8   G06A - População urbana residente do(s) município(s) com abastecimento de água                 330 non-null    float64\n",
      " 9   G06B - População urbana residente do(s) município(s) com esgotamento sanitário                 183 non-null    float64\n",
      " 10  AG001 - População total atendida com abastecimento de água                                     294 non-null    float64\n",
      " 11  AG001A - População total atendida com abastecimento de água no ano anterior ao de referência.  258 non-null    float64\n",
      " 12  AG002A - Quantidade de ligações ativas de água no ano anterior ao de referência.               259 non-null    float64\n",
      " 13  AG003 - Quantidade de economias ativas de água                                                 294 non-null    float64\n",
      " 14  AG005 - Extensão da rede de água                                                               286 non-null    float64\n",
      " 15  AG005A - Extensão da rede de água no ano anterior ao de referência.                            249 non-null    float64\n",
      " 16  AG006 - Volume de água produzido                                                               293 non-null    float64\n",
      " 17  AG007 - Volume de água tratada em ETAs                                                         293 non-null    float64\n",
      " 18  AG008 - Volume de água micromedido                                                             290 non-null    float64\n",
      " 19  AG010 - Volume de água consumido                                                               292 non-null    float64\n",
      " 20  AG011 - Volume de água faturado                                                                292 non-null    float64\n",
      " 21  AG013 - Quantidade de economias residenciais ativas de água                                    282 non-null    float64\n",
      " 22  AG015 - Volume de água tratada por simples desinfecção                                         290 non-null    float64\n",
      " 23  AG027 - Volume de água fluoretada                                                              249 non-null    float64\n",
      " 24  ES001 - População total atendida com esgotamento sanitário                                     163 non-null    float64\n",
      " 25  FN006 - Arrecadação total                                                                      331 non-null    float64\n",
      " 26  FN001 - Receita operacional direta total                                                       327 non-null    float64\n",
      " 27  FN002 - Receita operacional direta de água                                                     295 non-null    float64\n",
      " 28  FN003 - Receita operacional direta de esgoto                                                   165 non-null    float64\n",
      " 29  IN004 - Tarifa média praticada                                                                 264 non-null    float64\n",
      " 30  IN005 - Tarifa média de água                                                                   263 non-null    float64\n",
      " 31  IN006 - Tarifa média de esgoto                                                                 63 non-null     float64\n",
      " 32  IN053 - Consumo médio de água por economia                                                     285 non-null    float64\n",
      "dtypes: float64(27), object(6)\n",
      "memory usage: 88.2+ KB\n"
     ]
    }
   ],
   "source": [
    "df_AL.info()"
   ]
  },
  {
   "cell_type": "code",
   "execution_count": 31,
   "id": "03d24802-0f56-4789-bb0d-4e6efad5d5c8",
   "metadata": {},
   "outputs": [],
   "source": [
    "df_AL = df_AL.fillna(method = 'ffill', axis = 0).fillna(method = 'bfill')"
   ]
  },
  {
   "cell_type": "code",
   "execution_count": 32,
   "id": "eb99b74e-9842-4640-bdf9-158c33eb993e",
   "metadata": {},
   "outputs": [
    {
     "data": {
      "application/vnd.plotly.v1+json": {
       "config": {
        "plotlyServerURL": "https://plot.ly"
       },
       "data": [
        {
         "hovertemplate": "Município=Arapiraca<br>Ano de Referência=%{x}<br>População urbana com abastecimento de água=%{y}<extra></extra>",
         "legendgroup": "Arapiraca",
         "marker": {
          "color": "#636efa",
          "symbol": "circle"
         },
         "mode": "markers",
         "name": "Arapiraca",
         "orientation": "v",
         "showlegend": true,
         "type": "scatter",
         "x": [
          2012,
          2013,
          2014,
          2015
         ],
         "xaxis": "x",
         "y": [
          184987,
          193043,
          194475,
          195937
         ],
         "yaxis": "y"
        },
        {
         "hovertemplate": "Município=Atalaia<br>Ano de Referência=%{x}<br>População urbana com abastecimento de água=%{y}<extra></extra>",
         "legendgroup": "Atalaia",
         "marker": {
          "color": "#EF553B",
          "symbol": "circle"
         },
         "mode": "markers",
         "name": "Atalaia",
         "orientation": "v",
         "showlegend": true,
         "type": "scatter",
         "x": [
          1999,
          2000,
          2001,
          2002,
          2003,
          2004,
          2006,
          2007,
          2020
         ],
         "xaxis": "x",
         "y": [
          16932,
          17889,
          19839,
          21000,
          18220,
          18400,
          18600,
          24794,
          23999
         ],
         "yaxis": "y"
        },
        {
         "hovertemplate": "Município=Barra de Santo Antônio<br>Ano de Referência=%{x}<br>População urbana com abastecimento de água=%{y}<extra></extra>",
         "legendgroup": "Barra de Santo Antônio",
         "marker": {
          "color": "#00cc96",
          "symbol": "circle"
         },
         "mode": "markers",
         "name": "Barra de Santo Antônio",
         "orientation": "v",
         "showlegend": true,
         "type": "scatter",
         "x": [
          2013
         ],
         "xaxis": "x",
         "y": [
          14309
         ],
         "yaxis": "y"
        },
        {
         "hovertemplate": "Município=Barra de São Miguel<br>Ano de Referência=%{x}<br>População urbana com abastecimento de água=%{y}<extra></extra>",
         "legendgroup": "Barra de São Miguel",
         "marker": {
          "color": "#ab63fa",
          "symbol": "circle"
         },
         "mode": "markers",
         "name": "Barra de São Miguel",
         "orientation": "v",
         "showlegend": true,
         "type": "scatter",
         "x": [
          2012
         ],
         "xaxis": "x",
         "y": [
          6677
         ],
         "yaxis": "y"
        },
        {
         "hovertemplate": "Município=Boca da Mata<br>Ano de Referência=%{x}<br>População urbana com abastecimento de água=%{y}<extra></extra>",
         "legendgroup": "Boca da Mata",
         "marker": {
          "color": "#FFA15A",
          "symbol": "circle"
         },
         "mode": "markers",
         "name": "Boca da Mata",
         "orientation": "v",
         "showlegend": true,
         "type": "scatter",
         "x": [
          1999,
          2000,
          2001,
          2002,
          2003,
          2004,
          2005,
          2006,
          2007,
          2009,
          2010,
          2012,
          2013,
          2014,
          2015,
          2016,
          2017,
          2018,
          2019,
          2020
         ],
         "xaxis": "x",
         "y": [
          16385,
          15412,
          15412,
          18000,
          15815,
          16081,
          16228,
          16374,
          16495,
          17076,
          17450,
          17608,
          18329,
          18404,
          18549,
          18616,
          18678,
          18392,
          18469,
          18520
         ],
         "yaxis": "y"
        },
        {
         "hovertemplate": "Município=Branquinha<br>Ano de Referência=%{x}<br>População urbana com abastecimento de água=%{y}<extra></extra>",
         "legendgroup": "Branquinha",
         "marker": {
          "color": "#19d3f3",
          "symbol": "circle"
         },
         "mode": "markers",
         "name": "Branquinha",
         "orientation": "v",
         "showlegend": true,
         "type": "scatter",
         "x": [
          2005,
          2006,
          2007,
          2008
         ],
         "xaxis": "x",
         "y": [
          6872,
          7048,
          6830,
          7030
         ],
         "yaxis": "y"
        },
        {
         "hovertemplate": "Município=Cajueiro<br>Ano de Referência=%{x}<br>População urbana com abastecimento de água=%{y}<extra></extra>",
         "legendgroup": "Cajueiro",
         "marker": {
          "color": "#FF6692",
          "symbol": "circle"
         },
         "mode": "markers",
         "name": "Cajueiro",
         "orientation": "v",
         "showlegend": true,
         "type": "scatter",
         "x": [
          1997,
          1998,
          1999,
          2000,
          2001,
          2002,
          2003,
          2004,
          2005,
          2006,
          2007,
          2008,
          2009,
          2010,
          2011,
          2012,
          2013,
          2014,
          2015,
          2016,
          2017,
          2018,
          2019,
          2020
         ],
         "xaxis": "x",
         "y": [
          14304,
          14304,
          14304,
          14051,
          14750,
          14750,
          14134,
          14192,
          14223,
          14255,
          16024,
          16498,
          16622,
          16484,
          16574,
          16659,
          17349,
          17172,
          17248,
          17319,
          17386,
          17118,
          17175,
          17229
         ],
         "yaxis": "y"
        },
        {
         "hovertemplate": "Município=Campestre<br>Ano de Referência=%{x}<br>População urbana com abastecimento de água=%{y}<extra></extra>",
         "legendgroup": "Campestre",
         "marker": {
          "color": "#B6E880",
          "symbol": "circle"
         },
         "mode": "markers",
         "name": "Campestre",
         "orientation": "v",
         "showlegend": true,
         "type": "scatter",
         "x": [
          2016,
          2017,
          2018,
          2020
         ],
         "xaxis": "x",
         "y": [
          5879,
          5898,
          5809,
          5839
         ],
         "yaxis": "y"
        },
        {
         "hovertemplate": "Município=Campo Alegre<br>Ano de Referência=%{x}<br>População urbana com abastecimento de água=%{y}<extra></extra>",
         "legendgroup": "Campo Alegre",
         "marker": {
          "color": "#FF97FF",
          "symbol": "circle"
         },
         "mode": "markers",
         "name": "Campo Alegre",
         "orientation": "v",
         "showlegend": true,
         "type": "scatter",
         "x": [
          2009,
          2010,
          2011,
          2012,
          2013,
          2014,
          2016,
          2017,
          2018,
          2019,
          2020
         ],
         "xaxis": "x",
         "y": [
          19375,
          22161,
          22496,
          22820,
          24056,
          24341,
          24861,
          25097,
          24674,
          24885,
          25092
         ],
         "yaxis": "y"
        },
        {
         "hovertemplate": "Município=Chã Preta<br>Ano de Referência=%{x}<br>População urbana com abastecimento de água=%{y}<extra></extra>",
         "legendgroup": "Chã Preta",
         "marker": {
          "color": "#FECB52",
          "symbol": "circle"
         },
         "mode": "markers",
         "name": "Chã Preta",
         "orientation": "v",
         "showlegend": true,
         "type": "scatter",
         "x": [
          2005,
          2006,
          2007,
          2010,
          2011,
          2020
         ],
         "xaxis": "x",
         "y": [
          3543,
          3520,
          3685,
          4488,
          4488,
          4592
         ],
         "yaxis": "y"
        },
        {
         "hovertemplate": "Município=Coruripe<br>Ano de Referência=%{x}<br>População urbana com abastecimento de água=%{y}<extra></extra>",
         "legendgroup": "Coruripe",
         "marker": {
          "color": "#636efa",
          "symbol": "circle"
         },
         "mode": "markers",
         "name": "Coruripe",
         "orientation": "v",
         "showlegend": true,
         "type": "scatter",
         "x": [
          2009,
          2011,
          2012,
          2013,
          2014,
          2015,
          2016,
          2017,
          2018,
          2019,
          2020
         ],
         "xaxis": "x",
         "y": [
          44639,
          46561,
          47009,
          49150,
          49596,
          50018,
          50414,
          50784,
          49957,
          50285,
          50604
         ],
         "yaxis": "y"
        },
        {
         "hovertemplate": "Município=Delmiro Gouveia<br>Ano de Referência=%{x}<br>População urbana com abastecimento de água=%{y}<extra></extra>",
         "legendgroup": "Delmiro Gouveia",
         "marker": {
          "color": "#EF553B",
          "symbol": "circle"
         },
         "mode": "markers",
         "name": "Delmiro Gouveia",
         "orientation": "v",
         "showlegend": true,
         "type": "scatter",
         "x": [
          2010,
          2011,
          2012,
          2013,
          2014,
          2015,
          2020
         ],
         "xaxis": "x",
         "y": [
          34854,
          35142,
          35419,
          36958,
          37211,
          37681,
          37873
         ],
         "yaxis": "y"
        },
        {
         "hovertemplate": "Município=Feira Grande<br>Ano de Referência=%{x}<br>População urbana com abastecimento de água=%{y}<extra></extra>",
         "legendgroup": "Feira Grande",
         "marker": {
          "color": "#00cc96",
          "symbol": "circle"
         },
         "mode": "markers",
         "name": "Feira Grande",
         "orientation": "v",
         "showlegend": true,
         "type": "scatter",
         "x": [
          2020
         ],
         "xaxis": "x",
         "y": [
          3559
         ],
         "yaxis": "y"
        },
        {
         "hovertemplate": "Município=Feliz Deserto<br>Ano de Referência=%{x}<br>População urbana com abastecimento de água=%{y}<extra></extra>",
         "legendgroup": "Feliz Deserto",
         "marker": {
          "color": "#ab63fa",
          "symbol": "circle"
         },
         "mode": "markers",
         "name": "Feliz Deserto",
         "orientation": "v",
         "showlegend": true,
         "type": "scatter",
         "x": [
          2012,
          2019,
          2020
         ],
         "xaxis": "x",
         "y": [
          3591,
          3809,
          3829
         ],
         "yaxis": "y"
        },
        {
         "hovertemplate": "Município=Flexeiras<br>Ano de Referência=%{x}<br>População urbana com abastecimento de água=%{y}<extra></extra>",
         "legendgroup": "Flexeiras",
         "marker": {
          "color": "#FFA15A",
          "symbol": "circle"
         },
         "mode": "markers",
         "name": "Flexeiras",
         "orientation": "v",
         "showlegend": true,
         "type": "scatter",
         "x": [
          2014,
          2020
         ],
         "xaxis": "x",
         "y": [
          8385,
          8331
         ],
         "yaxis": "y"
        },
        {
         "hovertemplate": "Município=Ibateguara<br>Ano de Referência=%{x}<br>População urbana com abastecimento de água=%{y}<extra></extra>",
         "legendgroup": "Ibateguara",
         "marker": {
          "color": "#19d3f3",
          "symbol": "circle"
         },
         "mode": "markers",
         "name": "Ibateguara",
         "orientation": "v",
         "showlegend": true,
         "type": "scatter",
         "x": [
          2020
         ],
         "xaxis": "x",
         "y": [
          9630
         ],
         "yaxis": "y"
        },
        {
         "hovertemplate": "Município=Igaci<br>Ano de Referência=%{x}<br>População urbana com abastecimento de água=%{y}<extra></extra>",
         "legendgroup": "Igaci",
         "marker": {
          "color": "#FF6692",
          "symbol": "circle"
         },
         "mode": "markers",
         "name": "Igaci",
         "orientation": "v",
         "showlegend": true,
         "type": "scatter",
         "x": [
          2020
         ],
         "xaxis": "x",
         "y": [
          6288
         ],
         "yaxis": "y"
        },
        {
         "hovertemplate": "Município=Jacuípe<br>Ano de Referência=%{x}<br>População urbana com abastecimento de água=%{y}<extra></extra>",
         "legendgroup": "Jacuípe",
         "marker": {
          "color": "#B6E880",
          "symbol": "circle"
         },
         "mode": "markers",
         "name": "Jacuípe",
         "orientation": "v",
         "showlegend": true,
         "type": "scatter",
         "x": [
          2011
         ],
         "xaxis": "x",
         "y": [
          4340
         ],
         "yaxis": "y"
        },
        {
         "hovertemplate": "Município=Jaramataia<br>Ano de Referência=%{x}<br>População urbana com abastecimento de água=%{y}<extra></extra>",
         "legendgroup": "Jaramataia",
         "marker": {
          "color": "#FF97FF",
          "symbol": "circle"
         },
         "mode": "markers",
         "name": "Jaramataia",
         "orientation": "v",
         "showlegend": true,
         "type": "scatter",
         "x": [
          2018,
          2019
         ],
         "xaxis": "x",
         "y": [
          2933,
          3024
         ],
         "yaxis": "y"
        },
        {
         "hovertemplate": "Município=Jequiá da Praia<br>Ano de Referência=%{x}<br>População urbana com abastecimento de água=%{y}<extra></extra>",
         "legendgroup": "Jequiá da Praia",
         "marker": {
          "color": "#FECB52",
          "symbol": "circle"
         },
         "mode": "markers",
         "name": "Jequiá da Praia",
         "orientation": "v",
         "showlegend": true,
         "type": "scatter",
         "x": [
          2012,
          2013,
          2014,
          2016,
          2020
         ],
         "xaxis": "x",
         "y": [
          2845,
          2865,
          2852,
          2830,
          2761
         ],
         "yaxis": "y"
        },
        {
         "hovertemplate": "Município=Limoeiro de Anadia<br>Ano de Referência=%{x}<br>População urbana com abastecimento de água=%{y}<extra></extra>",
         "legendgroup": "Limoeiro de Anadia",
         "marker": {
          "color": "#636efa",
          "symbol": "circle"
         },
         "mode": "markers",
         "name": "Limoeiro de Anadia",
         "orientation": "v",
         "showlegend": true,
         "type": "scatter",
         "x": [
          2009,
          2010,
          2014,
          2015,
          2016
         ],
         "xaxis": "x",
         "y": [
          2224,
          2246,
          2366,
          2382,
          2396
         ],
         "yaxis": "y"
        },
        {
         "hovertemplate": "Município=Maceió<br>Ano de Referência=%{x}<br>População urbana com abastecimento de água=%{y}<extra></extra>",
         "legendgroup": "Maceió",
         "marker": {
          "color": "#EF553B",
          "symbol": "circle"
         },
         "mode": "markers",
         "name": "Maceió",
         "orientation": "v",
         "showlegend": true,
         "type": "scatter",
         "x": [
          1995,
          1996,
          1997,
          1998,
          1999,
          2000,
          2001,
          2002,
          2003,
          2004,
          2005,
          2006,
          2007,
          2008,
          2009,
          2010,
          2011,
          2012,
          2013,
          2014,
          2015,
          2016,
          2017,
          2018,
          2019,
          2020
         ],
         "xaxis": "x",
         "y": [
          1420000,
          1566950,
          1632716,
          1710853,
          1533897,
          1625718,
          1691417,
          1732443,
          1699378,
          1729553,
          1755779,
          1781808,
          1821811,
          1865589,
          1884915,
          1834607,
          1850329,
          1865653,
          1947129,
          1960988,
          1974121,
          1986378,
          1997823,
          1966072,
          1976034,
          1985774
         ],
         "yaxis": "y"
        },
        {
         "hovertemplate": "Município=Mar Vermelho<br>Ano de Referência=%{x}<br>População urbana com abastecimento de água=%{y}<extra></extra>",
         "legendgroup": "Mar Vermelho",
         "marker": {
          "color": "#00cc96",
          "symbol": "circle"
         },
         "mode": "markers",
         "name": "Mar Vermelho",
         "orientation": "v",
         "showlegend": true,
         "type": "scatter",
         "x": [
          2020
         ],
         "xaxis": "x",
         "y": [
          1567
         ],
         "yaxis": "y"
        },
        {
         "hovertemplate": "Município=Marechal Deodoro<br>Ano de Referência=%{x}<br>População urbana com abastecimento de água=%{y}<extra></extra>",
         "legendgroup": "Marechal Deodoro",
         "marker": {
          "color": "#ab63fa",
          "symbol": "circle"
         },
         "mode": "markers",
         "name": "Marechal Deodoro",
         "orientation": "v",
         "showlegend": true,
         "type": "scatter",
         "x": [
          1997,
          1998,
          1999,
          2000,
          2002,
          2003,
          2004,
          2005,
          2006,
          2007,
          2008,
          2009,
          2010,
          2011,
          2012,
          2013,
          2014,
          2015,
          2017,
          2018,
          2019,
          2020
         ],
         "xaxis": "x",
         "y": [
          15040,
          13135,
          14740,
          29801,
          15710,
          32670,
          34556,
          35600,
          36635,
          37578,
          38763,
          39644,
          43392,
          44125,
          44833,
          47050,
          47672,
          48257,
          49322,
          48476,
          48983,
          49435
         ],
         "yaxis": "y"
        },
        {
         "hovertemplate": "Município=Messias<br>Ano de Referência=%{x}<br>População urbana com abastecimento de água=%{y}<extra></extra>",
         "legendgroup": "Messias",
         "marker": {
          "color": "#FFA15A",
          "symbol": "circle"
         },
         "mode": "markers",
         "name": "Messias",
         "orientation": "v",
         "showlegend": true,
         "type": "scatter",
         "x": [
          2012,
          2013,
          2014
         ],
         "xaxis": "x",
         "y": [
          14818,
          15562,
          15780
         ],
         "yaxis": "y"
        },
        {
         "hovertemplate": "Município=Murici<br>Ano de Referência=%{x}<br>População urbana com abastecimento de água=%{y}<extra></extra>",
         "legendgroup": "Murici",
         "marker": {
          "color": "#19d3f3",
          "symbol": "circle"
         },
         "mode": "markers",
         "name": "Murici",
         "orientation": "v",
         "showlegend": true,
         "type": "scatter",
         "x": [
          2009
         ],
         "xaxis": "x",
         "y": [
          21605
         ],
         "yaxis": "y"
        },
        {
         "hovertemplate": "Município=Novo Lino<br>Ano de Referência=%{x}<br>População urbana com abastecimento de água=%{y}<extra></extra>",
         "legendgroup": "Novo Lino",
         "marker": {
          "color": "#FF6692",
          "symbol": "circle"
         },
         "mode": "markers",
         "name": "Novo Lino",
         "orientation": "v",
         "showlegend": true,
         "type": "scatter",
         "x": [
          2018
         ],
         "xaxis": "x",
         "y": [
          7665
         ],
         "yaxis": "y"
        },
        {
         "hovertemplate": "Município=Olho d Água do Casado<br>Ano de Referência=%{x}<br>População urbana com abastecimento de água=%{y}<extra></extra>",
         "legendgroup": "Olho d Água do Casado",
         "marker": {
          "color": "#B6E880",
          "symbol": "circle"
         },
         "mode": "markers",
         "name": "Olho d Água do Casado",
         "orientation": "v",
         "showlegend": true,
         "type": "scatter",
         "x": [
          2020
         ],
         "xaxis": "x",
         "y": [
          4478
         ],
         "yaxis": "y"
        },
        {
         "hovertemplate": "Município=Penedo<br>Ano de Referência=%{x}<br>População urbana com abastecimento de água=%{y}<extra></extra>",
         "legendgroup": "Penedo",
         "marker": {
          "color": "#FF97FF",
          "symbol": "circle"
         },
         "mode": "markers",
         "name": "Penedo",
         "orientation": "v",
         "showlegend": true,
         "type": "scatter",
         "x": [
          1999,
          2000,
          2001,
          2002,
          2003,
          2004,
          2005,
          2006,
          2007,
          2008,
          2009,
          2010,
          2011,
          2012,
          2013,
          2014,
          2015,
          2016,
          2017,
          2018,
          2019,
          2020
         ],
         "xaxis": "x",
         "y": [
          44842,
          41293,
          41293,
          46184,
          42611,
          43321,
          43714,
          44103,
          43880,
          45166,
          45413,
          45020,
          45214,
          45402,
          47419,
          47603,
          47776,
          47938,
          48091,
          47360,
          47484,
          47606
         ],
         "yaxis": "y"
        },
        {
         "hovertemplate": "Município=Piaçabuçu<br>Ano de Referência=%{x}<br>População urbana com abastecimento de água=%{y}<extra></extra>",
         "legendgroup": "Piaçabuçu",
         "marker": {
          "color": "#FECB52",
          "symbol": "circle"
         },
         "mode": "markers",
         "name": "Piaçabuçu",
         "orientation": "v",
         "showlegend": true,
         "type": "scatter",
         "x": [
          2020
         ],
         "xaxis": "x",
         "y": [
          10827
         ],
         "yaxis": "y"
        },
        {
         "hovertemplate": "Município=Pilar<br>Ano de Referência=%{x}<br>População urbana com abastecimento de água=%{y}<extra></extra>",
         "legendgroup": "Pilar",
         "marker": {
          "color": "#636efa",
          "symbol": "circle"
         },
         "mode": "markers",
         "name": "Pilar",
         "orientation": "v",
         "showlegend": true,
         "type": "scatter",
         "x": [
          2012,
          2013,
          2014,
          2015,
          2020
         ],
         "xaxis": "x",
         "y": [
          32105,
          33422,
          33566,
          33701,
          33622
         ],
         "yaxis": "y"
        },
        {
         "hovertemplate": "Município=Porto Calvo<br>Ano de Referência=%{x}<br>População urbana com abastecimento de água=%{y}<extra></extra>",
         "legendgroup": "Porto Calvo",
         "marker": {
          "color": "#EF553B",
          "symbol": "circle"
         },
         "mode": "markers",
         "name": "Porto Calvo",
         "orientation": "v",
         "showlegend": true,
         "type": "scatter",
         "x": [
          2017,
          2018,
          2019,
          2020
         ],
         "xaxis": "x",
         "y": [
          21606,
          21274,
          21342,
          21408
         ],
         "yaxis": "y"
        },
        {
         "hovertemplate": "Município=Porto Real do Colégio<br>Ano de Referência=%{x}<br>População urbana com abastecimento de água=%{y}<extra></extra>",
         "legendgroup": "Porto Real do Colégio",
         "marker": {
          "color": "#00cc96",
          "symbol": "circle"
         },
         "mode": "markers",
         "name": "Porto Real do Colégio",
         "orientation": "v",
         "showlegend": true,
         "type": "scatter",
         "x": [
          2001,
          2002,
          2003,
          2005,
          2006,
          2010
         ],
         "xaxis": "x",
         "y": [
          5390,
          5960,
          6040,
          6122,
          6152,
          6606
         ],
         "yaxis": "y"
        },
        {
         "hovertemplate": "Município=Pão de Açúcar<br>Ano de Referência=%{x}<br>População urbana com abastecimento de água=%{y}<extra></extra>",
         "legendgroup": "Pão de Açúcar",
         "marker": {
          "color": "#ab63fa",
          "symbol": "circle"
         },
         "mode": "markers",
         "name": "Pão de Açúcar",
         "orientation": "v",
         "showlegend": true,
         "type": "scatter",
         "x": [
          1998,
          1999,
          2000,
          2001,
          2002,
          2003,
          2004,
          2005,
          2006,
          2007,
          2008,
          2009,
          2010,
          2011,
          2012,
          2013,
          2014,
          2015,
          2016,
          2017,
          2018,
          2020
         ],
         "xaxis": "x",
         "y": [
          9489,
          9849,
          10812,
          10806,
          10806,
          11195,
          11454,
          11597,
          11739,
          10455,
          10754,
          10753,
          10769,
          10732,
          10697,
          11295,
          11272,
          11252,
          11232,
          11213,
          11056,
          11013
         ],
         "yaxis": "y"
        },
        {
         "hovertemplate": "Município=Quebrangulo<br>Ano de Referência=%{x}<br>População urbana com abastecimento de água=%{y}<extra></extra>",
         "legendgroup": "Quebrangulo",
         "marker": {
          "color": "#FFA15A",
          "symbol": "circle"
         },
         "mode": "markers",
         "name": "Quebrangulo",
         "orientation": "v",
         "showlegend": true,
         "type": "scatter",
         "x": [
          2010
         ],
         "xaxis": "x",
         "y": [
          6474
         ],
         "yaxis": "y"
        },
        {
         "hovertemplate": "Município=Roteiro<br>Ano de Referência=%{x}<br>População urbana com abastecimento de água=%{y}<extra></extra>",
         "legendgroup": "Roteiro",
         "marker": {
          "color": "#19d3f3",
          "symbol": "circle"
         },
         "mode": "markers",
         "name": "Roteiro",
         "orientation": "v",
         "showlegend": true,
         "type": "scatter",
         "x": [
          2012,
          2018,
          2019,
          2020
         ],
         "xaxis": "x",
         "y": [
          5787,
          5851,
          5837,
          5824
         ],
         "yaxis": "y"
        },
        {
         "hovertemplate": "Município=Santana do Mundaú<br>Ano de Referência=%{x}<br>População urbana com abastecimento de água=%{y}<extra></extra>",
         "legendgroup": "Santana do Mundaú",
         "marker": {
          "color": "#FF6692",
          "symbol": "circle"
         },
         "mode": "markers",
         "name": "Santana do Mundaú",
         "orientation": "v",
         "showlegend": true,
         "type": "scatter",
         "x": [
          2012,
          2013,
          2014,
          2015,
          2020
         ],
         "xaxis": "x",
         "y": [
          5571,
          5747,
          5714,
          5683,
          5517
         ],
         "yaxis": "y"
        },
        {
         "hovertemplate": "Município=São José da Laje<br>Ano de Referência=%{x}<br>População urbana com abastecimento de água=%{y}<extra></extra>",
         "legendgroup": "São José da Laje",
         "marker": {
          "color": "#B6E880",
          "symbol": "circle"
         },
         "mode": "markers",
         "name": "São José da Laje",
         "orientation": "v",
         "showlegend": true,
         "type": "scatter",
         "x": [
          2012,
          2013,
          2018,
          2019,
          2020
         ],
         "xaxis": "x",
         "y": [
          15540,
          16179,
          16184,
          16233,
          16280
         ],
         "yaxis": "y"
        },
        {
         "hovertemplate": "Município=São Luís do Quitunde<br>Ano de Referência=%{x}<br>População urbana com abastecimento de água=%{y}<extra></extra>",
         "legendgroup": "São Luís do Quitunde",
         "marker": {
          "color": "#FF97FF",
          "symbol": "circle"
         },
         "mode": "markers",
         "name": "São Luís do Quitunde",
         "orientation": "v",
         "showlegend": true,
         "type": "scatter",
         "x": [
          2005,
          2006
         ],
         "xaxis": "x",
         "y": [
          16895,
          16782
         ],
         "yaxis": "y"
        },
        {
         "hovertemplate": "Município=São Miguel dos Campos<br>Ano de Referência=%{x}<br>População urbana com abastecimento de água=%{y}<extra></extra>",
         "legendgroup": "São Miguel dos Campos",
         "marker": {
          "color": "#FECB52",
          "symbol": "circle"
         },
         "mode": "markers",
         "name": "São Miguel dos Campos",
         "orientation": "v",
         "showlegend": true,
         "type": "scatter",
         "x": [
          1999,
          2000,
          2001,
          2003,
          2005,
          2006,
          2007,
          2008,
          2010,
          2011,
          2012,
          2013,
          2014,
          2015,
          2016,
          2017,
          2018,
          2019,
          2020
         ],
         "xaxis": "x",
         "y": [
          34245,
          35801,
          47079,
          35019,
          35045,
          35053,
          54996,
          50765,
          52566,
          53419,
          54244,
          56900,
          57625,
          58308,
          58949,
          59549,
          58536,
          58994,
          59520
         ],
         "yaxis": "y"
        },
        {
         "hovertemplate": "Município=São Miguel dos Milagres<br>Ano de Referência=%{x}<br>População urbana com abastecimento de água=%{y}<extra></extra>",
         "legendgroup": "São Miguel dos Milagres",
         "marker": {
          "color": "#636efa",
          "symbol": "circle"
         },
         "mode": "markers",
         "name": "São Miguel dos Milagres",
         "orientation": "v",
         "showlegend": true,
         "type": "scatter",
         "x": [
          2006,
          2011,
          2020
         ],
         "xaxis": "x",
         "y": [
          1956,
          2293,
          2529
         ],
         "yaxis": "y"
        },
        {
         "hovertemplate": "Município=Tanque d Arca<br>Ano de Referência=%{x}<br>População urbana com abastecimento de água=%{y}<extra></extra>",
         "legendgroup": "Tanque d Arca",
         "marker": {
          "color": "#EF553B",
          "symbol": "circle"
         },
         "mode": "markers",
         "name": "Tanque d Arca",
         "orientation": "v",
         "showlegend": true,
         "type": "scatter",
         "x": [
          2020
         ],
         "xaxis": "x",
         "y": [
          2146
         ],
         "yaxis": "y"
        },
        {
         "hovertemplate": "Município=Taquarana<br>Ano de Referência=%{x}<br>População urbana com abastecimento de água=%{y}<extra></extra>",
         "legendgroup": "Taquarana",
         "marker": {
          "color": "#00cc96",
          "symbol": "circle"
         },
         "mode": "markers",
         "name": "Taquarana",
         "orientation": "v",
         "showlegend": true,
         "type": "scatter",
         "x": [
          2016,
          2017,
          2018
         ],
         "xaxis": "x",
         "y": [
          7728,
          7770,
          7647
         ],
         "yaxis": "y"
        },
        {
         "hovertemplate": "Município=Teotônio Vilela<br>Ano de Referência=%{x}<br>População urbana com abastecimento de água=%{y}<extra></extra>",
         "legendgroup": "Teotônio Vilela",
         "marker": {
          "color": "#ab63fa",
          "symbol": "circle"
         },
         "mode": "markers",
         "name": "Teotônio Vilela",
         "orientation": "v",
         "showlegend": true,
         "type": "scatter",
         "x": [
          2010,
          2011,
          2012,
          2013,
          2014,
          2015,
          2016,
          2017,
          2018,
          2019,
          2020
         ],
         "xaxis": "x",
         "y": [
          34785,
          35062,
          35330,
          36858,
          37104,
          37335,
          37552,
          37755,
          37159,
          37335,
          37507
         ],
         "yaxis": "y"
        },
        {
         "hovertemplate": "Município=União dos Palmares<br>Ano de Referência=%{x}<br>População urbana com abastecimento de água=%{y}<extra></extra>",
         "legendgroup": "União dos Palmares",
         "marker": {
          "color": "#FFA15A",
          "symbol": "circle"
         },
         "mode": "markers",
         "name": "União dos Palmares",
         "orientation": "v",
         "showlegend": true,
         "type": "scatter",
         "x": [
          1998,
          2000,
          2001,
          2002,
          2003,
          2004,
          2005,
          2006,
          2007,
          2008,
          2009,
          2010,
          2011,
          2012,
          2013,
          2014,
          2015,
          2016,
          2017,
          2018,
          2019,
          2020
         ],
         "xaxis": "x",
         "y": [
          43865,
          37865,
          37865,
          37869,
          38107,
          38265,
          38353,
          38439,
          44513,
          45817,
          46061,
          47651,
          47870,
          48083,
          50048,
          50254,
          50447,
          50629,
          50799,
          50022,
          50137,
          50274
         ],
         "yaxis": "y"
        },
        {
         "hovertemplate": "Município=Viçosa<br>Ano de Referência=%{x}<br>População urbana com abastecimento de água=%{y}<extra></extra>",
         "legendgroup": "Viçosa",
         "marker": {
          "color": "#19d3f3",
          "symbol": "circle"
         },
         "mode": "markers",
         "name": "Viçosa",
         "orientation": "v",
         "showlegend": true,
         "type": "scatter",
         "x": [
          2006,
          2007,
          2008,
          2009,
          2010,
          2011,
          2012,
          2013,
          2014,
          2015,
          2016,
          2017,
          2018,
          2019,
          2020
         ],
         "xaxis": "x",
         "y": [
          18945,
          18907,
          19451,
          19473,
          18313,
          18266,
          18296,
          18949,
          18920,
          18893,
          18867,
          18843,
          18577,
          18548,
          18519
         ],
         "yaxis": "y"
        },
        {
         "hovertemplate": "Município=Água Branca<br>Ano de Referência=%{x}<br>População urbana com abastecimento de água=%{y}<extra></extra>",
         "legendgroup": "Água Branca",
         "marker": {
          "color": "#FF6692",
          "symbol": "circle"
         },
         "mode": "markers",
         "name": "Água Branca",
         "orientation": "v",
         "showlegend": true,
         "type": "scatter",
         "x": [
          2016,
          2017,
          2020
         ],
         "xaxis": "x",
         "y": [
          5376,
          5388,
          5326
         ],
         "yaxis": "y"
        }
       ],
       "layout": {
        "autosize": true,
        "legend": {
         "title": {
          "text": "Município"
         },
         "tracegroupgap": 0
        },
        "margin": {
         "t": 60
        },
        "template": {
         "data": {
          "bar": [
           {
            "error_x": {
             "color": "#2a3f5f"
            },
            "error_y": {
             "color": "#2a3f5f"
            },
            "marker": {
             "line": {
              "color": "#E5ECF6",
              "width": 0.5
             },
             "pattern": {
              "fillmode": "overlay",
              "size": 10,
              "solidity": 0.2
             }
            },
            "type": "bar"
           }
          ],
          "barpolar": [
           {
            "marker": {
             "line": {
              "color": "#E5ECF6",
              "width": 0.5
             },
             "pattern": {
              "fillmode": "overlay",
              "size": 10,
              "solidity": 0.2
             }
            },
            "type": "barpolar"
           }
          ],
          "carpet": [
           {
            "aaxis": {
             "endlinecolor": "#2a3f5f",
             "gridcolor": "white",
             "linecolor": "white",
             "minorgridcolor": "white",
             "startlinecolor": "#2a3f5f"
            },
            "baxis": {
             "endlinecolor": "#2a3f5f",
             "gridcolor": "white",
             "linecolor": "white",
             "minorgridcolor": "white",
             "startlinecolor": "#2a3f5f"
            },
            "type": "carpet"
           }
          ],
          "choropleth": [
           {
            "colorbar": {
             "outlinewidth": 0,
             "ticks": ""
            },
            "type": "choropleth"
           }
          ],
          "contour": [
           {
            "colorbar": {
             "outlinewidth": 0,
             "ticks": ""
            },
            "colorscale": [
             [
              0,
              "#0d0887"
             ],
             [
              0.1111111111111111,
              "#46039f"
             ],
             [
              0.2222222222222222,
              "#7201a8"
             ],
             [
              0.3333333333333333,
              "#9c179e"
             ],
             [
              0.4444444444444444,
              "#bd3786"
             ],
             [
              0.5555555555555556,
              "#d8576b"
             ],
             [
              0.6666666666666666,
              "#ed7953"
             ],
             [
              0.7777777777777778,
              "#fb9f3a"
             ],
             [
              0.8888888888888888,
              "#fdca26"
             ],
             [
              1,
              "#f0f921"
             ]
            ],
            "type": "contour"
           }
          ],
          "contourcarpet": [
           {
            "colorbar": {
             "outlinewidth": 0,
             "ticks": ""
            },
            "type": "contourcarpet"
           }
          ],
          "heatmap": [
           {
            "colorbar": {
             "outlinewidth": 0,
             "ticks": ""
            },
            "colorscale": [
             [
              0,
              "#0d0887"
             ],
             [
              0.1111111111111111,
              "#46039f"
             ],
             [
              0.2222222222222222,
              "#7201a8"
             ],
             [
              0.3333333333333333,
              "#9c179e"
             ],
             [
              0.4444444444444444,
              "#bd3786"
             ],
             [
              0.5555555555555556,
              "#d8576b"
             ],
             [
              0.6666666666666666,
              "#ed7953"
             ],
             [
              0.7777777777777778,
              "#fb9f3a"
             ],
             [
              0.8888888888888888,
              "#fdca26"
             ],
             [
              1,
              "#f0f921"
             ]
            ],
            "type": "heatmap"
           }
          ],
          "heatmapgl": [
           {
            "colorbar": {
             "outlinewidth": 0,
             "ticks": ""
            },
            "colorscale": [
             [
              0,
              "#0d0887"
             ],
             [
              0.1111111111111111,
              "#46039f"
             ],
             [
              0.2222222222222222,
              "#7201a8"
             ],
             [
              0.3333333333333333,
              "#9c179e"
             ],
             [
              0.4444444444444444,
              "#bd3786"
             ],
             [
              0.5555555555555556,
              "#d8576b"
             ],
             [
              0.6666666666666666,
              "#ed7953"
             ],
             [
              0.7777777777777778,
              "#fb9f3a"
             ],
             [
              0.8888888888888888,
              "#fdca26"
             ],
             [
              1,
              "#f0f921"
             ]
            ],
            "type": "heatmapgl"
           }
          ],
          "histogram": [
           {
            "marker": {
             "pattern": {
              "fillmode": "overlay",
              "size": 10,
              "solidity": 0.2
             }
            },
            "type": "histogram"
           }
          ],
          "histogram2d": [
           {
            "colorbar": {
             "outlinewidth": 0,
             "ticks": ""
            },
            "colorscale": [
             [
              0,
              "#0d0887"
             ],
             [
              0.1111111111111111,
              "#46039f"
             ],
             [
              0.2222222222222222,
              "#7201a8"
             ],
             [
              0.3333333333333333,
              "#9c179e"
             ],
             [
              0.4444444444444444,
              "#bd3786"
             ],
             [
              0.5555555555555556,
              "#d8576b"
             ],
             [
              0.6666666666666666,
              "#ed7953"
             ],
             [
              0.7777777777777778,
              "#fb9f3a"
             ],
             [
              0.8888888888888888,
              "#fdca26"
             ],
             [
              1,
              "#f0f921"
             ]
            ],
            "type": "histogram2d"
           }
          ],
          "histogram2dcontour": [
           {
            "colorbar": {
             "outlinewidth": 0,
             "ticks": ""
            },
            "colorscale": [
             [
              0,
              "#0d0887"
             ],
             [
              0.1111111111111111,
              "#46039f"
             ],
             [
              0.2222222222222222,
              "#7201a8"
             ],
             [
              0.3333333333333333,
              "#9c179e"
             ],
             [
              0.4444444444444444,
              "#bd3786"
             ],
             [
              0.5555555555555556,
              "#d8576b"
             ],
             [
              0.6666666666666666,
              "#ed7953"
             ],
             [
              0.7777777777777778,
              "#fb9f3a"
             ],
             [
              0.8888888888888888,
              "#fdca26"
             ],
             [
              1,
              "#f0f921"
             ]
            ],
            "type": "histogram2dcontour"
           }
          ],
          "mesh3d": [
           {
            "colorbar": {
             "outlinewidth": 0,
             "ticks": ""
            },
            "type": "mesh3d"
           }
          ],
          "parcoords": [
           {
            "line": {
             "colorbar": {
              "outlinewidth": 0,
              "ticks": ""
             }
            },
            "type": "parcoords"
           }
          ],
          "pie": [
           {
            "automargin": true,
            "type": "pie"
           }
          ],
          "scatter": [
           {
            "marker": {
             "colorbar": {
              "outlinewidth": 0,
              "ticks": ""
             }
            },
            "type": "scatter"
           }
          ],
          "scatter3d": [
           {
            "line": {
             "colorbar": {
              "outlinewidth": 0,
              "ticks": ""
             }
            },
            "marker": {
             "colorbar": {
              "outlinewidth": 0,
              "ticks": ""
             }
            },
            "type": "scatter3d"
           }
          ],
          "scattercarpet": [
           {
            "marker": {
             "colorbar": {
              "outlinewidth": 0,
              "ticks": ""
             }
            },
            "type": "scattercarpet"
           }
          ],
          "scattergeo": [
           {
            "marker": {
             "colorbar": {
              "outlinewidth": 0,
              "ticks": ""
             }
            },
            "type": "scattergeo"
           }
          ],
          "scattergl": [
           {
            "marker": {
             "colorbar": {
              "outlinewidth": 0,
              "ticks": ""
             }
            },
            "type": "scattergl"
           }
          ],
          "scattermapbox": [
           {
            "marker": {
             "colorbar": {
              "outlinewidth": 0,
              "ticks": ""
             }
            },
            "type": "scattermapbox"
           }
          ],
          "scatterpolar": [
           {
            "marker": {
             "colorbar": {
              "outlinewidth": 0,
              "ticks": ""
             }
            },
            "type": "scatterpolar"
           }
          ],
          "scatterpolargl": [
           {
            "marker": {
             "colorbar": {
              "outlinewidth": 0,
              "ticks": ""
             }
            },
            "type": "scatterpolargl"
           }
          ],
          "scatterternary": [
           {
            "marker": {
             "colorbar": {
              "outlinewidth": 0,
              "ticks": ""
             }
            },
            "type": "scatterternary"
           }
          ],
          "surface": [
           {
            "colorbar": {
             "outlinewidth": 0,
             "ticks": ""
            },
            "colorscale": [
             [
              0,
              "#0d0887"
             ],
             [
              0.1111111111111111,
              "#46039f"
             ],
             [
              0.2222222222222222,
              "#7201a8"
             ],
             [
              0.3333333333333333,
              "#9c179e"
             ],
             [
              0.4444444444444444,
              "#bd3786"
             ],
             [
              0.5555555555555556,
              "#d8576b"
             ],
             [
              0.6666666666666666,
              "#ed7953"
             ],
             [
              0.7777777777777778,
              "#fb9f3a"
             ],
             [
              0.8888888888888888,
              "#fdca26"
             ],
             [
              1,
              "#f0f921"
             ]
            ],
            "type": "surface"
           }
          ],
          "table": [
           {
            "cells": {
             "fill": {
              "color": "#EBF0F8"
             },
             "line": {
              "color": "white"
             }
            },
            "header": {
             "fill": {
              "color": "#C8D4E3"
             },
             "line": {
              "color": "white"
             }
            },
            "type": "table"
           }
          ]
         },
         "layout": {
          "annotationdefaults": {
           "arrowcolor": "#2a3f5f",
           "arrowhead": 0,
           "arrowwidth": 1
          },
          "autotypenumbers": "strict",
          "coloraxis": {
           "colorbar": {
            "outlinewidth": 0,
            "ticks": ""
           }
          },
          "colorscale": {
           "diverging": [
            [
             0,
             "#8e0152"
            ],
            [
             0.1,
             "#c51b7d"
            ],
            [
             0.2,
             "#de77ae"
            ],
            [
             0.3,
             "#f1b6da"
            ],
            [
             0.4,
             "#fde0ef"
            ],
            [
             0.5,
             "#f7f7f7"
            ],
            [
             0.6,
             "#e6f5d0"
            ],
            [
             0.7,
             "#b8e186"
            ],
            [
             0.8,
             "#7fbc41"
            ],
            [
             0.9,
             "#4d9221"
            ],
            [
             1,
             "#276419"
            ]
           ],
           "sequential": [
            [
             0,
             "#0d0887"
            ],
            [
             0.1111111111111111,
             "#46039f"
            ],
            [
             0.2222222222222222,
             "#7201a8"
            ],
            [
             0.3333333333333333,
             "#9c179e"
            ],
            [
             0.4444444444444444,
             "#bd3786"
            ],
            [
             0.5555555555555556,
             "#d8576b"
            ],
            [
             0.6666666666666666,
             "#ed7953"
            ],
            [
             0.7777777777777778,
             "#fb9f3a"
            ],
            [
             0.8888888888888888,
             "#fdca26"
            ],
            [
             1,
             "#f0f921"
            ]
           ],
           "sequentialminus": [
            [
             0,
             "#0d0887"
            ],
            [
             0.1111111111111111,
             "#46039f"
            ],
            [
             0.2222222222222222,
             "#7201a8"
            ],
            [
             0.3333333333333333,
             "#9c179e"
            ],
            [
             0.4444444444444444,
             "#bd3786"
            ],
            [
             0.5555555555555556,
             "#d8576b"
            ],
            [
             0.6666666666666666,
             "#ed7953"
            ],
            [
             0.7777777777777778,
             "#fb9f3a"
            ],
            [
             0.8888888888888888,
             "#fdca26"
            ],
            [
             1,
             "#f0f921"
            ]
           ]
          },
          "colorway": [
           "#636efa",
           "#EF553B",
           "#00cc96",
           "#ab63fa",
           "#FFA15A",
           "#19d3f3",
           "#FF6692",
           "#B6E880",
           "#FF97FF",
           "#FECB52"
          ],
          "font": {
           "color": "#2a3f5f"
          },
          "geo": {
           "bgcolor": "white",
           "lakecolor": "white",
           "landcolor": "#E5ECF6",
           "showlakes": true,
           "showland": true,
           "subunitcolor": "white"
          },
          "hoverlabel": {
           "align": "left"
          },
          "hovermode": "closest",
          "mapbox": {
           "style": "light"
          },
          "paper_bgcolor": "white",
          "plot_bgcolor": "#E5ECF6",
          "polar": {
           "angularaxis": {
            "gridcolor": "white",
            "linecolor": "white",
            "ticks": ""
           },
           "bgcolor": "#E5ECF6",
           "radialaxis": {
            "gridcolor": "white",
            "linecolor": "white",
            "ticks": ""
           }
          },
          "scene": {
           "xaxis": {
            "backgroundcolor": "#E5ECF6",
            "gridcolor": "white",
            "gridwidth": 2,
            "linecolor": "white",
            "showbackground": true,
            "ticks": "",
            "zerolinecolor": "white"
           },
           "yaxis": {
            "backgroundcolor": "#E5ECF6",
            "gridcolor": "white",
            "gridwidth": 2,
            "linecolor": "white",
            "showbackground": true,
            "ticks": "",
            "zerolinecolor": "white"
           },
           "zaxis": {
            "backgroundcolor": "#E5ECF6",
            "gridcolor": "white",
            "gridwidth": 2,
            "linecolor": "white",
            "showbackground": true,
            "ticks": "",
            "zerolinecolor": "white"
           }
          },
          "shapedefaults": {
           "line": {
            "color": "#2a3f5f"
           }
          },
          "ternary": {
           "aaxis": {
            "gridcolor": "white",
            "linecolor": "white",
            "ticks": ""
           },
           "baxis": {
            "gridcolor": "white",
            "linecolor": "white",
            "ticks": ""
           },
           "bgcolor": "#E5ECF6",
           "caxis": {
            "gridcolor": "white",
            "linecolor": "white",
            "ticks": ""
           }
          },
          "title": {
           "x": 0.05
          },
          "xaxis": {
           "automargin": true,
           "gridcolor": "white",
           "linecolor": "white",
           "ticks": "",
           "title": {
            "standoff": 15
           },
           "zerolinecolor": "white",
           "zerolinewidth": 2
          },
          "yaxis": {
           "automargin": true,
           "gridcolor": "white",
           "linecolor": "white",
           "ticks": "",
           "title": {
            "standoff": 15
           },
           "zerolinecolor": "white",
           "zerolinewidth": 2
          }
         }
        },
        "xaxis": {
         "anchor": "y",
         "autorange": true,
         "domain": [
          0,
          1
         ],
         "range": [
          1993.495447479458,
          2021.504552520542
         ],
         "title": {
          "text": "Ano de Referência"
         },
         "type": "linear"
        },
        "yaxis": {
         "anchor": "x",
         "autorange": true,
         "domain": [
          0,
          1
         ],
         "range": [
          -152998.7532808399,
          2152388.75328084
         ],
         "title": {
          "text": "População urbana com abastecimento de água"
         },
         "type": "linear"
        }
       }
      },
      "image/png": "[encoded data removed]",
      "text/html": [
       "<div>                            <div id=\"b465af26-fcc1-4e4c-aa7a-43ae25d54585\" class=\"plotly-graph-div\" style=\"height:525px; width:100%;\"></div>            <script type=\"text/javascript\">                require([\"plotly\"], function(Plotly) {                    window.PLOTLYENV=window.PLOTLYENV || {};                                    if (document.getElementById(\"b465af26-fcc1-4e4c-aa7a-43ae25d54585\")) {                    Plotly.newPlot(                        \"b465af26-fcc1-4e4c-aa7a-43ae25d54585\",                        [{\"hovertemplate\":\"Munic\\u00edpio=Arapiraca<br>Ano de Refer\\u00eancia=%{x}<br>Popula\\u00e7\\u00e3o urbana com abastecimento de \\u00e1gua=%{y}<extra></extra>\",\"legendgroup\":\"Arapiraca\",\"marker\":{\"color\":\"#636efa\",\"symbol\":\"circle\"},\"mode\":\"markers\",\"name\":\"Arapiraca\",\"orientation\":\"v\",\"showlegend\":true,\"x\":[2012,2013,2014,2015],\"xaxis\":\"x\",\"y\":[184987.0,193043.0,194475.0,195937.0],\"yaxis\":\"y\",\"type\":\"scatter\"},{\"hovertemplate\":\"Munic\\u00edpio=Atalaia<br>Ano de Refer\\u00eancia=%{x}<br>Popula\\u00e7\\u00e3o urbana com abastecimento de \\u00e1gua=%{y}<extra></extra>\",\"legendgroup\":\"Atalaia\",\"marker\":{\"color\":\"#EF553B\",\"symbol\":\"circle\"},\"mode\":\"markers\",\"name\":\"Atalaia\",\"orientation\":\"v\",\"showlegend\":true,\"x\":[1999,2000,2001,2002,2003,2004,2006,2007,2020],\"xaxis\":\"x\",\"y\":[16932.0,17889.0,19839.0,21000.0,18220.0,18400.0,18600.0,24794.0,23999.0],\"yaxis\":\"y\",\"type\":\"scatter\"},{\"hovertemplate\":\"Munic\\u00edpio=Barra de Santo Ant\\u00f4nio<br>Ano de Refer\\u00eancia=%{x}<br>Popula\\u00e7\\u00e3o urbana com abastecimento de \\u00e1gua=%{y}<extra></extra>\",\"legendgroup\":\"Barra de Santo Ant\\u00f4nio\",\"marker\":{\"color\":\"#00cc96\",\"symbol\":\"circle\"},\"mode\":\"markers\",\"name\":\"Barra de Santo Ant\\u00f4nio\",\"orientation\":\"v\",\"showlegend\":true,\"x\":[2013],\"xaxis\":\"x\",\"y\":[14309.0],\"yaxis\":\"y\",\"type\":\"scatter\"},{\"hovertemplate\":\"Munic\\u00edpio=Barra de S\\u00e3o Miguel<br>Ano de Refer\\u00eancia=%{x}<br>Popula\\u00e7\\u00e3o urbana com abastecimento de \\u00e1gua=%{y}<extra></extra>\",\"legendgroup\":\"Barra de S\\u00e3o Miguel\",\"marker\":{\"color\":\"#ab63fa\",\"symbol\":\"circle\"},\"mode\":\"markers\",\"name\":\"Barra de S\\u00e3o Miguel\",\"orientation\":\"v\",\"showlegend\":true,\"x\":[2012],\"xaxis\":\"x\",\"y\":[6677.0],\"yaxis\":\"y\",\"type\":\"scatter\"},{\"hovertemplate\":\"Munic\\u00edpio=Boca da Mata<br>Ano de Refer\\u00eancia=%{x}<br>Popula\\u00e7\\u00e3o urbana com abastecimento de \\u00e1gua=%{y}<extra></extra>\",\"legendgroup\":\"Boca da Mata\",\"marker\":{\"color\":\"#FFA15A\",\"symbol\":\"circle\"},\"mode\":\"markers\",\"name\":\"Boca da Mata\",\"orientation\":\"v\",\"showlegend\":true,\"x\":[1999,2000,2001,2002,2003,2004,2005,2006,2007,2009,2010,2012,2013,2014,2015,2016,2017,2018,2019,2020],\"xaxis\":\"x\",\"y\":[16385.0,15412.0,15412.0,18000.0,15815.0,16081.0,16228.0,16374.0,16495.0,17076.0,17450.0,17608.0,18329.0,18404.0,18549.0,18616.0,18678.0,18392.0,18469.0,18520.0],\"yaxis\":\"y\",\"type\":\"scatter\"},{\"hovertemplate\":\"Munic\\u00edpio=Branquinha<br>Ano de Refer\\u00eancia=%{x}<br>Popula\\u00e7\\u00e3o urbana com abastecimento de \\u00e1gua=%{y}<extra></extra>\",\"legendgroup\":\"Branquinha\",\"marker\":{\"color\":\"#19d3f3\",\"symbol\":\"circle\"},\"mode\":\"markers\",\"name\":\"Branquinha\",\"orientation\":\"v\",\"showlegend\":true,\"x\":[2005,2006,2007,2008],\"xaxis\":\"x\",\"y\":[6872.0,7048.0,6830.0,7030.0],\"yaxis\":\"y\",\"type\":\"scatter\"},{\"hovertemplate\":\"Munic\\u00edpio=Cajueiro<br>Ano de Refer\\u00eancia=%{x}<br>Popula\\u00e7\\u00e3o urbana com abastecimento de \\u00e1gua=%{y}<extra></extra>\",\"legendgroup\":\"Cajueiro\",\"marker\":{\"color\":\"#FF6692\",\"symbol\":\"circle\"},\"mode\":\"markers\",\"name\":\"Cajueiro\",\"orientation\":\"v\",\"showlegend\":true,\"x\":[1997,1998,1999,2000,2001,2002,2003,2004,2005,2006,2007,2008,2009,2010,2011,2012,2013,2014,2015,2016,2017,2018,2019,2020],\"xaxis\":\"x\",\"y\":[14304.0,14304.0,14304.0,14051.0,14750.0,14750.0,14134.0,14192.0,14223.0,14255.0,16024.0,16498.0,16622.0,16484.0,16574.0,16659.0,17349.0,17172.0,17248.0,17319.0,17386.0,17118.0,17175.0,17229.0],\"yaxis\":\"y\",\"type\":\"scatter\"},{\"hovertemplate\":\"Munic\\u00edpio=Campestre<br>Ano de Refer\\u00eancia=%{x}<br>Popula\\u00e7\\u00e3o urbana com abastecimento de \\u00e1gua=%{y}<extra></extra>\",\"legendgroup\":\"Campestre\",\"marker\":{\"color\":\"#B6E880\",\"symbol\":\"circle\"},\"mode\":\"markers\",\"name\":\"Campestre\",\"orientation\":\"v\",\"showlegend\":true,\"x\":[2016,2017,2018,2020],\"xaxis\":\"x\",\"y\":[5879.0,5898.0,5809.0,5839.0],\"yaxis\":\"y\",\"type\":\"scatter\"},{\"hovertemplate\":\"Munic\\u00edpio=Campo Alegre<br>Ano de Refer\\u00eancia=%{x}<br>Popula\\u00e7\\u00e3o urbana com abastecimento de \\u00e1gua=%{y}<extra></extra>\",\"legendgroup\":\"Campo Alegre\",\"marker\":{\"color\":\"#FF97FF\",\"symbol\":\"circle\"},\"mode\":\"markers\",\"name\":\"Campo Alegre\",\"orientation\":\"v\",\"showlegend\":true,\"x\":[2009,2010,2011,2012,2013,2014,2016,2017,2018,2019,2020],\"xaxis\":\"x\",\"y\":[19375.0,22161.0,22496.0,22820.0,24056.0,24341.0,24861.0,25097.0,24674.0,24885.0,25092.0],\"yaxis\":\"y\",\"type\":\"scatter\"},{\"hovertemplate\":\"Munic\\u00edpio=Ch\\u00e3 Preta<br>Ano de Refer\\u00eancia=%{x}<br>Popula\\u00e7\\u00e3o urbana com abastecimento de \\u00e1gua=%{y}<extra></extra>\",\"legendgroup\":\"Ch\\u00e3 Preta\",\"marker\":{\"color\":\"#FECB52\",\"symbol\":\"circle\"},\"mode\":\"markers\",\"name\":\"Ch\\u00e3 Preta\",\"orientation\":\"v\",\"showlegend\":true,\"x\":[2005,2006,2007,2010,2011,2020],\"xaxis\":\"x\",\"y\":[3543.0,3520.0,3685.0,4488.0,4488.0,4592.0],\"yaxis\":\"y\",\"type\":\"scatter\"},{\"hovertemplate\":\"Munic\\u00edpio=Coruripe<br>Ano de Refer\\u00eancia=%{x}<br>Popula\\u00e7\\u00e3o urbana com abastecimento de \\u00e1gua=%{y}<extra></extra>\",\"legendgroup\":\"Coruripe\",\"marker\":{\"color\":\"#636efa\",\"symbol\":\"circle\"},\"mode\":\"markers\",\"name\":\"Coruripe\",\"orientation\":\"v\",\"showlegend\":true,\"x\":[2009,2011,2012,2013,2014,2015,2016,2017,2018,2019,2020],\"xaxis\":\"x\",\"y\":[44639.0,46561.0,47009.0,49150.0,49596.0,50018.0,50414.0,50784.0,49957.0,50285.0,50604.0],\"yaxis\":\"y\",\"type\":\"scatter\"},{\"hovertemplate\":\"Munic\\u00edpio=Delmiro Gouveia<br>Ano de Refer\\u00eancia=%{x}<br>Popula\\u00e7\\u00e3o urbana com abastecimento de \\u00e1gua=%{y}<extra></extra>\",\"legendgroup\":\"Delmiro Gouveia\",\"marker\":{\"color\":\"#EF553B\",\"symbol\":\"circle\"},\"mode\":\"markers\",\"name\":\"Delmiro Gouveia\",\"orientation\":\"v\",\"showlegend\":true,\"x\":[2010,2011,2012,2013,2014,2015,2020],\"xaxis\":\"x\",\"y\":[34854.0,35142.0,35419.0,36958.0,37211.0,37681.0,37873.0],\"yaxis\":\"y\",\"type\":\"scatter\"},{\"hovertemplate\":\"Munic\\u00edpio=Feira Grande<br>Ano de Refer\\u00eancia=%{x}<br>Popula\\u00e7\\u00e3o urbana com abastecimento de \\u00e1gua=%{y}<extra></extra>\",\"legendgroup\":\"Feira Grande\",\"marker\":{\"color\":\"#00cc96\",\"symbol\":\"circle\"},\"mode\":\"markers\",\"name\":\"Feira Grande\",\"orientation\":\"v\",\"showlegend\":true,\"x\":[2020],\"xaxis\":\"x\",\"y\":[3559.0],\"yaxis\":\"y\",\"type\":\"scatter\"},{\"hovertemplate\":\"Munic\\u00edpio=Feliz Deserto<br>Ano de Refer\\u00eancia=%{x}<br>Popula\\u00e7\\u00e3o urbana com abastecimento de \\u00e1gua=%{y}<extra></extra>\",\"legendgroup\":\"Feliz Deserto\",\"marker\":{\"color\":\"#ab63fa\",\"symbol\":\"circle\"},\"mode\":\"markers\",\"name\":\"Feliz Deserto\",\"orientation\":\"v\",\"showlegend\":true,\"x\":[2012,2019,2020],\"xaxis\":\"x\",\"y\":[3591.0,3809.0,3829.0],\"yaxis\":\"y\",\"type\":\"scatter\"},{\"hovertemplate\":\"Munic\\u00edpio=Flexeiras<br>Ano de Refer\\u00eancia=%{x}<br>Popula\\u00e7\\u00e3o urbana com abastecimento de \\u00e1gua=%{y}<extra></extra>\",\"legendgroup\":\"Flexeiras\",\"marker\":{\"color\":\"#FFA15A\",\"symbol\":\"circle\"},\"mode\":\"markers\",\"name\":\"Flexeiras\",\"orientation\":\"v\",\"showlegend\":true,\"x\":[2014,2020],\"xaxis\":\"x\",\"y\":[8385.0,8331.0],\"yaxis\":\"y\",\"type\":\"scatter\"},{\"hovertemplate\":\"Munic\\u00edpio=Ibateguara<br>Ano de Refer\\u00eancia=%{x}<br>Popula\\u00e7\\u00e3o urbana com abastecimento de \\u00e1gua=%{y}<extra></extra>\",\"legendgroup\":\"Ibateguara\",\"marker\":{\"color\":\"#19d3f3\",\"symbol\":\"circle\"},\"mode\":\"markers\",\"name\":\"Ibateguara\",\"orientation\":\"v\",\"showlegend\":true,\"x\":[2020],\"xaxis\":\"x\",\"y\":[9630.0],\"yaxis\":\"y\",\"type\":\"scatter\"},{\"hovertemplate\":\"Munic\\u00edpio=Igaci<br>Ano de Refer\\u00eancia=%{x}<br>Popula\\u00e7\\u00e3o urbana com abastecimento de \\u00e1gua=%{y}<extra></extra>\",\"legendgroup\":\"Igaci\",\"marker\":{\"color\":\"#FF6692\",\"symbol\":\"circle\"},\"mode\":\"markers\",\"name\":\"Igaci\",\"orientation\":\"v\",\"showlegend\":true,\"x\":[2020],\"xaxis\":\"x\",\"y\":[6288.0],\"yaxis\":\"y\",\"type\":\"scatter\"},{\"hovertemplate\":\"Munic\\u00edpio=Jacu\\u00edpe<br>Ano de Refer\\u00eancia=%{x}<br>Popula\\u00e7\\u00e3o urbana com abastecimento de \\u00e1gua=%{y}<extra></extra>\",\"legendgroup\":\"Jacu\\u00edpe\",\"marker\":{\"color\":\"#B6E880\",\"symbol\":\"circle\"},\"mode\":\"markers\",\"name\":\"Jacu\\u00edpe\",\"orientation\":\"v\",\"showlegend\":true,\"x\":[2011],\"xaxis\":\"x\",\"y\":[4340.0],\"yaxis\":\"y\",\"type\":\"scatter\"},{\"hovertemplate\":\"Munic\\u00edpio=Jaramataia<br>Ano de Refer\\u00eancia=%{x}<br>Popula\\u00e7\\u00e3o urbana com abastecimento de \\u00e1gua=%{y}<extra></extra>\",\"legendgroup\":\"Jaramataia\",\"marker\":{\"color\":\"#FF97FF\",\"symbol\":\"circle\"},\"mode\":\"markers\",\"name\":\"Jaramataia\",\"orientation\":\"v\",\"showlegend\":true,\"x\":[2018,2019],\"xaxis\":\"x\",\"y\":[2933.0,3024.0],\"yaxis\":\"y\",\"type\":\"scatter\"},{\"hovertemplate\":\"Munic\\u00edpio=Jequi\\u00e1 da Praia<br>Ano de Refer\\u00eancia=%{x}<br>Popula\\u00e7\\u00e3o urbana com abastecimento de \\u00e1gua=%{y}<extra></extra>\",\"legendgroup\":\"Jequi\\u00e1 da Praia\",\"marker\":{\"color\":\"#FECB52\",\"symbol\":\"circle\"},\"mode\":\"markers\",\"name\":\"Jequi\\u00e1 da Praia\",\"orientation\":\"v\",\"showlegend\":true,\"x\":[2012,2013,2014,2016,2020],\"xaxis\":\"x\",\"y\":[2845.0,2865.0,2852.0,2830.0,2761.0],\"yaxis\":\"y\",\"type\":\"scatter\"},{\"hovertemplate\":\"Munic\\u00edpio=Limoeiro de Anadia<br>Ano de Refer\\u00eancia=%{x}<br>Popula\\u00e7\\u00e3o urbana com abastecimento de \\u00e1gua=%{y}<extra></extra>\",\"legendgroup\":\"Limoeiro de Anadia\",\"marker\":{\"color\":\"#636efa\",\"symbol\":\"circle\"},\"mode\":\"markers\",\"name\":\"Limoeiro de Anadia\",\"orientation\":\"v\",\"showlegend\":true,\"x\":[2009,2010,2014,2015,2016],\"xaxis\":\"x\",\"y\":[2224.0,2246.0,2366.0,2382.0,2396.0],\"yaxis\":\"y\",\"type\":\"scatter\"},{\"hovertemplate\":\"Munic\\u00edpio=Macei\\u00f3<br>Ano de Refer\\u00eancia=%{x}<br>Popula\\u00e7\\u00e3o urbana com abastecimento de \\u00e1gua=%{y}<extra></extra>\",\"legendgroup\":\"Macei\\u00f3\",\"marker\":{\"color\":\"#EF553B\",\"symbol\":\"circle\"},\"mode\":\"markers\",\"name\":\"Macei\\u00f3\",\"orientation\":\"v\",\"showlegend\":true,\"x\":[1995,1996,1997,1998,1999,2000,2001,2002,2003,2004,2005,2006,2007,2008,2009,2010,2011,2012,2013,2014,2015,2016,2017,2018,2019,2020],\"xaxis\":\"x\",\"y\":[1420000.0,1566950.0,1632716.0,1710853.0,1533897.0,1625718.0,1691417.0,1732443.0,1699378.0,1729553.0,1755779.0,1781808.0,1821811.0,1865589.0,1884915.0,1834607.0,1850329.0,1865653.0,1947129.0,1960988.0,1974121.0,1986378.0,1997823.0,1966072.0,1976034.0,1985774.0],\"yaxis\":\"y\",\"type\":\"scatter\"},{\"hovertemplate\":\"Munic\\u00edpio=Mar Vermelho<br>Ano de Refer\\u00eancia=%{x}<br>Popula\\u00e7\\u00e3o urbana com abastecimento de \\u00e1gua=%{y}<extra></extra>\",\"legendgroup\":\"Mar Vermelho\",\"marker\":{\"color\":\"#00cc96\",\"symbol\":\"circle\"},\"mode\":\"markers\",\"name\":\"Mar Vermelho\",\"orientation\":\"v\",\"showlegend\":true,\"x\":[2020],\"xaxis\":\"x\",\"y\":[1567.0],\"yaxis\":\"y\",\"type\":\"scatter\"},{\"hovertemplate\":\"Munic\\u00edpio=Marechal Deodoro<br>Ano de Refer\\u00eancia=%{x}<br>Popula\\u00e7\\u00e3o urbana com abastecimento de \\u00e1gua=%{y}<extra></extra>\",\"legendgroup\":\"Marechal Deodoro\",\"marker\":{\"color\":\"#ab63fa\",\"symbol\":\"circle\"},\"mode\":\"markers\",\"name\":\"Marechal Deodoro\",\"orientation\":\"v\",\"showlegend\":true,\"x\":[1997,1998,1999,2000,2002,2003,2004,2005,2006,2007,2008,2009,2010,2011,2012,2013,2014,2015,2017,2018,2019,2020],\"xaxis\":\"x\",\"y\":[15040.0,13135.0,14740.0,29801.0,15710.0,32670.0,34556.0,35600.0,36635.0,37578.0,38763.0,39644.0,43392.0,44125.0,44833.0,47050.0,47672.0,48257.0,49322.0,48476.0,48983.0,49435.0],\"yaxis\":\"y\",\"type\":\"scatter\"},{\"hovertemplate\":\"Munic\\u00edpio=Messias<br>Ano de Refer\\u00eancia=%{x}<br>Popula\\u00e7\\u00e3o urbana com abastecimento de \\u00e1gua=%{y}<extra></extra>\",\"legendgroup\":\"Messias\",\"marker\":{\"color\":\"#FFA15A\",\"symbol\":\"circle\"},\"mode\":\"markers\",\"name\":\"Messias\",\"orientation\":\"v\",\"showlegend\":true,\"x\":[2012,2013,2014],\"xaxis\":\"x\",\"y\":[14818.0,15562.0,15780.0],\"yaxis\":\"y\",\"type\":\"scatter\"},{\"hovertemplate\":\"Munic\\u00edpio=Murici<br>Ano de Refer\\u00eancia=%{x}<br>Popula\\u00e7\\u00e3o urbana com abastecimento de \\u00e1gua=%{y}<extra></extra>\",\"legendgroup\":\"Murici\",\"marker\":{\"color\":\"#19d3f3\",\"symbol\":\"circle\"},\"mode\":\"markers\",\"name\":\"Murici\",\"orientation\":\"v\",\"showlegend\":true,\"x\":[2009],\"xaxis\":\"x\",\"y\":[21605.0],\"yaxis\":\"y\",\"type\":\"scatter\"},{\"hovertemplate\":\"Munic\\u00edpio=Novo Lino<br>Ano de Refer\\u00eancia=%{x}<br>Popula\\u00e7\\u00e3o urbana com abastecimento de \\u00e1gua=%{y}<extra></extra>\",\"legendgroup\":\"Novo Lino\",\"marker\":{\"color\":\"#FF6692\",\"symbol\":\"circle\"},\"mode\":\"markers\",\"name\":\"Novo Lino\",\"orientation\":\"v\",\"showlegend\":true,\"x\":[2018],\"xaxis\":\"x\",\"y\":[7665.0],\"yaxis\":\"y\",\"type\":\"scatter\"},{\"hovertemplate\":\"Munic\\u00edpio=Olho d \\u00c1gua do Casado<br>Ano de Refer\\u00eancia=%{x}<br>Popula\\u00e7\\u00e3o urbana com abastecimento de \\u00e1gua=%{y}<extra></extra>\",\"legendgroup\":\"Olho d \\u00c1gua do Casado\",\"marker\":{\"color\":\"#B6E880\",\"symbol\":\"circle\"},\"mode\":\"markers\",\"name\":\"Olho d \\u00c1gua do Casado\",\"orientation\":\"v\",\"showlegend\":true,\"x\":[2020],\"xaxis\":\"x\",\"y\":[4478.0],\"yaxis\":\"y\",\"type\":\"scatter\"},{\"hovertemplate\":\"Munic\\u00edpio=Penedo<br>Ano de Refer\\u00eancia=%{x}<br>Popula\\u00e7\\u00e3o urbana com abastecimento de \\u00e1gua=%{y}<extra></extra>\",\"legendgroup\":\"Penedo\",\"marker\":{\"color\":\"#FF97FF\",\"symbol\":\"circle\"},\"mode\":\"markers\",\"name\":\"Penedo\",\"orientation\":\"v\",\"showlegend\":true,\"x\":[1999,2000,2001,2002,2003,2004,2005,2006,2007,2008,2009,2010,2011,2012,2013,2014,2015,2016,2017,2018,2019,2020],\"xaxis\":\"x\",\"y\":[44842.0,41293.0,41293.0,46184.0,42611.0,43321.0,43714.0,44103.0,43880.0,45166.0,45413.0,45020.0,45214.0,45402.0,47419.0,47603.0,47776.0,47938.0,48091.0,47360.0,47484.0,47606.0],\"yaxis\":\"y\",\"type\":\"scatter\"},{\"hovertemplate\":\"Munic\\u00edpio=Pia\\u00e7abu\\u00e7u<br>Ano de Refer\\u00eancia=%{x}<br>Popula\\u00e7\\u00e3o urbana com abastecimento de \\u00e1gua=%{y}<extra></extra>\",\"legendgroup\":\"Pia\\u00e7abu\\u00e7u\",\"marker\":{\"color\":\"#FECB52\",\"symbol\":\"circle\"},\"mode\":\"markers\",\"name\":\"Pia\\u00e7abu\\u00e7u\",\"orientation\":\"v\",\"showlegend\":true,\"x\":[2020],\"xaxis\":\"x\",\"y\":[10827.0],\"yaxis\":\"y\",\"type\":\"scatter\"},{\"hovertemplate\":\"Munic\\u00edpio=Pilar<br>Ano de Refer\\u00eancia=%{x}<br>Popula\\u00e7\\u00e3o urbana com abastecimento de \\u00e1gua=%{y}<extra></extra>\",\"legendgroup\":\"Pilar\",\"marker\":{\"color\":\"#636efa\",\"symbol\":\"circle\"},\"mode\":\"markers\",\"name\":\"Pilar\",\"orientation\":\"v\",\"showlegend\":true,\"x\":[2012,2013,2014,2015,2020],\"xaxis\":\"x\",\"y\":[32105.0,33422.0,33566.0,33701.0,33622.0],\"yaxis\":\"y\",\"type\":\"scatter\"},{\"hovertemplate\":\"Munic\\u00edpio=Porto Calvo<br>Ano de Refer\\u00eancia=%{x}<br>Popula\\u00e7\\u00e3o urbana com abastecimento de \\u00e1gua=%{y}<extra></extra>\",\"legendgroup\":\"Porto Calvo\",\"marker\":{\"color\":\"#EF553B\",\"symbol\":\"circle\"},\"mode\":\"markers\",\"name\":\"Porto Calvo\",\"orientation\":\"v\",\"showlegend\":true,\"x\":[2017,2018,2019,2020],\"xaxis\":\"x\",\"y\":[21606.0,21274.0,21342.0,21408.0],\"yaxis\":\"y\",\"type\":\"scatter\"},{\"hovertemplate\":\"Munic\\u00edpio=Porto Real do Col\\u00e9gio<br>Ano de Refer\\u00eancia=%{x}<br>Popula\\u00e7\\u00e3o urbana com abastecimento de \\u00e1gua=%{y}<extra></extra>\",\"legendgroup\":\"Porto Real do Col\\u00e9gio\",\"marker\":{\"color\":\"#00cc96\",\"symbol\":\"circle\"},\"mode\":\"markers\",\"name\":\"Porto Real do Col\\u00e9gio\",\"orientation\":\"v\",\"showlegend\":true,\"x\":[2001,2002,2003,2005,2006,2010],\"xaxis\":\"x\",\"y\":[5390.0,5960.0,6040.0,6122.0,6152.0,6606.0],\"yaxis\":\"y\",\"type\":\"scatter\"},{\"hovertemplate\":\"Munic\\u00edpio=P\\u00e3o de A\\u00e7\\u00facar<br>Ano de Refer\\u00eancia=%{x}<br>Popula\\u00e7\\u00e3o urbana com abastecimento de \\u00e1gua=%{y}<extra></extra>\",\"legendgroup\":\"P\\u00e3o de A\\u00e7\\u00facar\",\"marker\":{\"color\":\"#ab63fa\",\"symbol\":\"circle\"},\"mode\":\"markers\",\"name\":\"P\\u00e3o de A\\u00e7\\u00facar\",\"orientation\":\"v\",\"showlegend\":true,\"x\":[1998,1999,2000,2001,2002,2003,2004,2005,2006,2007,2008,2009,2010,2011,2012,2013,2014,2015,2016,2017,2018,2020],\"xaxis\":\"x\",\"y\":[9489.0,9849.0,10812.0,10806.0,10806.0,11195.0,11454.0,11597.0,11739.0,10455.0,10754.0,10753.0,10769.0,10732.0,10697.0,11295.0,11272.0,11252.0,11232.0,11213.0,11056.0,11013.0],\"yaxis\":\"y\",\"type\":\"scatter\"},{\"hovertemplate\":\"Munic\\u00edpio=Quebrangulo<br>Ano de Refer\\u00eancia=%{x}<br>Popula\\u00e7\\u00e3o urbana com abastecimento de \\u00e1gua=%{y}<extra></extra>\",\"legendgroup\":\"Quebrangulo\",\"marker\":{\"color\":\"#FFA15A\",\"symbol\":\"circle\"},\"mode\":\"markers\",\"name\":\"Quebrangulo\",\"orientation\":\"v\",\"showlegend\":true,\"x\":[2010],\"xaxis\":\"x\",\"y\":[6474.0],\"yaxis\":\"y\",\"type\":\"scatter\"},{\"hovertemplate\":\"Munic\\u00edpio=Roteiro<br>Ano de Refer\\u00eancia=%{x}<br>Popula\\u00e7\\u00e3o urbana com abastecimento de \\u00e1gua=%{y}<extra></extra>\",\"legendgroup\":\"Roteiro\",\"marker\":{\"color\":\"#19d3f3\",\"symbol\":\"circle\"},\"mode\":\"markers\",\"name\":\"Roteiro\",\"orientation\":\"v\",\"showlegend\":true,\"x\":[2012,2018,2019,2020],\"xaxis\":\"x\",\"y\":[5787.0,5851.0,5837.0,5824.0],\"yaxis\":\"y\",\"type\":\"scatter\"},{\"hovertemplate\":\"Munic\\u00edpio=Santana do Munda\\u00fa<br>Ano de Refer\\u00eancia=%{x}<br>Popula\\u00e7\\u00e3o urbana com abastecimento de \\u00e1gua=%{y}<extra></extra>\",\"legendgroup\":\"Santana do Munda\\u00fa\",\"marker\":{\"color\":\"#FF6692\",\"symbol\":\"circle\"},\"mode\":\"markers\",\"name\":\"Santana do Munda\\u00fa\",\"orientation\":\"v\",\"showlegend\":true,\"x\":[2012,2013,2014,2015,2020],\"xaxis\":\"x\",\"y\":[5571.0,5747.0,5714.0,5683.0,5517.0],\"yaxis\":\"y\",\"type\":\"scatter\"},{\"hovertemplate\":\"Munic\\u00edpio=S\\u00e3o Jos\\u00e9 da Laje<br>Ano de Refer\\u00eancia=%{x}<br>Popula\\u00e7\\u00e3o urbana com abastecimento de \\u00e1gua=%{y}<extra></extra>\",\"legendgroup\":\"S\\u00e3o Jos\\u00e9 da Laje\",\"marker\":{\"color\":\"#B6E880\",\"symbol\":\"circle\"},\"mode\":\"markers\",\"name\":\"S\\u00e3o Jos\\u00e9 da Laje\",\"orientation\":\"v\",\"showlegend\":true,\"x\":[2012,2013,2018,2019,2020],\"xaxis\":\"x\",\"y\":[15540.0,16179.0,16184.0,16233.0,16280.0],\"yaxis\":\"y\",\"type\":\"scatter\"},{\"hovertemplate\":\"Munic\\u00edpio=S\\u00e3o Lu\\u00eds do Quitunde<br>Ano de Refer\\u00eancia=%{x}<br>Popula\\u00e7\\u00e3o urbana com abastecimento de \\u00e1gua=%{y}<extra></extra>\",\"legendgroup\":\"S\\u00e3o Lu\\u00eds do Quitunde\",\"marker\":{\"color\":\"#FF97FF\",\"symbol\":\"circle\"},\"mode\":\"markers\",\"name\":\"S\\u00e3o Lu\\u00eds do Quitunde\",\"orientation\":\"v\",\"showlegend\":true,\"x\":[2005,2006],\"xaxis\":\"x\",\"y\":[16895.0,16782.0],\"yaxis\":\"y\",\"type\":\"scatter\"},{\"hovertemplate\":\"Munic\\u00edpio=S\\u00e3o Miguel dos Campos<br>Ano de Refer\\u00eancia=%{x}<br>Popula\\u00e7\\u00e3o urbana com abastecimento de \\u00e1gua=%{y}<extra></extra>\",\"legendgroup\":\"S\\u00e3o Miguel dos Campos\",\"marker\":{\"color\":\"#FECB52\",\"symbol\":\"circle\"},\"mode\":\"markers\",\"name\":\"S\\u00e3o Miguel dos Campos\",\"orientation\":\"v\",\"showlegend\":true,\"x\":[1999,2000,2001,2003,2005,2006,2007,2008,2010,2011,2012,2013,2014,2015,2016,2017,2018,2019,2020],\"xaxis\":\"x\",\"y\":[34245.0,35801.0,47079.0,35019.0,35045.0,35053.0,54996.0,50765.0,52566.0,53419.0,54244.0,56900.0,57625.0,58308.0,58949.0,59549.0,58536.0,58994.0,59520.0],\"yaxis\":\"y\",\"type\":\"scatter\"},{\"hovertemplate\":\"Munic\\u00edpio=S\\u00e3o Miguel dos Milagres<br>Ano de Refer\\u00eancia=%{x}<br>Popula\\u00e7\\u00e3o urbana com abastecimento de \\u00e1gua=%{y}<extra></extra>\",\"legendgroup\":\"S\\u00e3o Miguel dos Milagres\",\"marker\":{\"color\":\"#636efa\",\"symbol\":\"circle\"},\"mode\":\"markers\",\"name\":\"S\\u00e3o Miguel dos Milagres\",\"orientation\":\"v\",\"showlegend\":true,\"x\":[2006,2011,2020],\"xaxis\":\"x\",\"y\":[1956.0,2293.0,2529.0],\"yaxis\":\"y\",\"type\":\"scatter\"},{\"hovertemplate\":\"Munic\\u00edpio=Tanque d Arca<br>Ano de Refer\\u00eancia=%{x}<br>Popula\\u00e7\\u00e3o urbana com abastecimento de \\u00e1gua=%{y}<extra></extra>\",\"legendgroup\":\"Tanque d Arca\",\"marker\":{\"color\":\"#EF553B\",\"symbol\":\"circle\"},\"mode\":\"markers\",\"name\":\"Tanque d Arca\",\"orientation\":\"v\",\"showlegend\":true,\"x\":[2020],\"xaxis\":\"x\",\"y\":[2146.0],\"yaxis\":\"y\",\"type\":\"scatter\"},{\"hovertemplate\":\"Munic\\u00edpio=Taquarana<br>Ano de Refer\\u00eancia=%{x}<br>Popula\\u00e7\\u00e3o urbana com abastecimento de \\u00e1gua=%{y}<extra></extra>\",\"legendgroup\":\"Taquarana\",\"marker\":{\"color\":\"#00cc96\",\"symbol\":\"circle\"},\"mode\":\"markers\",\"name\":\"Taquarana\",\"orientation\":\"v\",\"showlegend\":true,\"x\":[2016,2017,2018],\"xaxis\":\"x\",\"y\":[7728.0,7770.0,7647.0],\"yaxis\":\"y\",\"type\":\"scatter\"},{\"hovertemplate\":\"Munic\\u00edpio=Teot\\u00f4nio Vilela<br>Ano de Refer\\u00eancia=%{x}<br>Popula\\u00e7\\u00e3o urbana com abastecimento de \\u00e1gua=%{y}<extra></extra>\",\"legendgroup\":\"Teot\\u00f4nio Vilela\",\"marker\":{\"color\":\"#ab63fa\",\"symbol\":\"circle\"},\"mode\":\"markers\",\"name\":\"Teot\\u00f4nio Vilela\",\"orientation\":\"v\",\"showlegend\":true,\"x\":[2010,2011,2012,2013,2014,2015,2016,2017,2018,2019,2020],\"xaxis\":\"x\",\"y\":[34785.0,35062.0,35330.0,36858.0,37104.0,37335.0,37552.0,37755.0,37159.0,37335.0,37507.0],\"yaxis\":\"y\",\"type\":\"scatter\"},{\"hovertemplate\":\"Munic\\u00edpio=Uni\\u00e3o dos Palmares<br>Ano de Refer\\u00eancia=%{x}<br>Popula\\u00e7\\u00e3o urbana com abastecimento de \\u00e1gua=%{y}<extra></extra>\",\"legendgroup\":\"Uni\\u00e3o dos Palmares\",\"marker\":{\"color\":\"#FFA15A\",\"symbol\":\"circle\"},\"mode\":\"markers\",\"name\":\"Uni\\u00e3o dos Palmares\",\"orientation\":\"v\",\"showlegend\":true,\"x\":[1998,2000,2001,2002,2003,2004,2005,2006,2007,2008,2009,2010,2011,2012,2013,2014,2015,2016,2017,2018,2019,2020],\"xaxis\":\"x\",\"y\":[43865.0,37865.0,37865.0,37869.0,38107.0,38265.0,38353.0,38439.0,44513.0,45817.0,46061.0,47651.0,47870.0,48083.0,50048.0,50254.0,50447.0,50629.0,50799.0,50022.0,50137.0,50274.0],\"yaxis\":\"y\",\"type\":\"scatter\"},{\"hovertemplate\":\"Munic\\u00edpio=Vi\\u00e7osa<br>Ano de Refer\\u00eancia=%{x}<br>Popula\\u00e7\\u00e3o urbana com abastecimento de \\u00e1gua=%{y}<extra></extra>\",\"legendgroup\":\"Vi\\u00e7osa\",\"marker\":{\"color\":\"#19d3f3\",\"symbol\":\"circle\"},\"mode\":\"markers\",\"name\":\"Vi\\u00e7osa\",\"orientation\":\"v\",\"showlegend\":true,\"x\":[2006,2007,2008,2009,2010,2011,2012,2013,2014,2015,2016,2017,2018,2019,2020],\"xaxis\":\"x\",\"y\":[18945.0,18907.0,19451.0,19473.0,18313.0,18266.0,18296.0,18949.0,18920.0,18893.0,18867.0,18843.0,18577.0,18548.0,18519.0],\"yaxis\":\"y\",\"type\":\"scatter\"},{\"hovertemplate\":\"Munic\\u00edpio=\\u00c1gua Branca<br>Ano de Refer\\u00eancia=%{x}<br>Popula\\u00e7\\u00e3o urbana com abastecimento de \\u00e1gua=%{y}<extra></extra>\",\"legendgroup\":\"\\u00c1gua Branca\",\"marker\":{\"color\":\"#FF6692\",\"symbol\":\"circle\"},\"mode\":\"markers\",\"name\":\"\\u00c1gua Branca\",\"orientation\":\"v\",\"showlegend\":true,\"x\":[2016,2017,2020],\"xaxis\":\"x\",\"y\":[5376.0,5388.0,5326.0],\"yaxis\":\"y\",\"type\":\"scatter\"}],                        {\"template\":{\"data\":{\"bar\":[{\"error_x\":{\"color\":\"#2a3f5f\"},\"error_y\":{\"color\":\"#2a3f5f\"},\"marker\":{\"line\":{\"color\":\"#E5ECF6\",\"width\":0.5},\"pattern\":{\"fillmode\":\"overlay\",\"size\":10,\"solidity\":0.2}},\"type\":\"bar\"}],\"barpolar\":[{\"marker\":{\"line\":{\"color\":\"#E5ECF6\",\"width\":0.5},\"pattern\":{\"fillmode\":\"overlay\",\"size\":10,\"solidity\":0.2}},\"type\":\"barpolar\"}],\"carpet\":[{\"aaxis\":{\"endlinecolor\":\"#2a3f5f\",\"gridcolor\":\"white\",\"linecolor\":\"white\",\"minorgridcolor\":\"white\",\"startlinecolor\":\"#2a3f5f\"},\"baxis\":{\"endlinecolor\":\"#2a3f5f\",\"gridcolor\":\"white\",\"linecolor\":\"white\",\"minorgridcolor\":\"white\",\"startlinecolor\":\"#2a3f5f\"},\"type\":\"carpet\"}],\"choropleth\":[{\"colorbar\":{\"outlinewidth\":0,\"ticks\":\"\"},\"type\":\"choropleth\"}],\"contour\":[{\"colorbar\":{\"outlinewidth\":0,\"ticks\":\"\"},\"colorscale\":[[0.0,\"#0d0887\"],[0.1111111111111111,\"#46039f\"],[0.2222222222222222,\"#7201a8\"],[0.3333333333333333,\"#9c179e\"],[0.4444444444444444,\"#bd3786\"],[0.5555555555555556,\"#d8576b\"],[0.6666666666666666,\"#ed7953\"],[0.7777777777777778,\"#fb9f3a\"],[0.8888888888888888,\"#fdca26\"],[1.0,\"#f0f921\"]],\"type\":\"contour\"}],\"contourcarpet\":[{\"colorbar\":{\"outlinewidth\":0,\"ticks\":\"\"},\"type\":\"contourcarpet\"}],\"heatmap\":[{\"colorbar\":{\"outlinewidth\":0,\"ticks\":\"\"},\"colorscale\":[[0.0,\"#0d0887\"],[0.1111111111111111,\"#46039f\"],[0.2222222222222222,\"#7201a8\"],[0.3333333333333333,\"#9c179e\"],[0.4444444444444444,\"#bd3786\"],[0.5555555555555556,\"#d8576b\"],[0.6666666666666666,\"#ed7953\"],[0.7777777777777778,\"#fb9f3a\"],[0.8888888888888888,\"#fdca26\"],[1.0,\"#f0f921\"]],\"type\":\"heatmap\"}],\"heatmapgl\":[{\"colorbar\":{\"outlinewidth\":0,\"ticks\":\"\"},\"colorscale\":[[0.0,\"#0d0887\"],[0.1111111111111111,\"#46039f\"],[0.2222222222222222,\"#7201a8\"],[0.3333333333333333,\"#9c179e\"],[0.4444444444444444,\"#bd3786\"],[0.5555555555555556,\"#d8576b\"],[0.6666666666666666,\"#ed7953\"],[0.7777777777777778,\"#fb9f3a\"],[0.8888888888888888,\"#fdca26\"],[1.0,\"#f0f921\"]],\"type\":\"heatmapgl\"}],\"histogram\":[{\"marker\":{\"pattern\":{\"fillmode\":\"overlay\",\"size\":10,\"solidity\":0.2}},\"type\":\"histogram\"}],\"histogram2d\":[{\"colorbar\":{\"outlinewidth\":0,\"ticks\":\"\"},\"colorscale\":[[0.0,\"#0d0887\"],[0.1111111111111111,\"#46039f\"],[0.2222222222222222,\"#7201a8\"],[0.3333333333333333,\"#9c179e\"],[0.4444444444444444,\"#bd3786\"],[0.5555555555555556,\"#d8576b\"],[0.6666666666666666,\"#ed7953\"],[0.7777777777777778,\"#fb9f3a\"],[0.8888888888888888,\"#fdca26\"],[1.0,\"#f0f921\"]],\"type\":\"histogram2d\"}],\"histogram2dcontour\":[{\"colorbar\":{\"outlinewidth\":0,\"ticks\":\"\"},\"colorscale\":[[0.0,\"#0d0887\"],[0.1111111111111111,\"#46039f\"],[0.2222222222222222,\"#7201a8\"],[0.3333333333333333,\"#9c179e\"],[0.4444444444444444,\"#bd3786\"],[0.5555555555555556,\"#d8576b\"],[0.6666666666666666,\"#ed7953\"],[0.7777777777777778,\"#fb9f3a\"],[0.8888888888888888,\"#fdca26\"],[1.0,\"#f0f921\"]],\"type\":\"histogram2dcontour\"}],\"mesh3d\":[{\"colorbar\":{\"outlinewidth\":0,\"ticks\":\"\"},\"type\":\"mesh3d\"}],\"parcoords\":[{\"line\":{\"colorbar\":{\"outlinewidth\":0,\"ticks\":\"\"}},\"type\":\"parcoords\"}],\"pie\":[{\"automargin\":true,\"type\":\"pie\"}],\"scatter\":[{\"marker\":{\"colorbar\":{\"outlinewidth\":0,\"ticks\":\"\"}},\"type\":\"scatter\"}],\"scatter3d\":[{\"line\":{\"colorbar\":{\"outlinewidth\":0,\"ticks\":\"\"}},\"marker\":{\"colorbar\":{\"outlinewidth\":0,\"ticks\":\"\"}},\"type\":\"scatter3d\"}],\"scattercarpet\":[{\"marker\":{\"colorbar\":{\"outlinewidth\":0,\"ticks\":\"\"}},\"type\":\"scattercarpet\"}],\"scattergeo\":[{\"marker\":{\"colorbar\":{\"outlinewidth\":0,\"ticks\":\"\"}},\"type\":\"scattergeo\"}],\"scattergl\":[{\"marker\":{\"colorbar\":{\"outlinewidth\":0,\"ticks\":\"\"}},\"type\":\"scattergl\"}],\"scattermapbox\":[{\"marker\":{\"colorbar\":{\"outlinewidth\":0,\"ticks\":\"\"}},\"type\":\"scattermapbox\"}],\"scatterpolar\":[{\"marker\":{\"colorbar\":{\"outlinewidth\":0,\"ticks\":\"\"}},\"type\":\"scatterpolar\"}],\"scatterpolargl\":[{\"marker\":{\"colorbar\":{\"outlinewidth\":0,\"ticks\":\"\"}},\"type\":\"scatterpolargl\"}],\"scatterternary\":[{\"marker\":{\"colorbar\":{\"outlinewidth\":0,\"ticks\":\"\"}},\"type\":\"scatterternary\"}],\"surface\":[{\"colorbar\":{\"outlinewidth\":0,\"ticks\":\"\"},\"colorscale\":[[0.0,\"#0d0887\"],[0.1111111111111111,\"#46039f\"],[0.2222222222222222,\"#7201a8\"],[0.3333333333333333,\"#9c179e\"],[0.4444444444444444,\"#bd3786\"],[0.5555555555555556,\"#d8576b\"],[0.6666666666666666,\"#ed7953\"],[0.7777777777777778,\"#fb9f3a\"],[0.8888888888888888,\"#fdca26\"],[1.0,\"#f0f921\"]],\"type\":\"surface\"}],\"table\":[{\"cells\":{\"fill\":{\"color\":\"#EBF0F8\"},\"line\":{\"color\":\"white\"}},\"header\":{\"fill\":{\"color\":\"#C8D4E3\"},\"line\":{\"color\":\"white\"}},\"type\":\"table\"}]},\"layout\":{\"annotationdefaults\":{\"arrowcolor\":\"#2a3f5f\",\"arrowhead\":0,\"arrowwidth\":1},\"autotypenumbers\":\"strict\",\"coloraxis\":{\"colorbar\":{\"outlinewidth\":0,\"ticks\":\"\"}},\"colorscale\":{\"diverging\":[[0,\"#8e0152\"],[0.1,\"#c51b7d\"],[0.2,\"#de77ae\"],[0.3,\"#f1b6da\"],[0.4,\"#fde0ef\"],[0.5,\"#f7f7f7\"],[0.6,\"#e6f5d0\"],[0.7,\"#b8e186\"],[0.8,\"#7fbc41\"],[0.9,\"#4d9221\"],[1,\"#276419\"]],\"sequential\":[[0.0,\"#0d0887\"],[0.1111111111111111,\"#46039f\"],[0.2222222222222222,\"#7201a8\"],[0.3333333333333333,\"#9c179e\"],[0.4444444444444444,\"#bd3786\"],[0.5555555555555556,\"#d8576b\"],[0.6666666666666666,\"#ed7953\"],[0.7777777777777778,\"#fb9f3a\"],[0.8888888888888888,\"#fdca26\"],[1.0,\"#f0f921\"]],\"sequentialminus\":[[0.0,\"#0d0887\"],[0.1111111111111111,\"#46039f\"],[0.2222222222222222,\"#7201a8\"],[0.3333333333333333,\"#9c179e\"],[0.4444444444444444,\"#bd3786\"],[0.5555555555555556,\"#d8576b\"],[0.6666666666666666,\"#ed7953\"],[0.7777777777777778,\"#fb9f3a\"],[0.8888888888888888,\"#fdca26\"],[1.0,\"#f0f921\"]]},\"colorway\":[\"#636efa\",\"#EF553B\",\"#00cc96\",\"#ab63fa\",\"#FFA15A\",\"#19d3f3\",\"#FF6692\",\"#B6E880\",\"#FF97FF\",\"#FECB52\"],\"font\":{\"color\":\"#2a3f5f\"},\"geo\":{\"bgcolor\":\"white\",\"lakecolor\":\"white\",\"landcolor\":\"#E5ECF6\",\"showlakes\":true,\"showland\":true,\"subunitcolor\":\"white\"},\"hoverlabel\":{\"align\":\"left\"},\"hovermode\":\"closest\",\"mapbox\":{\"style\":\"light\"},\"paper_bgcolor\":\"white\",\"plot_bgcolor\":\"#E5ECF6\",\"polar\":{\"angularaxis\":{\"gridcolor\":\"white\",\"linecolor\":\"white\",\"ticks\":\"\"},\"bgcolor\":\"#E5ECF6\",\"radialaxis\":{\"gridcolor\":\"white\",\"linecolor\":\"white\",\"ticks\":\"\"}},\"scene\":{\"xaxis\":{\"backgroundcolor\":\"#E5ECF6\",\"gridcolor\":\"white\",\"gridwidth\":2,\"linecolor\":\"white\",\"showbackground\":true,\"ticks\":\"\",\"zerolinecolor\":\"white\"},\"yaxis\":{\"backgroundcolor\":\"#E5ECF6\",\"gridcolor\":\"white\",\"gridwidth\":2,\"linecolor\":\"white\",\"showbackground\":true,\"ticks\":\"\",\"zerolinecolor\":\"white\"},\"zaxis\":{\"backgroundcolor\":\"#E5ECF6\",\"gridcolor\":\"white\",\"gridwidth\":2,\"linecolor\":\"white\",\"showbackground\":true,\"ticks\":\"\",\"zerolinecolor\":\"white\"}},\"shapedefaults\":{\"line\":{\"color\":\"#2a3f5f\"}},\"ternary\":{\"aaxis\":{\"gridcolor\":\"white\",\"linecolor\":\"white\",\"ticks\":\"\"},\"baxis\":{\"gridcolor\":\"white\",\"linecolor\":\"white\",\"ticks\":\"\"},\"bgcolor\":\"#E5ECF6\",\"caxis\":{\"gridcolor\":\"white\",\"linecolor\":\"white\",\"ticks\":\"\"}},\"title\":{\"x\":0.05},\"xaxis\":{\"automargin\":true,\"gridcolor\":\"white\",\"linecolor\":\"white\",\"ticks\":\"\",\"title\":{\"standoff\":15},\"zerolinecolor\":\"white\",\"zerolinewidth\":2},\"yaxis\":{\"automargin\":true,\"gridcolor\":\"white\",\"linecolor\":\"white\",\"ticks\":\"\",\"title\":{\"standoff\":15},\"zerolinecolor\":\"white\",\"zerolinewidth\":2}}},\"xaxis\":{\"anchor\":\"y\",\"domain\":[0.0,1.0],\"title\":{\"text\":\"Ano de Refer\\u00eancia\"}},\"yaxis\":{\"anchor\":\"x\",\"domain\":[0.0,1.0],\"title\":{\"text\":\"Popula\\u00e7\\u00e3o urbana com abastecimento de \\u00e1gua\"}},\"legend\":{\"title\":{\"text\":\"Munic\\u00edpio\"},\"tracegroupgap\":0},\"margin\":{\"t\":60}},                        {\"responsive\": true}                    ).then(function(){\n",
       "                            \n",
       "var gd = document.getElementById('b465af26-fcc1-4e4c-aa7a-43ae25d54585');\n",
       "var x = new MutationObserver(function (mutations, observer) {{\n",
       "        var display = window.getComputedStyle(gd).display;\n",
       "        if (!display || display === 'none') {{\n",
       "            console.log([gd, 'removed!']);\n",
       "            Plotly.purge(gd);\n",
       "            observer.disconnect();\n",
       "        }}\n",
       "}});\n",
       "\n",
       "// Listen for the removal of the full notebook cells\n",
       "var notebookContainer = gd.closest('#notebook-container');\n",
       "if (notebookContainer) {{\n",
       "    x.observe(notebookContainer, {childList: true});\n",
       "}}\n",
       "\n",
       "// Listen for the clearing of the current output cell\n",
       "var outputEl = gd.closest('.output');\n",
       "if (outputEl) {{\n",
       "    x.observe(outputEl, {childList: true});\n",
       "}}\n",
       "\n",
       "                        })                };                });            </script>        </div>"
      ]
     },
     "metadata": {},
     "output_type": "display_data"
    }
   ],
   "source": [
    "px.scatter(data_frame = df_AL, x='Ano de Referência', \n",
    "                               y='G06A - População urbana residente do(s) município(s) com abastecimento de água', \n",
    "                               color = 'Município',\n",
    "                               labels = {'G06A - População urbana residente do(s) município(s) com abastecimento de água': 'População urbana com abastecimento de água'})"
   ]
  },
  {
   "cell_type": "code",
   "execution_count": 33,
   "id": "7f64f3aa-4f94-41ca-94e5-b51df3da0285",
   "metadata": {},
   "outputs": [
    {
     "data": {
      "application/vnd.plotly.v1+json": {
       "config": {
        "plotlyServerURL": "https://plot.ly"
       },
       "data": [
        {
         "hovertemplate": "Município=Arapiraca<br>Ano de Referência=%{x}<br>G06B - População urbana residente do(s) município(s) com esgotamento sanitário=%{y}<br>IN004 - Tarifa média praticada=%{marker.size}<extra></extra>",
         "legendgroup": "Arapiraca",
         "marker": {
          "color": "#636efa",
          "size": [
           0.93,
           0.93,
           0.93,
           0.93
          ],
          "sizemode": "area",
          "sizeref": 0.015674999999999998,
          "symbol": "circle"
         },
         "mode": "markers",
         "name": "Arapiraca",
         "orientation": "v",
         "showlegend": true,
         "type": "scatter",
         "x": [
          2012,
          2013,
          2014,
          2015
         ],
         "xaxis": "x",
         "y": [
          184987,
          193043,
          194475,
          195937
         ],
         "yaxis": "y"
        },
        {
         "hovertemplate": "Município=Atalaia<br>Ano de Referência=%{x}<br>G06B - População urbana residente do(s) município(s) com esgotamento sanitário=%{y}<br>IN004 - Tarifa média praticada=%{marker.size}<extra></extra>",
         "legendgroup": "Atalaia",
         "marker": {
          "color": "#EF553B",
          "size": [
           0.93,
           0.81,
           1.1,
           0.55,
           0.66,
           0.69,
           0.96,
           0,
           2.18
          ],
          "sizemode": "area",
          "sizeref": 0.015674999999999998,
          "symbol": "circle"
         },
         "mode": "markers",
         "name": "Atalaia",
         "orientation": "v",
         "showlegend": true,
         "type": "scatter",
         "x": [
          1999,
          2000,
          2001,
          2002,
          2003,
          2004,
          2006,
          2007,
          2020
         ],
         "xaxis": "x",
         "y": [
          0,
          0,
          0,
          0,
          0,
          0,
          0,
          0,
          0
         ],
         "yaxis": "y"
        },
        {
         "hovertemplate": "Município=Barra de Santo Antônio<br>Ano de Referência=%{x}<br>G06B - População urbana residente do(s) município(s) com esgotamento sanitário=%{y}<br>IN004 - Tarifa média praticada=%{marker.size}<extra></extra>",
         "legendgroup": "Barra de Santo Antônio",
         "marker": {
          "color": "#00cc96",
          "size": [
           2.64
          ],
          "sizemode": "area",
          "sizeref": 0.015674999999999998,
          "symbol": "circle"
         },
         "mode": "markers",
         "name": "Barra de Santo Antônio",
         "orientation": "v",
         "showlegend": true,
         "type": "scatter",
         "x": [
          2013
         ],
         "xaxis": "x",
         "y": [
          0
         ],
         "yaxis": "y"
        },
        {
         "hovertemplate": "Município=Barra de São Miguel<br>Ano de Referência=%{x}<br>G06B - População urbana residente do(s) município(s) com esgotamento sanitário=%{y}<br>IN004 - Tarifa média praticada=%{marker.size}<extra></extra>",
         "legendgroup": "Barra de São Miguel",
         "marker": {
          "color": "#ab63fa",
          "size": [
           2.64
          ],
          "sizemode": "area",
          "sizeref": 0.015674999999999998,
          "symbol": "circle"
         },
         "mode": "markers",
         "name": "Barra de São Miguel",
         "orientation": "v",
         "showlegend": true,
         "type": "scatter",
         "x": [
          2012
         ],
         "xaxis": "x",
         "y": [
          6677
         ],
         "yaxis": "y"
        },
        {
         "hovertemplate": "Município=Boca da Mata<br>Ano de Referência=%{x}<br>G06B - População urbana residente do(s) município(s) com esgotamento sanitário=%{y}<br>IN004 - Tarifa média praticada=%{marker.size}<extra></extra>",
         "legendgroup": "Boca da Mata",
         "marker": {
          "color": "#FFA15A",
          "size": [
           0.67,
           0.67,
           0.09,
           0.09,
           0.09,
           1.01,
           1.4,
           1.56,
           1.64,
           1.45,
           1.52,
           1.65,
           1.42,
           3.33,
           3.76,
           3.37,
           3.42,
           3.82,
           3.42,
           4.73
          ],
          "sizemode": "area",
          "sizeref": 0.015674999999999998,
          "symbol": "circle"
         },
         "mode": "markers",
         "name": "Boca da Mata",
         "orientation": "v",
         "showlegend": true,
         "type": "scatter",
         "x": [
          1999,
          2000,
          2001,
          2002,
          2003,
          2004,
          2005,
          2006,
          2007,
          2009,
          2010,
          2012,
          2013,
          2014,
          2015,
          2016,
          2017,
          2018,
          2019,
          2020
         ],
         "xaxis": "x",
         "y": [
          0,
          0,
          0,
          0,
          0,
          0,
          0,
          0,
          0,
          0,
          0,
          0,
          0,
          0,
          0,
          0,
          0,
          0,
          0,
          0
         ],
         "yaxis": "y"
        },
        {
         "hovertemplate": "Município=Branquinha<br>Ano de Referência=%{x}<br>G06B - População urbana residente do(s) município(s) com esgotamento sanitário=%{y}<br>IN004 - Tarifa média praticada=%{marker.size}<extra></extra>",
         "legendgroup": "Branquinha",
         "marker": {
          "color": "#19d3f3",
          "size": [
           0.29,
           0.16,
           0.36,
           0.38
          ],
          "sizemode": "area",
          "sizeref": 0.015674999999999998,
          "symbol": "circle"
         },
         "mode": "markers",
         "name": "Branquinha",
         "orientation": "v",
         "showlegend": true,
         "type": "scatter",
         "x": [
          2005,
          2006,
          2007,
          2008
         ],
         "xaxis": "x",
         "y": [
          0,
          0,
          0,
          0
         ],
         "yaxis": "y"
        },
        {
         "hovertemplate": "Município=Cajueiro<br>Ano de Referência=%{x}<br>G06B - População urbana residente do(s) município(s) com esgotamento sanitário=%{y}<br>IN004 - Tarifa média praticada=%{marker.size}<extra></extra>",
         "legendgroup": "Cajueiro",
         "marker": {
          "color": "#FF6692",
          "size": [
           0.5,
           0.77,
           0.68,
           0.61,
           0.68,
           0.77,
           0.92,
           0.99,
           1.05,
           1.05,
           1.43,
           1.43,
           1.43,
           1.43,
           1.61,
           2.01,
           1.95,
           2.64,
           2.5,
           2.64,
           1.64,
           1.45,
           1.5,
           1.65
          ],
          "sizemode": "area",
          "sizeref": 0.015674999999999998,
          "symbol": "circle"
         },
         "mode": "markers",
         "name": "Cajueiro",
         "orientation": "v",
         "showlegend": true,
         "type": "scatter",
         "x": [
          1997,
          1998,
          1999,
          2000,
          2001,
          2002,
          2003,
          2004,
          2005,
          2006,
          2007,
          2008,
          2009,
          2010,
          2011,
          2012,
          2013,
          2014,
          2015,
          2016,
          2017,
          2018,
          2019,
          2020
         ],
         "xaxis": "x",
         "y": [
          0,
          0,
          0,
          0,
          0,
          0,
          0,
          0,
          0,
          14255,
          16024,
          16498,
          16622,
          16484,
          16574,
          16659,
          17349,
          17172,
          17248,
          17319,
          17386,
          17118,
          17175,
          17229
         ],
         "yaxis": "y"
        },
        {
         "hovertemplate": "Município=Campestre<br>Ano de Referência=%{x}<br>G06B - População urbana residente do(s) município(s) com esgotamento sanitário=%{y}<br>IN004 - Tarifa média praticada=%{marker.size}<extra></extra>",
         "legendgroup": "Campestre",
         "marker": {
          "color": "#B6E880",
          "size": [
           1.65,
           1.65,
           1.65,
           0
          ],
          "sizemode": "area",
          "sizeref": 0.015674999999999998,
          "symbol": "circle"
         },
         "mode": "markers",
         "name": "Campestre",
         "orientation": "v",
         "showlegend": true,
         "type": "scatter",
         "x": [
          2016,
          2017,
          2018,
          2020
         ],
         "xaxis": "x",
         "y": [
          5879,
          5898,
          5809,
          5839
         ],
         "yaxis": "y"
        },
        {
         "hovertemplate": "Município=Campo Alegre<br>Ano de Referência=%{x}<br>G06B - População urbana residente do(s) município(s) com esgotamento sanitário=%{y}<br>IN004 - Tarifa média praticada=%{marker.size}<extra></extra>",
         "legendgroup": "Campo Alegre",
         "marker": {
          "color": "#FF97FF",
          "size": [
           0,
           0,
           0,
           0,
           0,
           0,
           1.24,
           0.7,
           0.91,
           0.98,
           0.89
          ],
          "sizemode": "area",
          "sizeref": 0.015674999999999998,
          "symbol": "circle"
         },
         "mode": "markers",
         "name": "Campo Alegre",
         "orientation": "v",
         "showlegend": true,
         "type": "scatter",
         "x": [
          2009,
          2010,
          2011,
          2012,
          2013,
          2014,
          2016,
          2017,
          2018,
          2019,
          2020
         ],
         "xaxis": "x",
         "y": [
          19375,
          22161,
          22496,
          22820,
          24056,
          24341,
          24861,
          25097,
          24674,
          24885,
          25092
         ],
         "yaxis": "y"
        },
        {
         "hovertemplate": "Município=Chã Preta<br>Ano de Referência=%{x}<br>G06B - População urbana residente do(s) município(s) com esgotamento sanitário=%{y}<br>IN004 - Tarifa média praticada=%{marker.size}<extra></extra>",
         "legendgroup": "Chã Preta",
         "marker": {
          "color": "#FECB52",
          "size": [
           0.89,
           0.48,
           0.43,
           0.52,
           0.5,
           5.75
          ],
          "sizemode": "area",
          "sizeref": 0.015674999999999998,
          "symbol": "circle"
         },
         "mode": "markers",
         "name": "Chã Preta",
         "orientation": "v",
         "showlegend": true,
         "type": "scatter",
         "x": [
          2005,
          2006,
          2007,
          2010,
          2011,
          2020
         ],
         "xaxis": "x",
         "y": [
          25092,
          25092,
          25092,
          25092,
          25092,
          25092
         ],
         "yaxis": "y"
        },
        {
         "hovertemplate": "Município=Coruripe<br>Ano de Referência=%{x}<br>G06B - População urbana residente do(s) município(s) com esgotamento sanitário=%{y}<br>IN004 - Tarifa média praticada=%{marker.size}<extra></extra>",
         "legendgroup": "Coruripe",
         "marker": {
          "color": "#636efa",
          "size": [
           5.75,
           0.42,
           0.55,
           0.53,
           0.65,
           0.89,
           0.58,
           0.58,
           0.54,
           0.51,
           0.48
          ],
          "sizemode": "area",
          "sizeref": 0.015674999999999998,
          "symbol": "circle"
         },
         "mode": "markers",
         "name": "Coruripe",
         "orientation": "v",
         "showlegend": true,
         "type": "scatter",
         "x": [
          2009,
          2011,
          2012,
          2013,
          2014,
          2015,
          2016,
          2017,
          2018,
          2019,
          2020
         ],
         "xaxis": "x",
         "y": [
          44639,
          46561,
          47009,
          49150,
          49596,
          50018,
          50414,
          50784,
          49957,
          50285,
          50604
         ],
         "yaxis": "y"
        },
        {
         "hovertemplate": "Município=Delmiro Gouveia<br>Ano de Referência=%{x}<br>G06B - População urbana residente do(s) município(s) com esgotamento sanitário=%{y}<br>IN004 - Tarifa média praticada=%{marker.size}<extra></extra>",
         "legendgroup": "Delmiro Gouveia",
         "marker": {
          "color": "#EF553B",
          "size": [
           0.48,
           0.48,
           0.48,
           0.48,
           0.48,
           0.48,
           0.48
          ],
          "sizemode": "area",
          "sizeref": 0.015674999999999998,
          "symbol": "circle"
         },
         "mode": "markers",
         "name": "Delmiro Gouveia",
         "orientation": "v",
         "showlegend": true,
         "type": "scatter",
         "x": [
          2010,
          2011,
          2012,
          2013,
          2014,
          2015,
          2020
         ],
         "xaxis": "x",
         "y": [
          34854,
          35142,
          35419,
          36958,
          37211,
          37681,
          37873
         ],
         "yaxis": "y"
        },
        {
         "hovertemplate": "Município=Feira Grande<br>Ano de Referência=%{x}<br>G06B - População urbana residente do(s) município(s) com esgotamento sanitário=%{y}<br>IN004 - Tarifa média praticada=%{marker.size}<extra></extra>",
         "legendgroup": "Feira Grande",
         "marker": {
          "color": "#00cc96",
          "size": [
           0.5
          ],
          "sizemode": "area",
          "sizeref": 0.015674999999999998,
          "symbol": "circle"
         },
         "mode": "markers",
         "name": "Feira Grande",
         "orientation": "v",
         "showlegend": true,
         "type": "scatter",
         "x": [
          2020
         ],
         "xaxis": "x",
         "y": [
          3559
         ],
         "yaxis": "y"
        },
        {
         "hovertemplate": "Município=Feliz Deserto<br>Ano de Referência=%{x}<br>G06B - População urbana residente do(s) município(s) com esgotamento sanitário=%{y}<br>IN004 - Tarifa média praticada=%{marker.size}<extra></extra>",
         "legendgroup": "Feliz Deserto",
         "marker": {
          "color": "#ab63fa",
          "size": [
           1.52,
           1.52,
           1.52
          ],
          "sizemode": "area",
          "sizeref": 0.015674999999999998,
          "symbol": "circle"
         },
         "mode": "markers",
         "name": "Feliz Deserto",
         "orientation": "v",
         "showlegend": true,
         "type": "scatter",
         "x": [
          2012,
          2019,
          2020
         ],
         "xaxis": "x",
         "y": [
          3591,
          3591,
          3591
         ],
         "yaxis": "y"
        },
        {
         "hovertemplate": "Município=Flexeiras<br>Ano de Referência=%{x}<br>G06B - População urbana residente do(s) município(s) com esgotamento sanitário=%{y}<br>IN004 - Tarifa média praticada=%{marker.size}<extra></extra>",
         "legendgroup": "Flexeiras",
         "marker": {
          "color": "#FFA15A",
          "size": [
           1.52,
           1.52
          ],
          "sizemode": "area",
          "sizeref": 0.015674999999999998,
          "symbol": "circle"
         },
         "mode": "markers",
         "name": "Flexeiras",
         "orientation": "v",
         "showlegend": true,
         "type": "scatter",
         "x": [
          2014,
          2020
         ],
         "xaxis": "x",
         "y": [
          8385,
          8331
         ],
         "yaxis": "y"
        },
        {
         "hovertemplate": "Município=Ibateguara<br>Ano de Referência=%{x}<br>G06B - População urbana residente do(s) município(s) com esgotamento sanitário=%{y}<br>IN004 - Tarifa média praticada=%{marker.size}<extra></extra>",
         "legendgroup": "Ibateguara",
         "marker": {
          "color": "#19d3f3",
          "size": [
           1.52
          ],
          "sizemode": "area",
          "sizeref": 0.015674999999999998,
          "symbol": "circle"
         },
         "mode": "markers",
         "name": "Ibateguara",
         "orientation": "v",
         "showlegend": true,
         "type": "scatter",
         "x": [
          2020
         ],
         "xaxis": "x",
         "y": [
          9630
         ],
         "yaxis": "y"
        },
        {
         "hovertemplate": "Município=Igaci<br>Ano de Referência=%{x}<br>G06B - População urbana residente do(s) município(s) com esgotamento sanitário=%{y}<br>IN004 - Tarifa média praticada=%{marker.size}<extra></extra>",
         "legendgroup": "Igaci",
         "marker": {
          "color": "#FF6692",
          "size": [
           1.52
          ],
          "sizemode": "area",
          "sizeref": 0.015674999999999998,
          "symbol": "circle"
         },
         "mode": "markers",
         "name": "Igaci",
         "orientation": "v",
         "showlegend": true,
         "type": "scatter",
         "x": [
          2020
         ],
         "xaxis": "x",
         "y": [
          6288
         ],
         "yaxis": "y"
        },
        {
         "hovertemplate": "Município=Jacuípe<br>Ano de Referência=%{x}<br>G06B - População urbana residente do(s) município(s) com esgotamento sanitário=%{y}<br>IN004 - Tarifa média praticada=%{marker.size}<extra></extra>",
         "legendgroup": "Jacuípe",
         "marker": {
          "color": "#B6E880",
          "size": [
           1.52
          ],
          "sizemode": "area",
          "sizeref": 0.015674999999999998,
          "symbol": "circle"
         },
         "mode": "markers",
         "name": "Jacuípe",
         "orientation": "v",
         "showlegend": true,
         "type": "scatter",
         "x": [
          2011
         ],
         "xaxis": "x",
         "y": [
          4340
         ],
         "yaxis": "y"
        },
        {
         "hovertemplate": "Município=Jaramataia<br>Ano de Referência=%{x}<br>G06B - População urbana residente do(s) município(s) com esgotamento sanitário=%{y}<br>IN004 - Tarifa média praticada=%{marker.size}<extra></extra>",
         "legendgroup": "Jaramataia",
         "marker": {
          "color": "#FF97FF",
          "size": [
           1.52,
           1.52
          ],
          "sizemode": "area",
          "sizeref": 0.015674999999999998,
          "symbol": "circle"
         },
         "mode": "markers",
         "name": "Jaramataia",
         "orientation": "v",
         "showlegend": true,
         "type": "scatter",
         "x": [
          2018,
          2019
         ],
         "xaxis": "x",
         "y": [
          2933,
          3024
         ],
         "yaxis": "y"
        },
        {
         "hovertemplate": "Município=Jequiá da Praia<br>Ano de Referência=%{x}<br>G06B - População urbana residente do(s) município(s) com esgotamento sanitário=%{y}<br>IN004 - Tarifa média praticada=%{marker.size}<extra></extra>",
         "legendgroup": "Jequiá da Praia",
         "marker": {
          "color": "#FECB52",
          "size": [
           0.48,
           0.65,
           0.51,
           0.51,
           2.28
          ],
          "sizemode": "area",
          "sizeref": 0.015674999999999998,
          "symbol": "circle"
         },
         "mode": "markers",
         "name": "Jequiá da Praia",
         "orientation": "v",
         "showlegend": true,
         "type": "scatter",
         "x": [
          2012,
          2013,
          2014,
          2016,
          2020
         ],
         "xaxis": "x",
         "y": [
          3024,
          3024,
          3024,
          3024,
          3024
         ],
         "yaxis": "y"
        },
        {
         "hovertemplate": "Município=Limoeiro de Anadia<br>Ano de Referência=%{x}<br>G06B - População urbana residente do(s) município(s) com esgotamento sanitário=%{y}<br>IN004 - Tarifa média praticada=%{marker.size}<extra></extra>",
         "legendgroup": "Limoeiro de Anadia",
         "marker": {
          "color": "#636efa",
          "size": [
           0.17,
           0.15,
           5.39,
           5.39,
           5.39
          ],
          "sizemode": "area",
          "sizeref": 0.015674999999999998,
          "symbol": "circle"
         },
         "mode": "markers",
         "name": "Limoeiro de Anadia",
         "orientation": "v",
         "showlegend": true,
         "type": "scatter",
         "x": [
          2009,
          2010,
          2014,
          2015,
          2016
         ],
         "xaxis": "x",
         "y": [
          3024,
          2246,
          2246,
          2246,
          2246
         ],
         "yaxis": "y"
        },
        {
         "hovertemplate": "Município=Maceió<br>Ano de Referência=%{x}<br>G06B - População urbana residente do(s) município(s) com esgotamento sanitário=%{y}<br>IN004 - Tarifa média praticada=%{marker.size}<extra></extra>",
         "legendgroup": "Maceió",
         "marker": {
          "color": "#EF553B",
          "size": [
           0.57,
           0.68,
           0.88,
           0.98,
           1.08,
           1.15,
           1.18,
           1.4,
           1.55,
           1.8,
           1.86,
           1.91,
           2.25,
           2.48,
           2.62,
           2.65,
           2.82,
           2.11,
           3.71,
           3.07,
           3.78,
           5.32,
           5.41,
           5.63,
           6.05,
           6.27
          ],
          "sizemode": "area",
          "sizeref": 0.015674999999999998,
          "symbol": "circle"
         },
         "mode": "markers",
         "name": "Maceió",
         "orientation": "v",
         "showlegend": true,
         "type": "scatter",
         "x": [
          1995,
          1996,
          1997,
          1998,
          1999,
          2000,
          2001,
          2002,
          2003,
          2004,
          2005,
          2006,
          2007,
          2008,
          2009,
          2010,
          2011,
          2012,
          2013,
          2014,
          2015,
          2016,
          2017,
          2018,
          2019,
          2020
         ],
         "xaxis": "x",
         "y": [
          2246,
          2246,
          2246,
          720222,
          742026,
          796234,
          830426,
          850895,
          849106,
          883684,
          901249,
          921812,
          926655,
          954752,
          967473,
          963943,
          974776,
          1037395,
          1143687,
          1157776,
          1173421,
          1250978,
          1259291,
          1238997,
          1442610,
          1438282
         ],
         "yaxis": "y"
        },
        {
         "hovertemplate": "Município=Mar Vermelho<br>Ano de Referência=%{x}<br>G06B - População urbana residente do(s) município(s) com esgotamento sanitário=%{y}<br>IN004 - Tarifa média praticada=%{marker.size}<extra></extra>",
         "legendgroup": "Mar Vermelho",
         "marker": {
          "color": "#00cc96",
          "size": [
           6.27
          ],
          "sizemode": "area",
          "sizeref": 0.015674999999999998,
          "symbol": "circle"
         },
         "mode": "markers",
         "name": "Mar Vermelho",
         "orientation": "v",
         "showlegend": true,
         "type": "scatter",
         "x": [
          2020
         ],
         "xaxis": "x",
         "y": [
          1567
         ],
         "yaxis": "y"
        },
        {
         "hovertemplate": "Município=Marechal Deodoro<br>Ano de Referência=%{x}<br>G06B - População urbana residente do(s) município(s) com esgotamento sanitário=%{y}<br>IN004 - Tarifa média praticada=%{marker.size}<extra></extra>",
         "legendgroup": "Marechal Deodoro",
         "marker": {
          "color": "#ab63fa",
          "size": [
           0.72,
           0.8,
           0.85,
           0.89,
           1.25,
           1.32,
           1.6,
           1.68,
           1.77,
           1.84,
           1.92,
           1.92,
           2.49,
           2.49,
           2.57,
           2.51,
           2.75,
           2.93,
           2.5,
           2.69,
           2.32,
           1.83
          ],
          "sizemode": "area",
          "sizeref": 0.015674999999999998,
          "symbol": "circle"
         },
         "mode": "markers",
         "name": "Marechal Deodoro",
         "orientation": "v",
         "showlegend": true,
         "type": "scatter",
         "x": [
          1997,
          1998,
          1999,
          2000,
          2002,
          2003,
          2004,
          2005,
          2006,
          2007,
          2008,
          2009,
          2010,
          2011,
          2012,
          2013,
          2014,
          2015,
          2017,
          2018,
          2019,
          2020
         ],
         "xaxis": "x",
         "y": [
          0,
          0,
          0,
          0,
          0,
          0,
          0,
          0,
          0,
          0,
          0,
          39644,
          43392,
          44125,
          44833,
          47050,
          47672,
          48257,
          49322,
          48476,
          48983,
          49435
         ],
         "yaxis": "y"
        },
        {
         "hovertemplate": "Município=Messias<br>Ano de Referência=%{x}<br>G06B - População urbana residente do(s) município(s) com esgotamento sanitário=%{y}<br>IN004 - Tarifa média praticada=%{marker.size}<extra></extra>",
         "legendgroup": "Messias",
         "marker": {
          "color": "#FFA15A",
          "size": [
           1.83,
           1.83,
           1.83
          ],
          "sizemode": "area",
          "sizeref": 0.015674999999999998,
          "symbol": "circle"
         },
         "mode": "markers",
         "name": "Messias",
         "orientation": "v",
         "showlegend": true,
         "type": "scatter",
         "x": [
          2012,
          2013,
          2014
         ],
         "xaxis": "x",
         "y": [
          14818,
          15562,
          15780
         ],
         "yaxis": "y"
        },
        {
         "hovertemplate": "Município=Murici<br>Ano de Referência=%{x}<br>G06B - População urbana residente do(s) município(s) com esgotamento sanitário=%{y}<br>IN004 - Tarifa média praticada=%{marker.size}<extra></extra>",
         "legendgroup": "Murici",
         "marker": {
          "color": "#19d3f3",
          "size": [
           1.83
          ],
          "sizemode": "area",
          "sizeref": 0.015674999999999998,
          "symbol": "circle"
         },
         "mode": "markers",
         "name": "Murici",
         "orientation": "v",
         "showlegend": true,
         "type": "scatter",
         "x": [
          2009
         ],
         "xaxis": "x",
         "y": [
          21605
         ],
         "yaxis": "y"
        },
        {
         "hovertemplate": "Município=Novo Lino<br>Ano de Referência=%{x}<br>G06B - População urbana residente do(s) município(s) com esgotamento sanitário=%{y}<br>IN004 - Tarifa média praticada=%{marker.size}<extra></extra>",
         "legendgroup": "Novo Lino",
         "marker": {
          "color": "#FF6692",
          "size": [
           1.83
          ],
          "sizemode": "area",
          "sizeref": 0.015674999999999998,
          "symbol": "circle"
         },
         "mode": "markers",
         "name": "Novo Lino",
         "orientation": "v",
         "showlegend": true,
         "type": "scatter",
         "x": [
          2018
         ],
         "xaxis": "x",
         "y": [
          7665
         ],
         "yaxis": "y"
        },
        {
         "hovertemplate": "Município=Olho d Água do Casado<br>Ano de Referência=%{x}<br>G06B - População urbana residente do(s) município(s) com esgotamento sanitário=%{y}<br>IN004 - Tarifa média praticada=%{marker.size}<extra></extra>",
         "legendgroup": "Olho d Água do Casado",
         "marker": {
          "color": "#B6E880",
          "size": [
           1.83
          ],
          "sizemode": "area",
          "sizeref": 0.015674999999999998,
          "symbol": "circle"
         },
         "mode": "markers",
         "name": "Olho d Água do Casado",
         "orientation": "v",
         "showlegend": true,
         "type": "scatter",
         "x": [
          2020
         ],
         "xaxis": "x",
         "y": [
          4478
         ],
         "yaxis": "y"
        },
        {
         "hovertemplate": "Município=Penedo<br>Ano de Referência=%{x}<br>G06B - População urbana residente do(s) município(s) com esgotamento sanitário=%{y}<br>IN004 - Tarifa média praticada=%{marker.size}<extra></extra>",
         "legendgroup": "Penedo",
         "marker": {
          "color": "#FF97FF",
          "size": [
           0.6,
           0.59,
           0.62,
           0.7,
           0.8,
           0.87,
           0.98,
           1.04,
           1.21,
           1.23,
           1.42,
           1.37,
           1.5,
           1.44,
           2.09,
           2.59,
           2.79,
           2.95,
           4.39,
           4.61,
           4.28,
           3.96
          ],
          "sizemode": "area",
          "sizeref": 0.015674999999999998,
          "symbol": "circle"
         },
         "mode": "markers",
         "name": "Penedo",
         "orientation": "v",
         "showlegend": true,
         "type": "scatter",
         "x": [
          1999,
          2000,
          2001,
          2002,
          2003,
          2004,
          2005,
          2006,
          2007,
          2008,
          2009,
          2010,
          2011,
          2012,
          2013,
          2014,
          2015,
          2016,
          2017,
          2018,
          2019,
          2020
         ],
         "xaxis": "x",
         "y": [
          0,
          0,
          0,
          0,
          0,
          0,
          0,
          0,
          0,
          0,
          0,
          0,
          0,
          0,
          0,
          0,
          0,
          0,
          0,
          0,
          0,
          0
         ],
         "yaxis": "y"
        },
        {
         "hovertemplate": "Município=Piaçabuçu<br>Ano de Referência=%{x}<br>G06B - População urbana residente do(s) município(s) com esgotamento sanitário=%{y}<br>IN004 - Tarifa média praticada=%{marker.size}<extra></extra>",
         "legendgroup": "Piaçabuçu",
         "marker": {
          "color": "#FECB52",
          "size": [
           3.96
          ],
          "sizemode": "area",
          "sizeref": 0.015674999999999998,
          "symbol": "circle"
         },
         "mode": "markers",
         "name": "Piaçabuçu",
         "orientation": "v",
         "showlegend": true,
         "type": "scatter",
         "x": [
          2020
         ],
         "xaxis": "x",
         "y": [
          10827
         ],
         "yaxis": "y"
        },
        {
         "hovertemplate": "Município=Pilar<br>Ano de Referência=%{x}<br>G06B - População urbana residente do(s) município(s) com esgotamento sanitário=%{y}<br>IN004 - Tarifa média praticada=%{marker.size}<extra></extra>",
         "legendgroup": "Pilar",
         "marker": {
          "color": "#636efa",
          "size": [
           0.47,
           0.47,
           0.82,
           0.82,
           1.48
          ],
          "sizemode": "area",
          "sizeref": 0.015674999999999998,
          "symbol": "circle"
         },
         "mode": "markers",
         "name": "Pilar",
         "orientation": "v",
         "showlegend": true,
         "type": "scatter",
         "x": [
          2012,
          2013,
          2014,
          2015,
          2020
         ],
         "xaxis": "x",
         "y": [
          10827,
          10827,
          33566,
          33701,
          33622
         ],
         "yaxis": "y"
        },
        {
         "hovertemplate": "Município=Porto Calvo<br>Ano de Referência=%{x}<br>G06B - População urbana residente do(s) município(s) com esgotamento sanitário=%{y}<br>IN004 - Tarifa média praticada=%{marker.size}<extra></extra>",
         "legendgroup": "Porto Calvo",
         "marker": {
          "color": "#EF553B",
          "size": [
           1.48,
           1.48,
           1.48,
           1.48
          ],
          "sizemode": "area",
          "sizeref": 0.015674999999999998,
          "symbol": "circle"
         },
         "mode": "markers",
         "name": "Porto Calvo",
         "orientation": "v",
         "showlegend": true,
         "type": "scatter",
         "x": [
          2017,
          2018,
          2019,
          2020
         ],
         "xaxis": "x",
         "y": [
          33622,
          33622,
          33622,
          33622
         ],
         "yaxis": "y"
        },
        {
         "hovertemplate": "Município=Porto Real do Colégio<br>Ano de Referência=%{x}<br>G06B - População urbana residente do(s) município(s) com esgotamento sanitário=%{y}<br>IN004 - Tarifa média praticada=%{marker.size}<extra></extra>",
         "legendgroup": "Porto Real do Colégio",
         "marker": {
          "color": "#00cc96",
          "size": [
           0.65,
           0.72,
           0.75,
           0.98,
           0.96,
           0.96
          ],
          "sizemode": "area",
          "sizeref": 0.015674999999999998,
          "symbol": "circle"
         },
         "mode": "markers",
         "name": "Porto Real do Colégio",
         "orientation": "v",
         "showlegend": true,
         "type": "scatter",
         "x": [
          2001,
          2002,
          2003,
          2005,
          2006,
          2010
         ],
         "xaxis": "x",
         "y": [
          0,
          0,
          0,
          0,
          0,
          6606
         ],
         "yaxis": "y"
        },
        {
         "hovertemplate": "Município=Pão de Açúcar<br>Ano de Referência=%{x}<br>G06B - População urbana residente do(s) município(s) com esgotamento sanitário=%{y}<br>IN004 - Tarifa média praticada=%{marker.size}<extra></extra>",
         "legendgroup": "Pão de Açúcar",
         "marker": {
          "color": "#ab63fa",
          "size": [
           0.53,
           0.6,
           0.73,
           0.74,
           0.78,
           1.04,
           1.15,
           1.27,
           1.36,
           1.34,
           1.57,
           1.57,
           1.86,
           1.9,
           1.78,
           1.67,
           1.85,
           1.6,
           1.89,
           4.22,
           4.56,
           5.53
          ],
          "sizemode": "area",
          "sizeref": 0.015674999999999998,
          "symbol": "circle"
         },
         "mode": "markers",
         "name": "Pão de Açúcar",
         "orientation": "v",
         "showlegend": true,
         "type": "scatter",
         "x": [
          1998,
          1999,
          2000,
          2001,
          2002,
          2003,
          2004,
          2005,
          2006,
          2007,
          2008,
          2009,
          2010,
          2011,
          2012,
          2013,
          2014,
          2015,
          2016,
          2017,
          2018,
          2020
         ],
         "xaxis": "x",
         "y": [
          0,
          0,
          0,
          0,
          0,
          0,
          0,
          0,
          0,
          0,
          0,
          0,
          0,
          0,
          0,
          0,
          0,
          0,
          0,
          0,
          0,
          0
         ],
         "yaxis": "y"
        },
        {
         "hovertemplate": "Município=Quebrangulo<br>Ano de Referência=%{x}<br>G06B - População urbana residente do(s) município(s) com esgotamento sanitário=%{y}<br>IN004 - Tarifa média praticada=%{marker.size}<extra></extra>",
         "legendgroup": "Quebrangulo",
         "marker": {
          "color": "#FFA15A",
          "size": [
           5.53
          ],
          "sizemode": "area",
          "sizeref": 0.015674999999999998,
          "symbol": "circle"
         },
         "mode": "markers",
         "name": "Quebrangulo",
         "orientation": "v",
         "showlegend": true,
         "type": "scatter",
         "x": [
          2010
         ],
         "xaxis": "x",
         "y": [
          6474
         ],
         "yaxis": "y"
        },
        {
         "hovertemplate": "Município=Roteiro<br>Ano de Referência=%{x}<br>G06B - População urbana residente do(s) município(s) com esgotamento sanitário=%{y}<br>IN004 - Tarifa média praticada=%{marker.size}<extra></extra>",
         "legendgroup": "Roteiro",
         "marker": {
          "color": "#19d3f3",
          "size": [
           5.53,
           5.53,
           5.53,
           5.53
          ],
          "sizemode": "area",
          "sizeref": 0.015674999999999998,
          "symbol": "circle"
         },
         "mode": "markers",
         "name": "Roteiro",
         "orientation": "v",
         "showlegend": true,
         "type": "scatter",
         "x": [
          2012,
          2018,
          2019,
          2020
         ],
         "xaxis": "x",
         "y": [
          5787,
          5851,
          5837,
          5824
         ],
         "yaxis": "y"
        },
        {
         "hovertemplate": "Município=Santana do Mundaú<br>Ano de Referência=%{x}<br>G06B - População urbana residente do(s) município(s) com esgotamento sanitário=%{y}<br>IN004 - Tarifa média praticada=%{marker.size}<extra></extra>",
         "legendgroup": "Santana do Mundaú",
         "marker": {
          "color": "#FF6692",
          "size": [
           5.53,
           0,
           0,
           0,
           0
          ],
          "sizemode": "area",
          "sizeref": 0.015674999999999998,
          "symbol": "circle"
         },
         "mode": "markers",
         "name": "Santana do Mundaú",
         "orientation": "v",
         "showlegend": true,
         "type": "scatter",
         "x": [
          2012,
          2013,
          2014,
          2015,
          2020
         ],
         "xaxis": "x",
         "y": [
          5824,
          5824,
          5824,
          5824,
          5517
         ],
         "yaxis": "y"
        },
        {
         "hovertemplate": "Município=São José da Laje<br>Ano de Referência=%{x}<br>G06B - População urbana residente do(s) município(s) com esgotamento sanitário=%{y}<br>IN004 - Tarifa média praticada=%{marker.size}<extra></extra>",
         "legendgroup": "São José da Laje",
         "marker": {
          "color": "#B6E880",
          "size": [
           1.8,
           1.28,
           3.47,
           4.01,
           3.92
          ],
          "sizemode": "area",
          "sizeref": 0.015674999999999998,
          "symbol": "circle"
         },
         "mode": "markers",
         "name": "São José da Laje",
         "orientation": "v",
         "showlegend": true,
         "type": "scatter",
         "x": [
          2012,
          2013,
          2018,
          2019,
          2020
         ],
         "xaxis": "x",
         "y": [
          15540,
          16179,
          16179,
          16179,
          16179
         ],
         "yaxis": "y"
        },
        {
         "hovertemplate": "Município=São Luís do Quitunde<br>Ano de Referência=%{x}<br>G06B - População urbana residente do(s) município(s) com esgotamento sanitário=%{y}<br>IN004 - Tarifa média praticada=%{marker.size}<extra></extra>",
         "legendgroup": "São Luís do Quitunde",
         "marker": {
          "color": "#FF97FF",
          "size": [
           1.35,
           1.43
          ],
          "sizemode": "area",
          "sizeref": 0.015674999999999998,
          "symbol": "circle"
         },
         "mode": "markers",
         "name": "São Luís do Quitunde",
         "orientation": "v",
         "showlegend": true,
         "type": "scatter",
         "x": [
          2005,
          2006
         ],
         "xaxis": "x",
         "y": [
          16179,
          16179
         ],
         "yaxis": "y"
        },
        {
         "hovertemplate": "Município=São Miguel dos Campos<br>Ano de Referência=%{x}<br>G06B - População urbana residente do(s) município(s) com esgotamento sanitário=%{y}<br>IN004 - Tarifa média praticada=%{marker.size}<extra></extra>",
         "legendgroup": "São Miguel dos Campos",
         "marker": {
          "color": "#FECB52",
          "size": [
           1.43,
           0.99,
           0.69,
           0.81,
           1.07,
           1.13,
           1.36,
           1.61,
           1.61,
           2.1,
           2.09,
           2.15,
           2.55,
           2.11,
           2.18,
           2.13,
           2.1,
           2.05,
           2.04
          ],
          "sizemode": "area",
          "sizeref": 0.015674999999999998,
          "symbol": "circle"
         },
         "mode": "markers",
         "name": "São Miguel dos Campos",
         "orientation": "v",
         "showlegend": true,
         "type": "scatter",
         "x": [
          1999,
          2000,
          2001,
          2003,
          2005,
          2006,
          2007,
          2008,
          2010,
          2011,
          2012,
          2013,
          2014,
          2015,
          2016,
          2017,
          2018,
          2019,
          2020
         ],
         "xaxis": "x",
         "y": [
          16179,
          35801,
          47079,
          29653,
          29794,
          29843,
          46708,
          48157,
          52566,
          53419,
          54244,
          56900,
          57625,
          58308,
          58949,
          59549,
          58536,
          58994,
          59520
         ],
         "yaxis": "y"
        },
        {
         "hovertemplate": "Município=São Miguel dos Milagres<br>Ano de Referência=%{x}<br>G06B - População urbana residente do(s) município(s) com esgotamento sanitário=%{y}<br>IN004 - Tarifa média praticada=%{marker.size}<extra></extra>",
         "legendgroup": "São Miguel dos Milagres",
         "marker": {
          "color": "#636efa",
          "size": [
           0.76,
           1.04,
           2.11
          ],
          "sizemode": "area",
          "sizeref": 0.015674999999999998,
          "symbol": "circle"
         },
         "mode": "markers",
         "name": "São Miguel dos Milagres",
         "orientation": "v",
         "showlegend": true,
         "type": "scatter",
         "x": [
          2006,
          2011,
          2020
         ],
         "xaxis": "x",
         "y": [
          59520,
          2293,
          2293
         ],
         "yaxis": "y"
        },
        {
         "hovertemplate": "Município=Tanque d Arca<br>Ano de Referência=%{x}<br>G06B - População urbana residente do(s) município(s) com esgotamento sanitário=%{y}<br>IN004 - Tarifa média praticada=%{marker.size}<extra></extra>",
         "legendgroup": "Tanque d Arca",
         "marker": {
          "color": "#EF553B",
          "size": [
           0
          ],
          "sizemode": "area",
          "sizeref": 0.015674999999999998,
          "symbol": "circle"
         },
         "mode": "markers",
         "name": "Tanque d Arca",
         "orientation": "v",
         "showlegend": true,
         "type": "scatter",
         "x": [
          2020
         ],
         "xaxis": "x",
         "y": [
          2293
         ],
         "yaxis": "y"
        },
        {
         "hovertemplate": "Município=Taquarana<br>Ano de Referência=%{x}<br>G06B - População urbana residente do(s) município(s) com esgotamento sanitário=%{y}<br>IN004 - Tarifa média praticada=%{marker.size}<extra></extra>",
         "legendgroup": "Taquarana",
         "marker": {
          "color": "#00cc96",
          "size": [
           0,
           0,
           0
          ],
          "sizemode": "area",
          "sizeref": 0.015674999999999998,
          "symbol": "circle"
         },
         "mode": "markers",
         "name": "Taquarana",
         "orientation": "v",
         "showlegend": true,
         "type": "scatter",
         "x": [
          2016,
          2017,
          2018
         ],
         "xaxis": "x",
         "y": [
          7728,
          7770,
          7647
         ],
         "yaxis": "y"
        },
        {
         "hovertemplate": "Município=Teotônio Vilela<br>Ano de Referência=%{x}<br>G06B - População urbana residente do(s) município(s) com esgotamento sanitário=%{y}<br>IN004 - Tarifa média praticada=%{marker.size}<extra></extra>",
         "legendgroup": "Teotônio Vilela",
         "marker": {
          "color": "#ab63fa",
          "size": [
           0.59,
           0.86,
           0.86,
           1.29,
           1.69,
           1.57,
           1.06,
           1.11,
           1.41,
           2.92,
           1.49
          ],
          "sizemode": "area",
          "sizeref": 0.015674999999999998,
          "symbol": "circle"
         },
         "mode": "markers",
         "name": "Teotônio Vilela",
         "orientation": "v",
         "showlegend": true,
         "type": "scatter",
         "x": [
          2010,
          2011,
          2012,
          2013,
          2014,
          2015,
          2016,
          2017,
          2018,
          2019,
          2020
         ],
         "xaxis": "x",
         "y": [
          7647,
          7647,
          7647,
          7647,
          37104,
          37335,
          37552,
          37755,
          37159,
          37335,
          37507
         ],
         "yaxis": "y"
        },
        {
         "hovertemplate": "Município=União dos Palmares<br>Ano de Referência=%{x}<br>G06B - População urbana residente do(s) município(s) com esgotamento sanitário=%{y}<br>IN004 - Tarifa média praticada=%{marker.size}<extra></extra>",
         "legendgroup": "União dos Palmares",
         "marker": {
          "color": "#FFA15A",
          "size": [
           0.79,
           0.92,
           0.96,
           1.03,
           0.99,
           1,
           1.15,
           1.34,
           1.38,
           1.37,
           1.48,
           1.8,
           1.81,
           1.9,
           1.98,
           2.4,
           2.36,
           2.21,
           2.89,
           3.27,
           3.45,
           3.22
          ],
          "sizemode": "area",
          "sizeref": 0.015674999999999998,
          "symbol": "circle"
         },
         "mode": "markers",
         "name": "União dos Palmares",
         "orientation": "v",
         "showlegend": true,
         "type": "scatter",
         "x": [
          1998,
          2000,
          2001,
          2002,
          2003,
          2004,
          2005,
          2006,
          2007,
          2008,
          2009,
          2010,
          2011,
          2012,
          2013,
          2014,
          2015,
          2016,
          2017,
          2018,
          2019,
          2020
         ],
         "xaxis": "x",
         "y": [
          0,
          0,
          0,
          0,
          38107,
          38107,
          38107,
          38107,
          38107,
          38107,
          38107,
          38107,
          38107,
          38107,
          38107,
          50254,
          50447,
          50629,
          50799,
          50022,
          50137,
          50274
         ],
         "yaxis": "y"
        },
        {
         "hovertemplate": "Município=Viçosa<br>Ano de Referência=%{x}<br>G06B - População urbana residente do(s) município(s) com esgotamento sanitário=%{y}<br>IN004 - Tarifa média praticada=%{marker.size}<extra></extra>",
         "legendgroup": "Viçosa",
         "marker": {
          "color": "#19d3f3",
          "size": [
           0.57,
           1.43,
           1.45,
           1.56,
           1.43,
           1.45,
           1.82,
           1.92,
           2.16,
           2.49,
           2.99,
           2.79,
           3.29,
           3.39,
           4.42
          ],
          "sizemode": "area",
          "sizeref": 0.015674999999999998,
          "symbol": "circle"
         },
         "mode": "markers",
         "name": "Viçosa",
         "orientation": "v",
         "showlegend": true,
         "type": "scatter",
         "x": [
          2006,
          2007,
          2008,
          2009,
          2010,
          2011,
          2012,
          2013,
          2014,
          2015,
          2016,
          2017,
          2018,
          2019,
          2020
         ],
         "xaxis": "x",
         "y": [
          50274,
          50274,
          50274,
          50274,
          50274,
          50274,
          50274,
          50274,
          50274,
          50274,
          50274,
          50274,
          50274,
          50274,
          50274
         ],
         "yaxis": "y"
        },
        {
         "hovertemplate": "Município=Água Branca<br>Ano de Referência=%{x}<br>G06B - População urbana residente do(s) município(s) com esgotamento sanitário=%{y}<br>IN004 - Tarifa média praticada=%{marker.size}<extra></extra>",
         "legendgroup": "Água Branca",
         "marker": {
          "color": "#FF6692",
          "size": [
           4.42,
           4.42,
           4.42
          ],
          "sizemode": "area",
          "sizeref": 0.015674999999999998,
          "symbol": "circle"
         },
         "mode": "markers",
         "name": "Água Branca",
         "orientation": "v",
         "showlegend": true,
         "type": "scatter",
         "x": [
          2016,
          2017,
          2020
         ],
         "xaxis": "x",
         "y": [
          5376,
          5388,
          5326
         ],
         "yaxis": "y"
        }
       ],
       "layout": {
        "autosize": true,
        "legend": {
         "itemsizing": "constant",
         "title": {
          "text": "Município"
         },
         "tracegroupgap": 0
        },
        "margin": {
         "t": 60
        },
        "template": {
         "data": {
          "bar": [
           {
            "error_x": {
             "color": "#2a3f5f"
            },
            "error_y": {
             "color": "#2a3f5f"
            },
            "marker": {
             "line": {
              "color": "#E5ECF6",
              "width": 0.5
             },
             "pattern": {
              "fillmode": "overlay",
              "size": 10,
              "solidity": 0.2
             }
            },
            "type": "bar"
           }
          ],
          "barpolar": [
           {
            "marker": {
             "line": {
              "color": "#E5ECF6",
              "width": 0.5
             },
             "pattern": {
              "fillmode": "overlay",
              "size": 10,
              "solidity": 0.2
             }
            },
            "type": "barpolar"
           }
          ],
          "carpet": [
           {
            "aaxis": {
             "endlinecolor": "#2a3f5f",
             "gridcolor": "white",
             "linecolor": "white",
             "minorgridcolor": "white",
             "startlinecolor": "#2a3f5f"
            },
            "baxis": {
             "endlinecolor": "#2a3f5f",
             "gridcolor": "white",
             "linecolor": "white",
             "minorgridcolor": "white",
             "startlinecolor": "#2a3f5f"
            },
            "type": "carpet"
           }
          ],
          "choropleth": [
           {
            "colorbar": {
             "outlinewidth": 0,
             "ticks": ""
            },
            "type": "choropleth"
           }
          ],
          "contour": [
           {
            "colorbar": {
             "outlinewidth": 0,
             "ticks": ""
            },
            "colorscale": [
             [
              0,
              "#0d0887"
             ],
             [
              0.1111111111111111,
              "#46039f"
             ],
             [
              0.2222222222222222,
              "#7201a8"
             ],
             [
              0.3333333333333333,
              "#9c179e"
             ],
             [
              0.4444444444444444,
              "#bd3786"
             ],
             [
              0.5555555555555556,
              "#d8576b"
             ],
             [
              0.6666666666666666,
              "#ed7953"
             ],
             [
              0.7777777777777778,
              "#fb9f3a"
             ],
             [
              0.8888888888888888,
              "#fdca26"
             ],
             [
              1,
              "#f0f921"
             ]
            ],
            "type": "contour"
           }
          ],
          "contourcarpet": [
           {
            "colorbar": {
             "outlinewidth": 0,
             "ticks": ""
            },
            "type": "contourcarpet"
           }
          ],
          "heatmap": [
           {
            "colorbar": {
             "outlinewidth": 0,
             "ticks": ""
            },
            "colorscale": [
             [
              0,
              "#0d0887"
             ],
             [
              0.1111111111111111,
              "#46039f"
             ],
             [
              0.2222222222222222,
              "#7201a8"
             ],
             [
              0.3333333333333333,
              "#9c179e"
             ],
             [
              0.4444444444444444,
              "#bd3786"
             ],
             [
              0.5555555555555556,
              "#d8576b"
             ],
             [
              0.6666666666666666,
              "#ed7953"
             ],
             [
              0.7777777777777778,
              "#fb9f3a"
             ],
             [
              0.8888888888888888,
              "#fdca26"
             ],
             [
              1,
              "#f0f921"
             ]
            ],
            "type": "heatmap"
           }
          ],
          "heatmapgl": [
           {
            "colorbar": {
             "outlinewidth": 0,
             "ticks": ""
            },
            "colorscale": [
             [
              0,
              "#0d0887"
             ],
             [
              0.1111111111111111,
              "#46039f"
             ],
             [
              0.2222222222222222,
              "#7201a8"
             ],
             [
              0.3333333333333333,
              "#9c179e"
             ],
             [
              0.4444444444444444,
              "#bd3786"
             ],
             [
              0.5555555555555556,
              "#d8576b"
             ],
             [
              0.6666666666666666,
              "#ed7953"
             ],
             [
              0.7777777777777778,
              "#fb9f3a"
             ],
             [
              0.8888888888888888,
              "#fdca26"
             ],
             [
              1,
              "#f0f921"
             ]
            ],
            "type": "heatmapgl"
           }
          ],
          "histogram": [
           {
            "marker": {
             "pattern": {
              "fillmode": "overlay",
              "size": 10,
              "solidity": 0.2
             }
            },
            "type": "histogram"
           }
          ],
          "histogram2d": [
           {
            "colorbar": {
             "outlinewidth": 0,
             "ticks": ""
            },
            "colorscale": [
             [
              0,
              "#0d0887"
             ],
             [
              0.1111111111111111,
              "#46039f"
             ],
             [
              0.2222222222222222,
              "#7201a8"
             ],
             [
              0.3333333333333333,
              "#9c179e"
             ],
             [
              0.4444444444444444,
              "#bd3786"
             ],
             [
              0.5555555555555556,
              "#d8576b"
             ],
             [
              0.6666666666666666,
              "#ed7953"
             ],
             [
              0.7777777777777778,
              "#fb9f3a"
             ],
             [
              0.8888888888888888,
              "#fdca26"
             ],
             [
              1,
              "#f0f921"
             ]
            ],
            "type": "histogram2d"
           }
          ],
          "histogram2dcontour": [
           {
            "colorbar": {
             "outlinewidth": 0,
             "ticks": ""
            },
            "colorscale": [
             [
              0,
              "#0d0887"
             ],
             [
              0.1111111111111111,
              "#46039f"
             ],
             [
              0.2222222222222222,
              "#7201a8"
             ],
             [
              0.3333333333333333,
              "#9c179e"
             ],
             [
              0.4444444444444444,
              "#bd3786"
             ],
             [
              0.5555555555555556,
              "#d8576b"
             ],
             [
              0.6666666666666666,
              "#ed7953"
             ],
             [
              0.7777777777777778,
              "#fb9f3a"
             ],
             [
              0.8888888888888888,
              "#fdca26"
             ],
             [
              1,
              "#f0f921"
             ]
            ],
            "type": "histogram2dcontour"
           }
          ],
          "mesh3d": [
           {
            "colorbar": {
             "outlinewidth": 0,
             "ticks": ""
            },
            "type": "mesh3d"
           }
          ],
          "parcoords": [
           {
            "line": {
             "colorbar": {
              "outlinewidth": 0,
              "ticks": ""
             }
            },
            "type": "parcoords"
           }
          ],
          "pie": [
           {
            "automargin": true,
            "type": "pie"
           }
          ],
          "scatter": [
           {
            "marker": {
             "colorbar": {
              "outlinewidth": 0,
              "ticks": ""
             }
            },
            "type": "scatter"
           }
          ],
          "scatter3d": [
           {
            "line": {
             "colorbar": {
              "outlinewidth": 0,
              "ticks": ""
             }
            },
            "marker": {
             "colorbar": {
              "outlinewidth": 0,
              "ticks": ""
             }
            },
            "type": "scatter3d"
           }
          ],
          "scattercarpet": [
           {
            "marker": {
             "colorbar": {
              "outlinewidth": 0,
              "ticks": ""
             }
            },
            "type": "scattercarpet"
           }
          ],
          "scattergeo": [
           {
            "marker": {
             "colorbar": {
              "outlinewidth": 0,
              "ticks": ""
             }
            },
            "type": "scattergeo"
           }
          ],
          "scattergl": [
           {
            "marker": {
             "colorbar": {
              "outlinewidth": 0,
              "ticks": ""
             }
            },
            "type": "scattergl"
           }
          ],
          "scattermapbox": [
           {
            "marker": {
             "colorbar": {
              "outlinewidth": 0,
              "ticks": ""
             }
            },
            "type": "scattermapbox"
           }
          ],
          "scatterpolar": [
           {
            "marker": {
             "colorbar": {
              "outlinewidth": 0,
              "ticks": ""
             }
            },
            "type": "scatterpolar"
           }
          ],
          "scatterpolargl": [
           {
            "marker": {
             "colorbar": {
              "outlinewidth": 0,
              "ticks": ""
             }
            },
            "type": "scatterpolargl"
           }
          ],
          "scatterternary": [
           {
            "marker": {
             "colorbar": {
              "outlinewidth": 0,
              "ticks": ""
             }
            },
            "type": "scatterternary"
           }
          ],
          "surface": [
           {
            "colorbar": {
             "outlinewidth": 0,
             "ticks": ""
            },
            "colorscale": [
             [
              0,
              "#0d0887"
             ],
             [
              0.1111111111111111,
              "#46039f"
             ],
             [
              0.2222222222222222,
              "#7201a8"
             ],
             [
              0.3333333333333333,
              "#9c179e"
             ],
             [
              0.4444444444444444,
              "#bd3786"
             ],
             [
              0.5555555555555556,
              "#d8576b"
             ],
             [
              0.6666666666666666,
              "#ed7953"
             ],
             [
              0.7777777777777778,
              "#fb9f3a"
             ],
             [
              0.8888888888888888,
              "#fdca26"
             ],
             [
              1,
              "#f0f921"
             ]
            ],
            "type": "surface"
           }
          ],
          "table": [
           {
            "cells": {
             "fill": {
              "color": "#EBF0F8"
             },
             "line": {
              "color": "white"
             }
            },
            "header": {
             "fill": {
              "color": "#C8D4E3"
             },
             "line": {
              "color": "white"
             }
            },
            "type": "table"
           }
          ]
         },
         "layout": {
          "annotationdefaults": {
           "arrowcolor": "#2a3f5f",
           "arrowhead": 0,
           "arrowwidth": 1
          },
          "autotypenumbers": "strict",
          "coloraxis": {
           "colorbar": {
            "outlinewidth": 0,
            "ticks": ""
           }
          },
          "colorscale": {
           "diverging": [
            [
             0,
             "#8e0152"
            ],
            [
             0.1,
             "#c51b7d"
            ],
            [
             0.2,
             "#de77ae"
            ],
            [
             0.3,
             "#f1b6da"
            ],
            [
             0.4,
             "#fde0ef"
            ],
            [
             0.5,
             "#f7f7f7"
            ],
            [
             0.6,
             "#e6f5d0"
            ],
            [
             0.7,
             "#b8e186"
            ],
            [
             0.8,
             "#7fbc41"
            ],
            [
             0.9,
             "#4d9221"
            ],
            [
             1,
             "#276419"
            ]
           ],
           "sequential": [
            [
             0,
             "#0d0887"
            ],
            [
             0.1111111111111111,
             "#46039f"
            ],
            [
             0.2222222222222222,
             "#7201a8"
            ],
            [
             0.3333333333333333,
             "#9c179e"
            ],
            [
             0.4444444444444444,
             "#bd3786"
            ],
            [
             0.5555555555555556,
             "#d8576b"
            ],
            [
             0.6666666666666666,
             "#ed7953"
            ],
            [
             0.7777777777777778,
             "#fb9f3a"
            ],
            [
             0.8888888888888888,
             "#fdca26"
            ],
            [
             1,
             "#f0f921"
            ]
           ],
           "sequentialminus": [
            [
             0,
             "#0d0887"
            ],
            [
             0.1111111111111111,
             "#46039f"
            ],
            [
             0.2222222222222222,
             "#7201a8"
            ],
            [
             0.3333333333333333,
             "#9c179e"
            ],
            [
             0.4444444444444444,
             "#bd3786"
            ],
            [
             0.5555555555555556,
             "#d8576b"
            ],
            [
             0.6666666666666666,
             "#ed7953"
            ],
            [
             0.7777777777777778,
             "#fb9f3a"
            ],
            [
             0.8888888888888888,
             "#fdca26"
            ],
            [
             1,
             "#f0f921"
            ]
           ]
          },
          "colorway": [
           "#636efa",
           "#EF553B",
           "#00cc96",
           "#ab63fa",
           "#FFA15A",
           "#19d3f3",
           "#FF6692",
           "#B6E880",
           "#FF97FF",
           "#FECB52"
          ],
          "font": {
           "color": "#2a3f5f"
          },
          "geo": {
           "bgcolor": "white",
           "lakecolor": "white",
           "landcolor": "#E5ECF6",
           "showlakes": true,
           "showland": true,
           "subunitcolor": "white"
          },
          "hoverlabel": {
           "align": "left"
          },
          "hovermode": "closest",
          "mapbox": {
           "style": "light"
          },
          "paper_bgcolor": "white",
          "plot_bgcolor": "#E5ECF6",
          "polar": {
           "angularaxis": {
            "gridcolor": "white",
            "linecolor": "white",
            "ticks": ""
           },
           "bgcolor": "#E5ECF6",
           "radialaxis": {
            "gridcolor": "white",
            "linecolor": "white",
            "ticks": ""
           }
          },
          "scene": {
           "xaxis": {
            "backgroundcolor": "#E5ECF6",
            "gridcolor": "white",
            "gridwidth": 2,
            "linecolor": "white",
            "showbackground": true,
            "ticks": "",
            "zerolinecolor": "white"
           },
           "yaxis": {
            "backgroundcolor": "#E5ECF6",
            "gridcolor": "white",
            "gridwidth": 2,
            "linecolor": "white",
            "showbackground": true,
            "ticks": "",
            "zerolinecolor": "white"
           },
           "zaxis": {
            "backgroundcolor": "#E5ECF6",
            "gridcolor": "white",
            "gridwidth": 2,
            "linecolor": "white",
            "showbackground": true,
            "ticks": "",
            "zerolinecolor": "white"
           }
          },
          "shapedefaults": {
           "line": {
            "color": "#2a3f5f"
           }
          },
          "ternary": {
           "aaxis": {
            "gridcolor": "white",
            "linecolor": "white",
            "ticks": ""
           },
           "baxis": {
            "gridcolor": "white",
            "linecolor": "white",
            "ticks": ""
           },
           "bgcolor": "#E5ECF6",
           "caxis": {
            "gridcolor": "white",
            "linecolor": "white",
            "ticks": ""
           }
          },
          "title": {
           "x": 0.05
          },
          "xaxis": {
           "automargin": true,
           "gridcolor": "white",
           "linecolor": "white",
           "ticks": "",
           "title": {
            "standoff": 15
           },
           "zerolinecolor": "white",
           "zerolinewidth": 2
          },
          "yaxis": {
           "automargin": true,
           "gridcolor": "white",
           "linecolor": "white",
           "ticks": "",
           "title": {
            "standoff": 15
           },
           "zerolinecolor": "white",
           "zerolinewidth": 2
          }
         }
        },
        "xaxis": {
         "anchor": "y",
         "autorange": true,
         "domain": [
          0,
          1
         ],
         "range": [
          1993.444620060842,
          2021.8664731875715
         ],
         "title": {
          "text": "Ano de Referência"
         },
         "type": "linear"
        },
        "yaxis": {
         "anchor": "x",
         "autorange": true,
         "domain": [
          0,
          1
         ],
         "range": [
          -230264.49732106633,
          1672021.532717634
         ],
         "title": {
          "text": "G06B - População urbana residente do(s) município(s) com esgotamento sanitário"
         },
         "type": "linear"
        }
       }
      },
      "image/png": "[encoded data removed]",
      "text/html": [
       "<div>                            <div id=\"a5eacb9b-1d5e-4418-91ee-e8863647ac33\" class=\"plotly-graph-div\" style=\"height:525px; width:100%;\"></div>            <script type=\"text/javascript\">                require([\"plotly\"], function(Plotly) {                    window.PLOTLYENV=window.PLOTLYENV || {};                                    if (document.getElementById(\"a5eacb9b-1d5e-4418-91ee-e8863647ac33\")) {                    Plotly.newPlot(                        \"a5eacb9b-1d5e-4418-91ee-e8863647ac33\",                        [{\"hovertemplate\":\"Munic\\u00edpio=Arapiraca<br>Ano de Refer\\u00eancia=%{x}<br>G06B - Popula\\u00e7\\u00e3o urbana residente do(s) munic\\u00edpio(s) com esgotamento sanit\\u00e1rio=%{y}<br>IN004 - Tarifa m\\u00e9dia praticada=%{marker.size}<extra></extra>\",\"legendgroup\":\"Arapiraca\",\"marker\":{\"color\":\"#636efa\",\"size\":[0.93,0.93,0.93,0.93],\"sizemode\":\"area\",\"sizeref\":0.015674999999999998,\"symbol\":\"circle\"},\"mode\":\"markers\",\"name\":\"Arapiraca\",\"orientation\":\"v\",\"showlegend\":true,\"x\":[2012,2013,2014,2015],\"xaxis\":\"x\",\"y\":[184987.0,193043.0,194475.0,195937.0],\"yaxis\":\"y\",\"type\":\"scatter\"},{\"hovertemplate\":\"Munic\\u00edpio=Atalaia<br>Ano de Refer\\u00eancia=%{x}<br>G06B - Popula\\u00e7\\u00e3o urbana residente do(s) munic\\u00edpio(s) com esgotamento sanit\\u00e1rio=%{y}<br>IN004 - Tarifa m\\u00e9dia praticada=%{marker.size}<extra></extra>\",\"legendgroup\":\"Atalaia\",\"marker\":{\"color\":\"#EF553B\",\"size\":[0.93,0.81,1.1,0.55,0.66,0.69,0.96,0.0,2.18],\"sizemode\":\"area\",\"sizeref\":0.015674999999999998,\"symbol\":\"circle\"},\"mode\":\"markers\",\"name\":\"Atalaia\",\"orientation\":\"v\",\"showlegend\":true,\"x\":[1999,2000,2001,2002,2003,2004,2006,2007,2020],\"xaxis\":\"x\",\"y\":[0.0,0.0,0.0,0.0,0.0,0.0,0.0,0.0,0.0],\"yaxis\":\"y\",\"type\":\"scatter\"},{\"hovertemplate\":\"Munic\\u00edpio=Barra de Santo Ant\\u00f4nio<br>Ano de Refer\\u00eancia=%{x}<br>G06B - Popula\\u00e7\\u00e3o urbana residente do(s) munic\\u00edpio(s) com esgotamento sanit\\u00e1rio=%{y}<br>IN004 - Tarifa m\\u00e9dia praticada=%{marker.size}<extra></extra>\",\"legendgroup\":\"Barra de Santo Ant\\u00f4nio\",\"marker\":{\"color\":\"#00cc96\",\"size\":[2.64],\"sizemode\":\"area\",\"sizeref\":0.015674999999999998,\"symbol\":\"circle\"},\"mode\":\"markers\",\"name\":\"Barra de Santo Ant\\u00f4nio\",\"orientation\":\"v\",\"showlegend\":true,\"x\":[2013],\"xaxis\":\"x\",\"y\":[0.0],\"yaxis\":\"y\",\"type\":\"scatter\"},{\"hovertemplate\":\"Munic\\u00edpio=Barra de S\\u00e3o Miguel<br>Ano de Refer\\u00eancia=%{x}<br>G06B - Popula\\u00e7\\u00e3o urbana residente do(s) munic\\u00edpio(s) com esgotamento sanit\\u00e1rio=%{y}<br>IN004 - Tarifa m\\u00e9dia praticada=%{marker.size}<extra></extra>\",\"legendgroup\":\"Barra de S\\u00e3o Miguel\",\"marker\":{\"color\":\"#ab63fa\",\"size\":[2.64],\"sizemode\":\"area\",\"sizeref\":0.015674999999999998,\"symbol\":\"circle\"},\"mode\":\"markers\",\"name\":\"Barra de S\\u00e3o Miguel\",\"orientation\":\"v\",\"showlegend\":true,\"x\":[2012],\"xaxis\":\"x\",\"y\":[6677.0],\"yaxis\":\"y\",\"type\":\"scatter\"},{\"hovertemplate\":\"Munic\\u00edpio=Boca da Mata<br>Ano de Refer\\u00eancia=%{x}<br>G06B - Popula\\u00e7\\u00e3o urbana residente do(s) munic\\u00edpio(s) com esgotamento sanit\\u00e1rio=%{y}<br>IN004 - Tarifa m\\u00e9dia praticada=%{marker.size}<extra></extra>\",\"legendgroup\":\"Boca da Mata\",\"marker\":{\"color\":\"#FFA15A\",\"size\":[0.67,0.67,0.09,0.09,0.09,1.01,1.4,1.56,1.64,1.45,1.52,1.65,1.42,3.33,3.76,3.37,3.42,3.82,3.42,4.73],\"sizemode\":\"area\",\"sizeref\":0.015674999999999998,\"symbol\":\"circle\"},\"mode\":\"markers\",\"name\":\"Boca da Mata\",\"orientation\":\"v\",\"showlegend\":true,\"x\":[1999,2000,2001,2002,2003,2004,2005,2006,2007,2009,2010,2012,2013,2014,2015,2016,2017,2018,2019,2020],\"xaxis\":\"x\",\"y\":[0.0,0.0,0.0,0.0,0.0,0.0,0.0,0.0,0.0,0.0,0.0,0.0,0.0,0.0,0.0,0.0,0.0,0.0,0.0,0.0],\"yaxis\":\"y\",\"type\":\"scatter\"},{\"hovertemplate\":\"Munic\\u00edpio=Branquinha<br>Ano de Refer\\u00eancia=%{x}<br>G06B - Popula\\u00e7\\u00e3o urbana residente do(s) munic\\u00edpio(s) com esgotamento sanit\\u00e1rio=%{y}<br>IN004 - Tarifa m\\u00e9dia praticada=%{marker.size}<extra></extra>\",\"legendgroup\":\"Branquinha\",\"marker\":{\"color\":\"#19d3f3\",\"size\":[0.29,0.16,0.36,0.38],\"sizemode\":\"area\",\"sizeref\":0.015674999999999998,\"symbol\":\"circle\"},\"mode\":\"markers\",\"name\":\"Branquinha\",\"orientation\":\"v\",\"showlegend\":true,\"x\":[2005,2006,2007,2008],\"xaxis\":\"x\",\"y\":[0.0,0.0,0.0,0.0],\"yaxis\":\"y\",\"type\":\"scatter\"},{\"hovertemplate\":\"Munic\\u00edpio=Cajueiro<br>Ano de Refer\\u00eancia=%{x}<br>G06B - Popula\\u00e7\\u00e3o urbana residente do(s) munic\\u00edpio(s) com esgotamento sanit\\u00e1rio=%{y}<br>IN004 - Tarifa m\\u00e9dia praticada=%{marker.size}<extra></extra>\",\"legendgroup\":\"Cajueiro\",\"marker\":{\"color\":\"#FF6692\",\"size\":[0.5,0.77,0.68,0.61,0.68,0.77,0.92,0.99,1.05,1.05,1.43,1.43,1.43,1.43,1.61,2.01,1.95,2.64,2.5,2.64,1.64,1.45,1.5,1.65],\"sizemode\":\"area\",\"sizeref\":0.015674999999999998,\"symbol\":\"circle\"},\"mode\":\"markers\",\"name\":\"Cajueiro\",\"orientation\":\"v\",\"showlegend\":true,\"x\":[1997,1998,1999,2000,2001,2002,2003,2004,2005,2006,2007,2008,2009,2010,2011,2012,2013,2014,2015,2016,2017,2018,2019,2020],\"xaxis\":\"x\",\"y\":[0.0,0.0,0.0,0.0,0.0,0.0,0.0,0.0,0.0,14255.0,16024.0,16498.0,16622.0,16484.0,16574.0,16659.0,17349.0,17172.0,17248.0,17319.0,17386.0,17118.0,17175.0,17229.0],\"yaxis\":\"y\",\"type\":\"scatter\"},{\"hovertemplate\":\"Munic\\u00edpio=Campestre<br>Ano de Refer\\u00eancia=%{x}<br>G06B - Popula\\u00e7\\u00e3o urbana residente do(s) munic\\u00edpio(s) com esgotamento sanit\\u00e1rio=%{y}<br>IN004 - Tarifa m\\u00e9dia praticada=%{marker.size}<extra></extra>\",\"legendgroup\":\"Campestre\",\"marker\":{\"color\":\"#B6E880\",\"size\":[1.65,1.65,1.65,0.0],\"sizemode\":\"area\",\"sizeref\":0.015674999999999998,\"symbol\":\"circle\"},\"mode\":\"markers\",\"name\":\"Campestre\",\"orientation\":\"v\",\"showlegend\":true,\"x\":[2016,2017,2018,2020],\"xaxis\":\"x\",\"y\":[5879.0,5898.0,5809.0,5839.0],\"yaxis\":\"y\",\"type\":\"scatter\"},{\"hovertemplate\":\"Munic\\u00edpio=Campo Alegre<br>Ano de Refer\\u00eancia=%{x}<br>G06B - Popula\\u00e7\\u00e3o urbana residente do(s) munic\\u00edpio(s) com esgotamento sanit\\u00e1rio=%{y}<br>IN004 - Tarifa m\\u00e9dia praticada=%{marker.size}<extra></extra>\",\"legendgroup\":\"Campo Alegre\",\"marker\":{\"color\":\"#FF97FF\",\"size\":[0.0,0.0,0.0,0.0,0.0,0.0,1.24,0.7,0.91,0.98,0.89],\"sizemode\":\"area\",\"sizeref\":0.015674999999999998,\"symbol\":\"circle\"},\"mode\":\"markers\",\"name\":\"Campo Alegre\",\"orientation\":\"v\",\"showlegend\":true,\"x\":[2009,2010,2011,2012,2013,2014,2016,2017,2018,2019,2020],\"xaxis\":\"x\",\"y\":[19375.0,22161.0,22496.0,22820.0,24056.0,24341.0,24861.0,25097.0,24674.0,24885.0,25092.0],\"yaxis\":\"y\",\"type\":\"scatter\"},{\"hovertemplate\":\"Munic\\u00edpio=Ch\\u00e3 Preta<br>Ano de Refer\\u00eancia=%{x}<br>G06B - Popula\\u00e7\\u00e3o urbana residente do(s) munic\\u00edpio(s) com esgotamento sanit\\u00e1rio=%{y}<br>IN004 - Tarifa m\\u00e9dia praticada=%{marker.size}<extra></extra>\",\"legendgroup\":\"Ch\\u00e3 Preta\",\"marker\":{\"color\":\"#FECB52\",\"size\":[0.89,0.48,0.43,0.52,0.5,5.75],\"sizemode\":\"area\",\"sizeref\":0.015674999999999998,\"symbol\":\"circle\"},\"mode\":\"markers\",\"name\":\"Ch\\u00e3 Preta\",\"orientation\":\"v\",\"showlegend\":true,\"x\":[2005,2006,2007,2010,2011,2020],\"xaxis\":\"x\",\"y\":[25092.0,25092.0,25092.0,25092.0,25092.0,25092.0],\"yaxis\":\"y\",\"type\":\"scatter\"},{\"hovertemplate\":\"Munic\\u00edpio=Coruripe<br>Ano de Refer\\u00eancia=%{x}<br>G06B - Popula\\u00e7\\u00e3o urbana residente do(s) munic\\u00edpio(s) com esgotamento sanit\\u00e1rio=%{y}<br>IN004 - Tarifa m\\u00e9dia praticada=%{marker.size}<extra></extra>\",\"legendgroup\":\"Coruripe\",\"marker\":{\"color\":\"#636efa\",\"size\":[5.75,0.42,0.55,0.53,0.65,0.89,0.58,0.58,0.54,0.51,0.48],\"sizemode\":\"area\",\"sizeref\":0.015674999999999998,\"symbol\":\"circle\"},\"mode\":\"markers\",\"name\":\"Coruripe\",\"orientation\":\"v\",\"showlegend\":true,\"x\":[2009,2011,2012,2013,2014,2015,2016,2017,2018,2019,2020],\"xaxis\":\"x\",\"y\":[44639.0,46561.0,47009.0,49150.0,49596.0,50018.0,50414.0,50784.0,49957.0,50285.0,50604.0],\"yaxis\":\"y\",\"type\":\"scatter\"},{\"hovertemplate\":\"Munic\\u00edpio=Delmiro Gouveia<br>Ano de Refer\\u00eancia=%{x}<br>G06B - Popula\\u00e7\\u00e3o urbana residente do(s) munic\\u00edpio(s) com esgotamento sanit\\u00e1rio=%{y}<br>IN004 - Tarifa m\\u00e9dia praticada=%{marker.size}<extra></extra>\",\"legendgroup\":\"Delmiro Gouveia\",\"marker\":{\"color\":\"#EF553B\",\"size\":[0.48,0.48,0.48,0.48,0.48,0.48,0.48],\"sizemode\":\"area\",\"sizeref\":0.015674999999999998,\"symbol\":\"circle\"},\"mode\":\"markers\",\"name\":\"Delmiro Gouveia\",\"orientation\":\"v\",\"showlegend\":true,\"x\":[2010,2011,2012,2013,2014,2015,2020],\"xaxis\":\"x\",\"y\":[34854.0,35142.0,35419.0,36958.0,37211.0,37681.0,37873.0],\"yaxis\":\"y\",\"type\":\"scatter\"},{\"hovertemplate\":\"Munic\\u00edpio=Feira Grande<br>Ano de Refer\\u00eancia=%{x}<br>G06B - Popula\\u00e7\\u00e3o urbana residente do(s) munic\\u00edpio(s) com esgotamento sanit\\u00e1rio=%{y}<br>IN004 - Tarifa m\\u00e9dia praticada=%{marker.size}<extra></extra>\",\"legendgroup\":\"Feira Grande\",\"marker\":{\"color\":\"#00cc96\",\"size\":[0.5],\"sizemode\":\"area\",\"sizeref\":0.015674999999999998,\"symbol\":\"circle\"},\"mode\":\"markers\",\"name\":\"Feira Grande\",\"orientation\":\"v\",\"showlegend\":true,\"x\":[2020],\"xaxis\":\"x\",\"y\":[3559.0],\"yaxis\":\"y\",\"type\":\"scatter\"},{\"hovertemplate\":\"Munic\\u00edpio=Feliz Deserto<br>Ano de Refer\\u00eancia=%{x}<br>G06B - Popula\\u00e7\\u00e3o urbana residente do(s) munic\\u00edpio(s) com esgotamento sanit\\u00e1rio=%{y}<br>IN004 - Tarifa m\\u00e9dia praticada=%{marker.size}<extra></extra>\",\"legendgroup\":\"Feliz Deserto\",\"marker\":{\"color\":\"#ab63fa\",\"size\":[1.52,1.52,1.52],\"sizemode\":\"area\",\"sizeref\":0.015674999999999998,\"symbol\":\"circle\"},\"mode\":\"markers\",\"name\":\"Feliz Deserto\",\"orientation\":\"v\",\"showlegend\":true,\"x\":[2012,2019,2020],\"xaxis\":\"x\",\"y\":[3591.0,3591.0,3591.0],\"yaxis\":\"y\",\"type\":\"scatter\"},{\"hovertemplate\":\"Munic\\u00edpio=Flexeiras<br>Ano de Refer\\u00eancia=%{x}<br>G06B - Popula\\u00e7\\u00e3o urbana residente do(s) munic\\u00edpio(s) com esgotamento sanit\\u00e1rio=%{y}<br>IN004 - Tarifa m\\u00e9dia praticada=%{marker.size}<extra></extra>\",\"legendgroup\":\"Flexeiras\",\"marker\":{\"color\":\"#FFA15A\",\"size\":[1.52,1.52],\"sizemode\":\"area\",\"sizeref\":0.015674999999999998,\"symbol\":\"circle\"},\"mode\":\"markers\",\"name\":\"Flexeiras\",\"orientation\":\"v\",\"showlegend\":true,\"x\":[2014,2020],\"xaxis\":\"x\",\"y\":[8385.0,8331.0],\"yaxis\":\"y\",\"type\":\"scatter\"},{\"hovertemplate\":\"Munic\\u00edpio=Ibateguara<br>Ano de Refer\\u00eancia=%{x}<br>G06B - Popula\\u00e7\\u00e3o urbana residente do(s) munic\\u00edpio(s) com esgotamento sanit\\u00e1rio=%{y}<br>IN004 - Tarifa m\\u00e9dia praticada=%{marker.size}<extra></extra>\",\"legendgroup\":\"Ibateguara\",\"marker\":{\"color\":\"#19d3f3\",\"size\":[1.52],\"sizemode\":\"area\",\"sizeref\":0.015674999999999998,\"symbol\":\"circle\"},\"mode\":\"markers\",\"name\":\"Ibateguara\",\"orientation\":\"v\",\"showlegend\":true,\"x\":[2020],\"xaxis\":\"x\",\"y\":[9630.0],\"yaxis\":\"y\",\"type\":\"scatter\"},{\"hovertemplate\":\"Munic\\u00edpio=Igaci<br>Ano de Refer\\u00eancia=%{x}<br>G06B - Popula\\u00e7\\u00e3o urbana residente do(s) munic\\u00edpio(s) com esgotamento sanit\\u00e1rio=%{y}<br>IN004 - Tarifa m\\u00e9dia praticada=%{marker.size}<extra></extra>\",\"legendgroup\":\"Igaci\",\"marker\":{\"color\":\"#FF6692\",\"size\":[1.52],\"sizemode\":\"area\",\"sizeref\":0.015674999999999998,\"symbol\":\"circle\"},\"mode\":\"markers\",\"name\":\"Igaci\",\"orientation\":\"v\",\"showlegend\":true,\"x\":[2020],\"xaxis\":\"x\",\"y\":[6288.0],\"yaxis\":\"y\",\"type\":\"scatter\"},{\"hovertemplate\":\"Munic\\u00edpio=Jacu\\u00edpe<br>Ano de Refer\\u00eancia=%{x}<br>G06B - Popula\\u00e7\\u00e3o urbana residente do(s) munic\\u00edpio(s) com esgotamento sanit\\u00e1rio=%{y}<br>IN004 - Tarifa m\\u00e9dia praticada=%{marker.size}<extra></extra>\",\"legendgroup\":\"Jacu\\u00edpe\",\"marker\":{\"color\":\"#B6E880\",\"size\":[1.52],\"sizemode\":\"area\",\"sizeref\":0.015674999999999998,\"symbol\":\"circle\"},\"mode\":\"markers\",\"name\":\"Jacu\\u00edpe\",\"orientation\":\"v\",\"showlegend\":true,\"x\":[2011],\"xaxis\":\"x\",\"y\":[4340.0],\"yaxis\":\"y\",\"type\":\"scatter\"},{\"hovertemplate\":\"Munic\\u00edpio=Jaramataia<br>Ano de Refer\\u00eancia=%{x}<br>G06B - Popula\\u00e7\\u00e3o urbana residente do(s) munic\\u00edpio(s) com esgotamento sanit\\u00e1rio=%{y}<br>IN004 - Tarifa m\\u00e9dia praticada=%{marker.size}<extra></extra>\",\"legendgroup\":\"Jaramataia\",\"marker\":{\"color\":\"#FF97FF\",\"size\":[1.52,1.52],\"sizemode\":\"area\",\"sizeref\":0.015674999999999998,\"symbol\":\"circle\"},\"mode\":\"markers\",\"name\":\"Jaramataia\",\"orientation\":\"v\",\"showlegend\":true,\"x\":[2018,2019],\"xaxis\":\"x\",\"y\":[2933.0,3024.0],\"yaxis\":\"y\",\"type\":\"scatter\"},{\"hovertemplate\":\"Munic\\u00edpio=Jequi\\u00e1 da Praia<br>Ano de Refer\\u00eancia=%{x}<br>G06B - Popula\\u00e7\\u00e3o urbana residente do(s) munic\\u00edpio(s) com esgotamento sanit\\u00e1rio=%{y}<br>IN004 - Tarifa m\\u00e9dia praticada=%{marker.size}<extra></extra>\",\"legendgroup\":\"Jequi\\u00e1 da Praia\",\"marker\":{\"color\":\"#FECB52\",\"size\":[0.48,0.65,0.51,0.51,2.28],\"sizemode\":\"area\",\"sizeref\":0.015674999999999998,\"symbol\":\"circle\"},\"mode\":\"markers\",\"name\":\"Jequi\\u00e1 da Praia\",\"orientation\":\"v\",\"showlegend\":true,\"x\":[2012,2013,2014,2016,2020],\"xaxis\":\"x\",\"y\":[3024.0,3024.0,3024.0,3024.0,3024.0],\"yaxis\":\"y\",\"type\":\"scatter\"},{\"hovertemplate\":\"Munic\\u00edpio=Limoeiro de Anadia<br>Ano de Refer\\u00eancia=%{x}<br>G06B - Popula\\u00e7\\u00e3o urbana residente do(s) munic\\u00edpio(s) com esgotamento sanit\\u00e1rio=%{y}<br>IN004 - Tarifa m\\u00e9dia praticada=%{marker.size}<extra></extra>\",\"legendgroup\":\"Limoeiro de Anadia\",\"marker\":{\"color\":\"#636efa\",\"size\":[0.17,0.15,5.39,5.39,5.39],\"sizemode\":\"area\",\"sizeref\":0.015674999999999998,\"symbol\":\"circle\"},\"mode\":\"markers\",\"name\":\"Limoeiro de Anadia\",\"orientation\":\"v\",\"showlegend\":true,\"x\":[2009,2010,2014,2015,2016],\"xaxis\":\"x\",\"y\":[3024.0,2246.0,2246.0,2246.0,2246.0],\"yaxis\":\"y\",\"type\":\"scatter\"},{\"hovertemplate\":\"Munic\\u00edpio=Macei\\u00f3<br>Ano de Refer\\u00eancia=%{x}<br>G06B - Popula\\u00e7\\u00e3o urbana residente do(s) munic\\u00edpio(s) com esgotamento sanit\\u00e1rio=%{y}<br>IN004 - Tarifa m\\u00e9dia praticada=%{marker.size}<extra></extra>\",\"legendgroup\":\"Macei\\u00f3\",\"marker\":{\"color\":\"#EF553B\",\"size\":[0.57,0.68,0.88,0.98,1.08,1.15,1.18,1.4,1.55,1.8,1.86,1.91,2.25,2.48,2.62,2.65,2.82,2.11,3.71,3.07,3.78,5.32,5.41,5.63,6.05,6.27],\"sizemode\":\"area\",\"sizeref\":0.015674999999999998,\"symbol\":\"circle\"},\"mode\":\"markers\",\"name\":\"Macei\\u00f3\",\"orientation\":\"v\",\"showlegend\":true,\"x\":[1995,1996,1997,1998,1999,2000,2001,2002,2003,2004,2005,2006,2007,2008,2009,2010,2011,2012,2013,2014,2015,2016,2017,2018,2019,2020],\"xaxis\":\"x\",\"y\":[2246.0,2246.0,2246.0,720222.0,742026.0,796234.0,830426.0,850895.0,849106.0,883684.0,901249.0,921812.0,926655.0,954752.0,967473.0,963943.0,974776.0,1037395.0,1143687.0,1157776.0,1173421.0,1250978.0,1259291.0,1238997.0,1442610.0,1438282.0],\"yaxis\":\"y\",\"type\":\"scatter\"},{\"hovertemplate\":\"Munic\\u00edpio=Mar Vermelho<br>Ano de Refer\\u00eancia=%{x}<br>G06B - Popula\\u00e7\\u00e3o urbana residente do(s) munic\\u00edpio(s) com esgotamento sanit\\u00e1rio=%{y}<br>IN004 - Tarifa m\\u00e9dia praticada=%{marker.size}<extra></extra>\",\"legendgroup\":\"Mar Vermelho\",\"marker\":{\"color\":\"#00cc96\",\"size\":[6.27],\"sizemode\":\"area\",\"sizeref\":0.015674999999999998,\"symbol\":\"circle\"},\"mode\":\"markers\",\"name\":\"Mar Vermelho\",\"orientation\":\"v\",\"showlegend\":true,\"x\":[2020],\"xaxis\":\"x\",\"y\":[1567.0],\"yaxis\":\"y\",\"type\":\"scatter\"},{\"hovertemplate\":\"Munic\\u00edpio=Marechal Deodoro<br>Ano de Refer\\u00eancia=%{x}<br>G06B - Popula\\u00e7\\u00e3o urbana residente do(s) munic\\u00edpio(s) com esgotamento sanit\\u00e1rio=%{y}<br>IN004 - Tarifa m\\u00e9dia praticada=%{marker.size}<extra></extra>\",\"legendgroup\":\"Marechal Deodoro\",\"marker\":{\"color\":\"#ab63fa\",\"size\":[0.72,0.8,0.85,0.89,1.25,1.32,1.6,1.68,1.77,1.84,1.92,1.92,2.49,2.49,2.57,2.51,2.75,2.93,2.5,2.69,2.32,1.83],\"sizemode\":\"area\",\"sizeref\":0.015674999999999998,\"symbol\":\"circle\"},\"mode\":\"markers\",\"name\":\"Marechal Deodoro\",\"orientation\":\"v\",\"showlegend\":true,\"x\":[1997,1998,1999,2000,2002,2003,2004,2005,2006,2007,2008,2009,2010,2011,2012,2013,2014,2015,2017,2018,2019,2020],\"xaxis\":\"x\",\"y\":[0.0,0.0,0.0,0.0,0.0,0.0,0.0,0.0,0.0,0.0,0.0,39644.0,43392.0,44125.0,44833.0,47050.0,47672.0,48257.0,49322.0,48476.0,48983.0,49435.0],\"yaxis\":\"y\",\"type\":\"scatter\"},{\"hovertemplate\":\"Munic\\u00edpio=Messias<br>Ano de Refer\\u00eancia=%{x}<br>G06B - Popula\\u00e7\\u00e3o urbana residente do(s) munic\\u00edpio(s) com esgotamento sanit\\u00e1rio=%{y}<br>IN004 - Tarifa m\\u00e9dia praticada=%{marker.size}<extra></extra>\",\"legendgroup\":\"Messias\",\"marker\":{\"color\":\"#FFA15A\",\"size\":[1.83,1.83,1.83],\"sizemode\":\"area\",\"sizeref\":0.015674999999999998,\"symbol\":\"circle\"},\"mode\":\"markers\",\"name\":\"Messias\",\"orientation\":\"v\",\"showlegend\":true,\"x\":[2012,2013,2014],\"xaxis\":\"x\",\"y\":[14818.0,15562.0,15780.0],\"yaxis\":\"y\",\"type\":\"scatter\"},{\"hovertemplate\":\"Munic\\u00edpio=Murici<br>Ano de Refer\\u00eancia=%{x}<br>G06B - Popula\\u00e7\\u00e3o urbana residente do(s) munic\\u00edpio(s) com esgotamento sanit\\u00e1rio=%{y}<br>IN004 - Tarifa m\\u00e9dia praticada=%{marker.size}<extra></extra>\",\"legendgroup\":\"Murici\",\"marker\":{\"color\":\"#19d3f3\",\"size\":[1.83],\"sizemode\":\"area\",\"sizeref\":0.015674999999999998,\"symbol\":\"circle\"},\"mode\":\"markers\",\"name\":\"Murici\",\"orientation\":\"v\",\"showlegend\":true,\"x\":[2009],\"xaxis\":\"x\",\"y\":[21605.0],\"yaxis\":\"y\",\"type\":\"scatter\"},{\"hovertemplate\":\"Munic\\u00edpio=Novo Lino<br>Ano de Refer\\u00eancia=%{x}<br>G06B - Popula\\u00e7\\u00e3o urbana residente do(s) munic\\u00edpio(s) com esgotamento sanit\\u00e1rio=%{y}<br>IN004 - Tarifa m\\u00e9dia praticada=%{marker.size}<extra></extra>\",\"legendgroup\":\"Novo Lino\",\"marker\":{\"color\":\"#FF6692\",\"size\":[1.83],\"sizemode\":\"area\",\"sizeref\":0.015674999999999998,\"symbol\":\"circle\"},\"mode\":\"markers\",\"name\":\"Novo Lino\",\"orientation\":\"v\",\"showlegend\":true,\"x\":[2018],\"xaxis\":\"x\",\"y\":[7665.0],\"yaxis\":\"y\",\"type\":\"scatter\"},{\"hovertemplate\":\"Munic\\u00edpio=Olho d \\u00c1gua do Casado<br>Ano de Refer\\u00eancia=%{x}<br>G06B - Popula\\u00e7\\u00e3o urbana residente do(s) munic\\u00edpio(s) com esgotamento sanit\\u00e1rio=%{y}<br>IN004 - Tarifa m\\u00e9dia praticada=%{marker.size}<extra></extra>\",\"legendgroup\":\"Olho d \\u00c1gua do Casado\",\"marker\":{\"color\":\"#B6E880\",\"size\":[1.83],\"sizemode\":\"area\",\"sizeref\":0.015674999999999998,\"symbol\":\"circle\"},\"mode\":\"markers\",\"name\":\"Olho d \\u00c1gua do Casado\",\"orientation\":\"v\",\"showlegend\":true,\"x\":[2020],\"xaxis\":\"x\",\"y\":[4478.0],\"yaxis\":\"y\",\"type\":\"scatter\"},{\"hovertemplate\":\"Munic\\u00edpio=Penedo<br>Ano de Refer\\u00eancia=%{x}<br>G06B - Popula\\u00e7\\u00e3o urbana residente do(s) munic\\u00edpio(s) com esgotamento sanit\\u00e1rio=%{y}<br>IN004 - Tarifa m\\u00e9dia praticada=%{marker.size}<extra></extra>\",\"legendgroup\":\"Penedo\",\"marker\":{\"color\":\"#FF97FF\",\"size\":[0.6,0.59,0.62,0.7,0.8,0.87,0.98,1.04,1.21,1.23,1.42,1.37,1.5,1.44,2.09,2.59,2.79,2.95,4.39,4.61,4.28,3.96],\"sizemode\":\"area\",\"sizeref\":0.015674999999999998,\"symbol\":\"circle\"},\"mode\":\"markers\",\"name\":\"Penedo\",\"orientation\":\"v\",\"showlegend\":true,\"x\":[1999,2000,2001,2002,2003,2004,2005,2006,2007,2008,2009,2010,2011,2012,2013,2014,2015,2016,2017,2018,2019,2020],\"xaxis\":\"x\",\"y\":[0.0,0.0,0.0,0.0,0.0,0.0,0.0,0.0,0.0,0.0,0.0,0.0,0.0,0.0,0.0,0.0,0.0,0.0,0.0,0.0,0.0,0.0],\"yaxis\":\"y\",\"type\":\"scatter\"},{\"hovertemplate\":\"Munic\\u00edpio=Pia\\u00e7abu\\u00e7u<br>Ano de Refer\\u00eancia=%{x}<br>G06B - Popula\\u00e7\\u00e3o urbana residente do(s) munic\\u00edpio(s) com esgotamento sanit\\u00e1rio=%{y}<br>IN004 - Tarifa m\\u00e9dia praticada=%{marker.size}<extra></extra>\",\"legendgroup\":\"Pia\\u00e7abu\\u00e7u\",\"marker\":{\"color\":\"#FECB52\",\"size\":[3.96],\"sizemode\":\"area\",\"sizeref\":0.015674999999999998,\"symbol\":\"circle\"},\"mode\":\"markers\",\"name\":\"Pia\\u00e7abu\\u00e7u\",\"orientation\":\"v\",\"showlegend\":true,\"x\":[2020],\"xaxis\":\"x\",\"y\":[10827.0],\"yaxis\":\"y\",\"type\":\"scatter\"},{\"hovertemplate\":\"Munic\\u00edpio=Pilar<br>Ano de Refer\\u00eancia=%{x}<br>G06B - Popula\\u00e7\\u00e3o urbana residente do(s) munic\\u00edpio(s) com esgotamento sanit\\u00e1rio=%{y}<br>IN004 - Tarifa m\\u00e9dia praticada=%{marker.size}<extra></extra>\",\"legendgroup\":\"Pilar\",\"marker\":{\"color\":\"#636efa\",\"size\":[0.47,0.47,0.82,0.82,1.48],\"sizemode\":\"area\",\"sizeref\":0.015674999999999998,\"symbol\":\"circle\"},\"mode\":\"markers\",\"name\":\"Pilar\",\"orientation\":\"v\",\"showlegend\":true,\"x\":[2012,2013,2014,2015,2020],\"xaxis\":\"x\",\"y\":[10827.0,10827.0,33566.0,33701.0,33622.0],\"yaxis\":\"y\",\"type\":\"scatter\"},{\"hovertemplate\":\"Munic\\u00edpio=Porto Calvo<br>Ano de Refer\\u00eancia=%{x}<br>G06B - Popula\\u00e7\\u00e3o urbana residente do(s) munic\\u00edpio(s) com esgotamento sanit\\u00e1rio=%{y}<br>IN004 - Tarifa m\\u00e9dia praticada=%{marker.size}<extra></extra>\",\"legendgroup\":\"Porto Calvo\",\"marker\":{\"color\":\"#EF553B\",\"size\":[1.48,1.48,1.48,1.48],\"sizemode\":\"area\",\"sizeref\":0.015674999999999998,\"symbol\":\"circle\"},\"mode\":\"markers\",\"name\":\"Porto Calvo\",\"orientation\":\"v\",\"showlegend\":true,\"x\":[2017,2018,2019,2020],\"xaxis\":\"x\",\"y\":[33622.0,33622.0,33622.0,33622.0],\"yaxis\":\"y\",\"type\":\"scatter\"},{\"hovertemplate\":\"Munic\\u00edpio=Porto Real do Col\\u00e9gio<br>Ano de Refer\\u00eancia=%{x}<br>G06B - Popula\\u00e7\\u00e3o urbana residente do(s) munic\\u00edpio(s) com esgotamento sanit\\u00e1rio=%{y}<br>IN004 - Tarifa m\\u00e9dia praticada=%{marker.size}<extra></extra>\",\"legendgroup\":\"Porto Real do Col\\u00e9gio\",\"marker\":{\"color\":\"#00cc96\",\"size\":[0.65,0.72,0.75,0.98,0.96,0.96],\"sizemode\":\"area\",\"sizeref\":0.015674999999999998,\"symbol\":\"circle\"},\"mode\":\"markers\",\"name\":\"Porto Real do Col\\u00e9gio\",\"orientation\":\"v\",\"showlegend\":true,\"x\":[2001,2002,2003,2005,2006,2010],\"xaxis\":\"x\",\"y\":[0.0,0.0,0.0,0.0,0.0,6606.0],\"yaxis\":\"y\",\"type\":\"scatter\"},{\"hovertemplate\":\"Munic\\u00edpio=P\\u00e3o de A\\u00e7\\u00facar<br>Ano de Refer\\u00eancia=%{x}<br>G06B - Popula\\u00e7\\u00e3o urbana residente do(s) munic\\u00edpio(s) com esgotamento sanit\\u00e1rio=%{y}<br>IN004 - Tarifa m\\u00e9dia praticada=%{marker.size}<extra></extra>\",\"legendgroup\":\"P\\u00e3o de A\\u00e7\\u00facar\",\"marker\":{\"color\":\"#ab63fa\",\"size\":[0.53,0.6,0.73,0.74,0.78,1.04,1.15,1.27,1.36,1.34,1.57,1.57,1.86,1.9,1.78,1.67,1.85,1.6,1.89,4.22,4.56,5.53],\"sizemode\":\"area\",\"sizeref\":0.015674999999999998,\"symbol\":\"circle\"},\"mode\":\"markers\",\"name\":\"P\\u00e3o de A\\u00e7\\u00facar\",\"orientation\":\"v\",\"showlegend\":true,\"x\":[1998,1999,2000,2001,2002,2003,2004,2005,2006,2007,2008,2009,2010,2011,2012,2013,2014,2015,2016,2017,2018,2020],\"xaxis\":\"x\",\"y\":[0.0,0.0,0.0,0.0,0.0,0.0,0.0,0.0,0.0,0.0,0.0,0.0,0.0,0.0,0.0,0.0,0.0,0.0,0.0,0.0,0.0,0.0],\"yaxis\":\"y\",\"type\":\"scatter\"},{\"hovertemplate\":\"Munic\\u00edpio=Quebrangulo<br>Ano de Refer\\u00eancia=%{x}<br>G06B - Popula\\u00e7\\u00e3o urbana residente do(s) munic\\u00edpio(s) com esgotamento sanit\\u00e1rio=%{y}<br>IN004 - Tarifa m\\u00e9dia praticada=%{marker.size}<extra></extra>\",\"legendgroup\":\"Quebrangulo\",\"marker\":{\"color\":\"#FFA15A\",\"size\":[5.53],\"sizemode\":\"area\",\"sizeref\":0.015674999999999998,\"symbol\":\"circle\"},\"mode\":\"markers\",\"name\":\"Quebrangulo\",\"orientation\":\"v\",\"showlegend\":true,\"x\":[2010],\"xaxis\":\"x\",\"y\":[6474.0],\"yaxis\":\"y\",\"type\":\"scatter\"},{\"hovertemplate\":\"Munic\\u00edpio=Roteiro<br>Ano de Refer\\u00eancia=%{x}<br>G06B - Popula\\u00e7\\u00e3o urbana residente do(s) munic\\u00edpio(s) com esgotamento sanit\\u00e1rio=%{y}<br>IN004 - Tarifa m\\u00e9dia praticada=%{marker.size}<extra></extra>\",\"legendgroup\":\"Roteiro\",\"marker\":{\"color\":\"#19d3f3\",\"size\":[5.53,5.53,5.53,5.53],\"sizemode\":\"area\",\"sizeref\":0.015674999999999998,\"symbol\":\"circle\"},\"mode\":\"markers\",\"name\":\"Roteiro\",\"orientation\":\"v\",\"showlegend\":true,\"x\":[2012,2018,2019,2020],\"xaxis\":\"x\",\"y\":[5787.0,5851.0,5837.0,5824.0],\"yaxis\":\"y\",\"type\":\"scatter\"},{\"hovertemplate\":\"Munic\\u00edpio=Santana do Munda\\u00fa<br>Ano de Refer\\u00eancia=%{x}<br>G06B - Popula\\u00e7\\u00e3o urbana residente do(s) munic\\u00edpio(s) com esgotamento sanit\\u00e1rio=%{y}<br>IN004 - Tarifa m\\u00e9dia praticada=%{marker.size}<extra></extra>\",\"legendgroup\":\"Santana do Munda\\u00fa\",\"marker\":{\"color\":\"#FF6692\",\"size\":[5.53,0.0,0.0,0.0,0.0],\"sizemode\":\"area\",\"sizeref\":0.015674999999999998,\"symbol\":\"circle\"},\"mode\":\"markers\",\"name\":\"Santana do Munda\\u00fa\",\"orientation\":\"v\",\"showlegend\":true,\"x\":[2012,2013,2014,2015,2020],\"xaxis\":\"x\",\"y\":[5824.0,5824.0,5824.0,5824.0,5517.0],\"yaxis\":\"y\",\"type\":\"scatter\"},{\"hovertemplate\":\"Munic\\u00edpio=S\\u00e3o Jos\\u00e9 da Laje<br>Ano de Refer\\u00eancia=%{x}<br>G06B - Popula\\u00e7\\u00e3o urbana residente do(s) munic\\u00edpio(s) com esgotamento sanit\\u00e1rio=%{y}<br>IN004 - Tarifa m\\u00e9dia praticada=%{marker.size}<extra></extra>\",\"legendgroup\":\"S\\u00e3o Jos\\u00e9 da Laje\",\"marker\":{\"color\":\"#B6E880\",\"size\":[1.8,1.28,3.47,4.01,3.92],\"sizemode\":\"area\",\"sizeref\":0.015674999999999998,\"symbol\":\"circle\"},\"mode\":\"markers\",\"name\":\"S\\u00e3o Jos\\u00e9 da Laje\",\"orientation\":\"v\",\"showlegend\":true,\"x\":[2012,2013,2018,2019,2020],\"xaxis\":\"x\",\"y\":[15540.0,16179.0,16179.0,16179.0,16179.0],\"yaxis\":\"y\",\"type\":\"scatter\"},{\"hovertemplate\":\"Munic\\u00edpio=S\\u00e3o Lu\\u00eds do Quitunde<br>Ano de Refer\\u00eancia=%{x}<br>G06B - Popula\\u00e7\\u00e3o urbana residente do(s) munic\\u00edpio(s) com esgotamento sanit\\u00e1rio=%{y}<br>IN004 - Tarifa m\\u00e9dia praticada=%{marker.size}<extra></extra>\",\"legendgroup\":\"S\\u00e3o Lu\\u00eds do Quitunde\",\"marker\":{\"color\":\"#FF97FF\",\"size\":[1.35,1.43],\"sizemode\":\"area\",\"sizeref\":0.015674999999999998,\"symbol\":\"circle\"},\"mode\":\"markers\",\"name\":\"S\\u00e3o Lu\\u00eds do Quitunde\",\"orientation\":\"v\",\"showlegend\":true,\"x\":[2005,2006],\"xaxis\":\"x\",\"y\":[16179.0,16179.0],\"yaxis\":\"y\",\"type\":\"scatter\"},{\"hovertemplate\":\"Munic\\u00edpio=S\\u00e3o Miguel dos Campos<br>Ano de Refer\\u00eancia=%{x}<br>G06B - Popula\\u00e7\\u00e3o urbana residente do(s) munic\\u00edpio(s) com esgotamento sanit\\u00e1rio=%{y}<br>IN004 - Tarifa m\\u00e9dia praticada=%{marker.size}<extra></extra>\",\"legendgroup\":\"S\\u00e3o Miguel dos Campos\",\"marker\":{\"color\":\"#FECB52\",\"size\":[1.43,0.99,0.69,0.81,1.07,1.13,1.36,1.61,1.61,2.1,2.09,2.15,2.55,2.11,2.18,2.13,2.1,2.05,2.04],\"sizemode\":\"area\",\"sizeref\":0.015674999999999998,\"symbol\":\"circle\"},\"mode\":\"markers\",\"name\":\"S\\u00e3o Miguel dos Campos\",\"orientation\":\"v\",\"showlegend\":true,\"x\":[1999,2000,2001,2003,2005,2006,2007,2008,2010,2011,2012,2013,2014,2015,2016,2017,2018,2019,2020],\"xaxis\":\"x\",\"y\":[16179.0,35801.0,47079.0,29653.0,29794.0,29843.0,46708.0,48157.0,52566.0,53419.0,54244.0,56900.0,57625.0,58308.0,58949.0,59549.0,58536.0,58994.0,59520.0],\"yaxis\":\"y\",\"type\":\"scatter\"},{\"hovertemplate\":\"Munic\\u00edpio=S\\u00e3o Miguel dos Milagres<br>Ano de Refer\\u00eancia=%{x}<br>G06B - Popula\\u00e7\\u00e3o urbana residente do(s) munic\\u00edpio(s) com esgotamento sanit\\u00e1rio=%{y}<br>IN004 - Tarifa m\\u00e9dia praticada=%{marker.size}<extra></extra>\",\"legendgroup\":\"S\\u00e3o Miguel dos Milagres\",\"marker\":{\"color\":\"#636efa\",\"size\":[0.76,1.04,2.11],\"sizemode\":\"area\",\"sizeref\":0.015674999999999998,\"symbol\":\"circle\"},\"mode\":\"markers\",\"name\":\"S\\u00e3o Miguel dos Milagres\",\"orientation\":\"v\",\"showlegend\":true,\"x\":[2006,2011,2020],\"xaxis\":\"x\",\"y\":[59520.0,2293.0,2293.0],\"yaxis\":\"y\",\"type\":\"scatter\"},{\"hovertemplate\":\"Munic\\u00edpio=Tanque d Arca<br>Ano de Refer\\u00eancia=%{x}<br>G06B - Popula\\u00e7\\u00e3o urbana residente do(s) munic\\u00edpio(s) com esgotamento sanit\\u00e1rio=%{y}<br>IN004 - Tarifa m\\u00e9dia praticada=%{marker.size}<extra></extra>\",\"legendgroup\":\"Tanque d Arca\",\"marker\":{\"color\":\"#EF553B\",\"size\":[0.0],\"sizemode\":\"area\",\"sizeref\":0.015674999999999998,\"symbol\":\"circle\"},\"mode\":\"markers\",\"name\":\"Tanque d Arca\",\"orientation\":\"v\",\"showlegend\":true,\"x\":[2020],\"xaxis\":\"x\",\"y\":[2293.0],\"yaxis\":\"y\",\"type\":\"scatter\"},{\"hovertemplate\":\"Munic\\u00edpio=Taquarana<br>Ano de Refer\\u00eancia=%{x}<br>G06B - Popula\\u00e7\\u00e3o urbana residente do(s) munic\\u00edpio(s) com esgotamento sanit\\u00e1rio=%{y}<br>IN004 - Tarifa m\\u00e9dia praticada=%{marker.size}<extra></extra>\",\"legendgroup\":\"Taquarana\",\"marker\":{\"color\":\"#00cc96\",\"size\":[0.0,0.0,0.0],\"sizemode\":\"area\",\"sizeref\":0.015674999999999998,\"symbol\":\"circle\"},\"mode\":\"markers\",\"name\":\"Taquarana\",\"orientation\":\"v\",\"showlegend\":true,\"x\":[2016,2017,2018],\"xaxis\":\"x\",\"y\":[7728.0,7770.0,7647.0],\"yaxis\":\"y\",\"type\":\"scatter\"},{\"hovertemplate\":\"Munic\\u00edpio=Teot\\u00f4nio Vilela<br>Ano de Refer\\u00eancia=%{x}<br>G06B - Popula\\u00e7\\u00e3o urbana residente do(s) munic\\u00edpio(s) com esgotamento sanit\\u00e1rio=%{y}<br>IN004 - Tarifa m\\u00e9dia praticada=%{marker.size}<extra></extra>\",\"legendgroup\":\"Teot\\u00f4nio Vilela\",\"marker\":{\"color\":\"#ab63fa\",\"size\":[0.59,0.86,0.86,1.29,1.69,1.57,1.06,1.11,1.41,2.92,1.49],\"sizemode\":\"area\",\"sizeref\":0.015674999999999998,\"symbol\":\"circle\"},\"mode\":\"markers\",\"name\":\"Teot\\u00f4nio Vilela\",\"orientation\":\"v\",\"showlegend\":true,\"x\":[2010,2011,2012,2013,2014,2015,2016,2017,2018,2019,2020],\"xaxis\":\"x\",\"y\":[7647.0,7647.0,7647.0,7647.0,37104.0,37335.0,37552.0,37755.0,37159.0,37335.0,37507.0],\"yaxis\":\"y\",\"type\":\"scatter\"},{\"hovertemplate\":\"Munic\\u00edpio=Uni\\u00e3o dos Palmares<br>Ano de Refer\\u00eancia=%{x}<br>G06B - Popula\\u00e7\\u00e3o urbana residente do(s) munic\\u00edpio(s) com esgotamento sanit\\u00e1rio=%{y}<br>IN004 - Tarifa m\\u00e9dia praticada=%{marker.size}<extra></extra>\",\"legendgroup\":\"Uni\\u00e3o dos Palmares\",\"marker\":{\"color\":\"#FFA15A\",\"size\":[0.79,0.92,0.96,1.03,0.99,1.0,1.15,1.34,1.38,1.37,1.48,1.8,1.81,1.9,1.98,2.4,2.36,2.21,2.89,3.27,3.45,3.22],\"sizemode\":\"area\",\"sizeref\":0.015674999999999998,\"symbol\":\"circle\"},\"mode\":\"markers\",\"name\":\"Uni\\u00e3o dos Palmares\",\"orientation\":\"v\",\"showlegend\":true,\"x\":[1998,2000,2001,2002,2003,2004,2005,2006,2007,2008,2009,2010,2011,2012,2013,2014,2015,2016,2017,2018,2019,2020],\"xaxis\":\"x\",\"y\":[0.0,0.0,0.0,0.0,38107.0,38107.0,38107.0,38107.0,38107.0,38107.0,38107.0,38107.0,38107.0,38107.0,38107.0,50254.0,50447.0,50629.0,50799.0,50022.0,50137.0,50274.0],\"yaxis\":\"y\",\"type\":\"scatter\"},{\"hovertemplate\":\"Munic\\u00edpio=Vi\\u00e7osa<br>Ano de Refer\\u00eancia=%{x}<br>G06B - Popula\\u00e7\\u00e3o urbana residente do(s) munic\\u00edpio(s) com esgotamento sanit\\u00e1rio=%{y}<br>IN004 - Tarifa m\\u00e9dia praticada=%{marker.size}<extra></extra>\",\"legendgroup\":\"Vi\\u00e7osa\",\"marker\":{\"color\":\"#19d3f3\",\"size\":[0.57,1.43,1.45,1.56,1.43,1.45,1.82,1.92,2.16,2.49,2.99,2.79,3.29,3.39,4.42],\"sizemode\":\"area\",\"sizeref\":0.015674999999999998,\"symbol\":\"circle\"},\"mode\":\"markers\",\"name\":\"Vi\\u00e7osa\",\"orientation\":\"v\",\"showlegend\":true,\"x\":[2006,2007,2008,2009,2010,2011,2012,2013,2014,2015,2016,2017,2018,2019,2020],\"xaxis\":\"x\",\"y\":[50274.0,50274.0,50274.0,50274.0,50274.0,50274.0,50274.0,50274.0,50274.0,50274.0,50274.0,50274.0,50274.0,50274.0,50274.0],\"yaxis\":\"y\",\"type\":\"scatter\"},{\"hovertemplate\":\"Munic\\u00edpio=\\u00c1gua Branca<br>Ano de Refer\\u00eancia=%{x}<br>G06B - Popula\\u00e7\\u00e3o urbana residente do(s) munic\\u00edpio(s) com esgotamento sanit\\u00e1rio=%{y}<br>IN004 - Tarifa m\\u00e9dia praticada=%{marker.size}<extra></extra>\",\"legendgroup\":\"\\u00c1gua Branca\",\"marker\":{\"color\":\"#FF6692\",\"size\":[4.42,4.42,4.42],\"sizemode\":\"area\",\"sizeref\":0.015674999999999998,\"symbol\":\"circle\"},\"mode\":\"markers\",\"name\":\"\\u00c1gua Branca\",\"orientation\":\"v\",\"showlegend\":true,\"x\":[2016,2017,2020],\"xaxis\":\"x\",\"y\":[5376.0,5388.0,5326.0],\"yaxis\":\"y\",\"type\":\"scatter\"}],                        {\"template\":{\"data\":{\"bar\":[{\"error_x\":{\"color\":\"#2a3f5f\"},\"error_y\":{\"color\":\"#2a3f5f\"},\"marker\":{\"line\":{\"color\":\"#E5ECF6\",\"width\":0.5},\"pattern\":{\"fillmode\":\"overlay\",\"size\":10,\"solidity\":0.2}},\"type\":\"bar\"}],\"barpolar\":[{\"marker\":{\"line\":{\"color\":\"#E5ECF6\",\"width\":0.5},\"pattern\":{\"fillmode\":\"overlay\",\"size\":10,\"solidity\":0.2}},\"type\":\"barpolar\"}],\"carpet\":[{\"aaxis\":{\"endlinecolor\":\"#2a3f5f\",\"gridcolor\":\"white\",\"linecolor\":\"white\",\"minorgridcolor\":\"white\",\"startlinecolor\":\"#2a3f5f\"},\"baxis\":{\"endlinecolor\":\"#2a3f5f\",\"gridcolor\":\"white\",\"linecolor\":\"white\",\"minorgridcolor\":\"white\",\"startlinecolor\":\"#2a3f5f\"},\"type\":\"carpet\"}],\"choropleth\":[{\"colorbar\":{\"outlinewidth\":0,\"ticks\":\"\"},\"type\":\"choropleth\"}],\"contour\":[{\"colorbar\":{\"outlinewidth\":0,\"ticks\":\"\"},\"colorscale\":[[0.0,\"#0d0887\"],[0.1111111111111111,\"#46039f\"],[0.2222222222222222,\"#7201a8\"],[0.3333333333333333,\"#9c179e\"],[0.4444444444444444,\"#bd3786\"],[0.5555555555555556,\"#d8576b\"],[0.6666666666666666,\"#ed7953\"],[0.7777777777777778,\"#fb9f3a\"],[0.8888888888888888,\"#fdca26\"],[1.0,\"#f0f921\"]],\"type\":\"contour\"}],\"contourcarpet\":[{\"colorbar\":{\"outlinewidth\":0,\"ticks\":\"\"},\"type\":\"contourcarpet\"}],\"heatmap\":[{\"colorbar\":{\"outlinewidth\":0,\"ticks\":\"\"},\"colorscale\":[[0.0,\"#0d0887\"],[0.1111111111111111,\"#46039f\"],[0.2222222222222222,\"#7201a8\"],[0.3333333333333333,\"#9c179e\"],[0.4444444444444444,\"#bd3786\"],[0.5555555555555556,\"#d8576b\"],[0.6666666666666666,\"#ed7953\"],[0.7777777777777778,\"#fb9f3a\"],[0.8888888888888888,\"#fdca26\"],[1.0,\"#f0f921\"]],\"type\":\"heatmap\"}],\"heatmapgl\":[{\"colorbar\":{\"outlinewidth\":0,\"ticks\":\"\"},\"colorscale\":[[0.0,\"#0d0887\"],[0.1111111111111111,\"#46039f\"],[0.2222222222222222,\"#7201a8\"],[0.3333333333333333,\"#9c179e\"],[0.4444444444444444,\"#bd3786\"],[0.5555555555555556,\"#d8576b\"],[0.6666666666666666,\"#ed7953\"],[0.7777777777777778,\"#fb9f3a\"],[0.8888888888888888,\"#fdca26\"],[1.0,\"#f0f921\"]],\"type\":\"heatmapgl\"}],\"histogram\":[{\"marker\":{\"pattern\":{\"fillmode\":\"overlay\",\"size\":10,\"solidity\":0.2}},\"type\":\"histogram\"}],\"histogram2d\":[{\"colorbar\":{\"outlinewidth\":0,\"ticks\":\"\"},\"colorscale\":[[0.0,\"#0d0887\"],[0.1111111111111111,\"#46039f\"],[0.2222222222222222,\"#7201a8\"],[0.3333333333333333,\"#9c179e\"],[0.4444444444444444,\"#bd3786\"],[0.5555555555555556,\"#d8576b\"],[0.6666666666666666,\"#ed7953\"],[0.7777777777777778,\"#fb9f3a\"],[0.8888888888888888,\"#fdca26\"],[1.0,\"#f0f921\"]],\"type\":\"histogram2d\"}],\"histogram2dcontour\":[{\"colorbar\":{\"outlinewidth\":0,\"ticks\":\"\"},\"colorscale\":[[0.0,\"#0d0887\"],[0.1111111111111111,\"#46039f\"],[0.2222222222222222,\"#7201a8\"],[0.3333333333333333,\"#9c179e\"],[0.4444444444444444,\"#bd3786\"],[0.5555555555555556,\"#d8576b\"],[0.6666666666666666,\"#ed7953\"],[0.7777777777777778,\"#fb9f3a\"],[0.8888888888888888,\"#fdca26\"],[1.0,\"#f0f921\"]],\"type\":\"histogram2dcontour\"}],\"mesh3d\":[{\"colorbar\":{\"outlinewidth\":0,\"ticks\":\"\"},\"type\":\"mesh3d\"}],\"parcoords\":[{\"line\":{\"colorbar\":{\"outlinewidth\":0,\"ticks\":\"\"}},\"type\":\"parcoords\"}],\"pie\":[{\"automargin\":true,\"type\":\"pie\"}],\"scatter\":[{\"marker\":{\"colorbar\":{\"outlinewidth\":0,\"ticks\":\"\"}},\"type\":\"scatter\"}],\"scatter3d\":[{\"line\":{\"colorbar\":{\"outlinewidth\":0,\"ticks\":\"\"}},\"marker\":{\"colorbar\":{\"outlinewidth\":0,\"ticks\":\"\"}},\"type\":\"scatter3d\"}],\"scattercarpet\":[{\"marker\":{\"colorbar\":{\"outlinewidth\":0,\"ticks\":\"\"}},\"type\":\"scattercarpet\"}],\"scattergeo\":[{\"marker\":{\"colorbar\":{\"outlinewidth\":0,\"ticks\":\"\"}},\"type\":\"scattergeo\"}],\"scattergl\":[{\"marker\":{\"colorbar\":{\"outlinewidth\":0,\"ticks\":\"\"}},\"type\":\"scattergl\"}],\"scattermapbox\":[{\"marker\":{\"colorbar\":{\"outlinewidth\":0,\"ticks\":\"\"}},\"type\":\"scattermapbox\"}],\"scatterpolar\":[{\"marker\":{\"colorbar\":{\"outlinewidth\":0,\"ticks\":\"\"}},\"type\":\"scatterpolar\"}],\"scatterpolargl\":[{\"marker\":{\"colorbar\":{\"outlinewidth\":0,\"ticks\":\"\"}},\"type\":\"scatterpolargl\"}],\"scatterternary\":[{\"marker\":{\"colorbar\":{\"outlinewidth\":0,\"ticks\":\"\"}},\"type\":\"scatterternary\"}],\"surface\":[{\"colorbar\":{\"outlinewidth\":0,\"ticks\":\"\"},\"colorscale\":[[0.0,\"#0d0887\"],[0.1111111111111111,\"#46039f\"],[0.2222222222222222,\"#7201a8\"],[0.3333333333333333,\"#9c179e\"],[0.4444444444444444,\"#bd3786\"],[0.5555555555555556,\"#d8576b\"],[0.6666666666666666,\"#ed7953\"],[0.7777777777777778,\"#fb9f3a\"],[0.8888888888888888,\"#fdca26\"],[1.0,\"#f0f921\"]],\"type\":\"surface\"}],\"table\":[{\"cells\":{\"fill\":{\"color\":\"#EBF0F8\"},\"line\":{\"color\":\"white\"}},\"header\":{\"fill\":{\"color\":\"#C8D4E3\"},\"line\":{\"color\":\"white\"}},\"type\":\"table\"}]},\"layout\":{\"annotationdefaults\":{\"arrowcolor\":\"#2a3f5f\",\"arrowhead\":0,\"arrowwidth\":1},\"autotypenumbers\":\"strict\",\"coloraxis\":{\"colorbar\":{\"outlinewidth\":0,\"ticks\":\"\"}},\"colorscale\":{\"diverging\":[[0,\"#8e0152\"],[0.1,\"#c51b7d\"],[0.2,\"#de77ae\"],[0.3,\"#f1b6da\"],[0.4,\"#fde0ef\"],[0.5,\"#f7f7f7\"],[0.6,\"#e6f5d0\"],[0.7,\"#b8e186\"],[0.8,\"#7fbc41\"],[0.9,\"#4d9221\"],[1,\"#276419\"]],\"sequential\":[[0.0,\"#0d0887\"],[0.1111111111111111,\"#46039f\"],[0.2222222222222222,\"#7201a8\"],[0.3333333333333333,\"#9c179e\"],[0.4444444444444444,\"#bd3786\"],[0.5555555555555556,\"#d8576b\"],[0.6666666666666666,\"#ed7953\"],[0.7777777777777778,\"#fb9f3a\"],[0.8888888888888888,\"#fdca26\"],[1.0,\"#f0f921\"]],\"sequentialminus\":[[0.0,\"#0d0887\"],[0.1111111111111111,\"#46039f\"],[0.2222222222222222,\"#7201a8\"],[0.3333333333333333,\"#9c179e\"],[0.4444444444444444,\"#bd3786\"],[0.5555555555555556,\"#d8576b\"],[0.6666666666666666,\"#ed7953\"],[0.7777777777777778,\"#fb9f3a\"],[0.8888888888888888,\"#fdca26\"],[1.0,\"#f0f921\"]]},\"colorway\":[\"#636efa\",\"#EF553B\",\"#00cc96\",\"#ab63fa\",\"#FFA15A\",\"#19d3f3\",\"#FF6692\",\"#B6E880\",\"#FF97FF\",\"#FECB52\"],\"font\":{\"color\":\"#2a3f5f\"},\"geo\":{\"bgcolor\":\"white\",\"lakecolor\":\"white\",\"landcolor\":\"#E5ECF6\",\"showlakes\":true,\"showland\":true,\"subunitcolor\":\"white\"},\"hoverlabel\":{\"align\":\"left\"},\"hovermode\":\"closest\",\"mapbox\":{\"style\":\"light\"},\"paper_bgcolor\":\"white\",\"plot_bgcolor\":\"#E5ECF6\",\"polar\":{\"angularaxis\":{\"gridcolor\":\"white\",\"linecolor\":\"white\",\"ticks\":\"\"},\"bgcolor\":\"#E5ECF6\",\"radialaxis\":{\"gridcolor\":\"white\",\"linecolor\":\"white\",\"ticks\":\"\"}},\"scene\":{\"xaxis\":{\"backgroundcolor\":\"#E5ECF6\",\"gridcolor\":\"white\",\"gridwidth\":2,\"linecolor\":\"white\",\"showbackground\":true,\"ticks\":\"\",\"zerolinecolor\":\"white\"},\"yaxis\":{\"backgroundcolor\":\"#E5ECF6\",\"gridcolor\":\"white\",\"gridwidth\":2,\"linecolor\":\"white\",\"showbackground\":true,\"ticks\":\"\",\"zerolinecolor\":\"white\"},\"zaxis\":{\"backgroundcolor\":\"#E5ECF6\",\"gridcolor\":\"white\",\"gridwidth\":2,\"linecolor\":\"white\",\"showbackground\":true,\"ticks\":\"\",\"zerolinecolor\":\"white\"}},\"shapedefaults\":{\"line\":{\"color\":\"#2a3f5f\"}},\"ternary\":{\"aaxis\":{\"gridcolor\":\"white\",\"linecolor\":\"white\",\"ticks\":\"\"},\"baxis\":{\"gridcolor\":\"white\",\"linecolor\":\"white\",\"ticks\":\"\"},\"bgcolor\":\"#E5ECF6\",\"caxis\":{\"gridcolor\":\"white\",\"linecolor\":\"white\",\"ticks\":\"\"}},\"title\":{\"x\":0.05},\"xaxis\":{\"automargin\":true,\"gridcolor\":\"white\",\"linecolor\":\"white\",\"ticks\":\"\",\"title\":{\"standoff\":15},\"zerolinecolor\":\"white\",\"zerolinewidth\":2},\"yaxis\":{\"automargin\":true,\"gridcolor\":\"white\",\"linecolor\":\"white\",\"ticks\":\"\",\"title\":{\"standoff\":15},\"zerolinecolor\":\"white\",\"zerolinewidth\":2}}},\"xaxis\":{\"anchor\":\"y\",\"domain\":[0.0,1.0],\"title\":{\"text\":\"Ano de Refer\\u00eancia\"}},\"yaxis\":{\"anchor\":\"x\",\"domain\":[0.0,1.0],\"title\":{\"text\":\"G06B - Popula\\u00e7\\u00e3o urbana residente do(s) munic\\u00edpio(s) com esgotamento sanit\\u00e1rio\"}},\"legend\":{\"title\":{\"text\":\"Munic\\u00edpio\"},\"tracegroupgap\":0,\"itemsizing\":\"constant\"},\"margin\":{\"t\":60}},                        {\"responsive\": true}                    ).then(function(){\n",
       "                            \n",
       "var gd = document.getElementById('a5eacb9b-1d5e-4418-91ee-e8863647ac33');\n",
       "var x = new MutationObserver(function (mutations, observer) {{\n",
       "        var display = window.getComputedStyle(gd).display;\n",
       "        if (!display || display === 'none') {{\n",
       "            console.log([gd, 'removed!']);\n",
       "            Plotly.purge(gd);\n",
       "            observer.disconnect();\n",
       "        }}\n",
       "}});\n",
       "\n",
       "// Listen for the removal of the full notebook cells\n",
       "var notebookContainer = gd.closest('#notebook-container');\n",
       "if (notebookContainer) {{\n",
       "    x.observe(notebookContainer, {childList: true});\n",
       "}}\n",
       "\n",
       "// Listen for the clearing of the current output cell\n",
       "var outputEl = gd.closest('.output');\n",
       "if (outputEl) {{\n",
       "    x.observe(outputEl, {childList: true});\n",
       "}}\n",
       "\n",
       "                        })                };                });            </script>        </div>"
      ]
     },
     "metadata": {},
     "output_type": "display_data"
    }
   ],
   "source": [
    "px.scatter(data_frame = df_AL, x='Ano de Referência', y='G06B - População urbana residente do(s) município(s) com esgotamento sanitário', color = 'Município', size = 'IN004 - Tarifa média praticada', )"
   ]
  },
  {
   "cell_type": "code",
   "execution_count": 40,
   "id": "536580de-d483-4aaf-8da8-ccb3ed4fdc48",
   "metadata": {},
   "outputs": [
    {
     "data": {
      "application/vnd.plotly.v1+json": {
       "config": {
        "plotlyServerURL": "https://plot.ly"
       },
       "data": [
        {
         "alignmentgroup": "True",
         "hovertemplate": "Município=%{x}<br>IN053 - Consumo médio de água por economia=%{y}<extra></extra>",
         "legendgroup": "",
         "marker": {
          "color": "#636efa",
          "pattern": {
           "shape": ""
          }
         },
         "name": "",
         "offsetgroup": "",
         "orientation": "v",
         "showlegend": false,
         "textposition": "auto",
         "type": "bar",
         "x": [
          "Arapiraca",
          "Arapiraca",
          "Arapiraca",
          "Arapiraca",
          "Atalaia",
          "Atalaia",
          "Atalaia",
          "Atalaia",
          "Atalaia",
          "Atalaia",
          "Atalaia",
          "Atalaia",
          "Atalaia",
          "Barra de Santo Antônio",
          "Barra de São Miguel",
          "Boca da Mata",
          "Boca da Mata",
          "Boca da Mata",
          "Boca da Mata",
          "Boca da Mata",
          "Boca da Mata",
          "Boca da Mata",
          "Boca da Mata",
          "Boca da Mata",
          "Boca da Mata",
          "Boca da Mata",
          "Boca da Mata",
          "Boca da Mata",
          "Boca da Mata",
          "Boca da Mata",
          "Boca da Mata",
          "Boca da Mata",
          "Boca da Mata",
          "Boca da Mata",
          "Boca da Mata",
          "Branquinha",
          "Branquinha",
          "Branquinha",
          "Branquinha",
          "Cajueiro",
          "Cajueiro",
          "Cajueiro",
          "Cajueiro",
          "Cajueiro",
          "Cajueiro",
          "Cajueiro",
          "Cajueiro",
          "Cajueiro",
          "Cajueiro",
          "Cajueiro",
          "Cajueiro",
          "Cajueiro",
          "Cajueiro",
          "Cajueiro",
          "Cajueiro",
          "Cajueiro",
          "Cajueiro",
          "Cajueiro",
          "Cajueiro",
          "Cajueiro",
          "Cajueiro",
          "Cajueiro",
          "Cajueiro",
          "Campestre",
          "Campestre",
          "Campestre",
          "Campestre",
          "Campo Alegre",
          "Campo Alegre",
          "Campo Alegre",
          "Campo Alegre",
          "Campo Alegre",
          "Campo Alegre",
          "Campo Alegre",
          "Campo Alegre",
          "Campo Alegre",
          "Campo Alegre",
          "Campo Alegre",
          "Chã Preta",
          "Chã Preta",
          "Chã Preta",
          "Chã Preta",
          "Chã Preta",
          "Chã Preta",
          "Coruripe",
          "Coruripe",
          "Coruripe",
          "Coruripe",
          "Coruripe",
          "Coruripe",
          "Coruripe",
          "Coruripe",
          "Coruripe",
          "Coruripe",
          "Coruripe",
          "Delmiro Gouveia",
          "Delmiro Gouveia",
          "Delmiro Gouveia",
          "Delmiro Gouveia",
          "Delmiro Gouveia",
          "Delmiro Gouveia",
          "Delmiro Gouveia",
          "Feira Grande",
          "Feliz Deserto",
          "Feliz Deserto",
          "Feliz Deserto",
          "Flexeiras",
          "Flexeiras",
          "Ibateguara",
          "Igaci",
          "Jacuípe",
          "Jaramataia",
          "Jaramataia",
          "Jequiá da Praia",
          "Jequiá da Praia",
          "Jequiá da Praia",
          "Jequiá da Praia",
          "Jequiá da Praia",
          "Limoeiro de Anadia",
          "Limoeiro de Anadia",
          "Limoeiro de Anadia",
          "Limoeiro de Anadia",
          "Limoeiro de Anadia",
          "Maceió",
          "Maceió",
          "Maceió",
          "Maceió",
          "Maceió",
          "Maceió",
          "Maceió",
          "Maceió",
          "Maceió",
          "Maceió",
          "Maceió",
          "Maceió",
          "Maceió",
          "Maceió",
          "Maceió",
          "Maceió",
          "Maceió",
          "Maceió",
          "Maceió",
          "Maceió",
          "Maceió",
          "Maceió",
          "Maceió",
          "Maceió",
          "Maceió",
          "Maceió",
          "Mar Vermelho",
          "Marechal Deodoro",
          "Marechal Deodoro",
          "Marechal Deodoro",
          "Marechal Deodoro",
          "Marechal Deodoro",
          "Marechal Deodoro",
          "Marechal Deodoro",
          "Marechal Deodoro",
          "Marechal Deodoro",
          "Marechal Deodoro",
          "Marechal Deodoro",
          "Marechal Deodoro",
          "Marechal Deodoro",
          "Marechal Deodoro",
          "Marechal Deodoro",
          "Marechal Deodoro",
          "Marechal Deodoro",
          "Marechal Deodoro",
          "Marechal Deodoro",
          "Marechal Deodoro",
          "Marechal Deodoro",
          "Marechal Deodoro",
          "Messias",
          "Messias",
          "Messias",
          "Murici",
          "Novo Lino",
          "Olho d Água do Casado",
          "Penedo",
          "Penedo",
          "Penedo",
          "Penedo",
          "Penedo",
          "Penedo",
          "Penedo",
          "Penedo",
          "Penedo",
          "Penedo",
          "Penedo",
          "Penedo",
          "Penedo",
          "Penedo",
          "Penedo",
          "Penedo",
          "Penedo",
          "Penedo",
          "Penedo",
          "Penedo",
          "Penedo",
          "Penedo",
          "Piaçabuçu",
          "Pilar",
          "Pilar",
          "Pilar",
          "Pilar",
          "Pilar",
          "Porto Calvo",
          "Porto Calvo",
          "Porto Calvo",
          "Porto Calvo",
          "Porto Real do Colégio",
          "Porto Real do Colégio",
          "Porto Real do Colégio",
          "Porto Real do Colégio",
          "Porto Real do Colégio",
          "Porto Real do Colégio",
          "Pão de Açúcar",
          "Pão de Açúcar",
          "Pão de Açúcar",
          "Pão de Açúcar",
          "Pão de Açúcar",
          "Pão de Açúcar",
          "Pão de Açúcar",
          "Pão de Açúcar",
          "Pão de Açúcar",
          "Pão de Açúcar",
          "Pão de Açúcar",
          "Pão de Açúcar",
          "Pão de Açúcar",
          "Pão de Açúcar",
          "Pão de Açúcar",
          "Pão de Açúcar",
          "Pão de Açúcar",
          "Pão de Açúcar",
          "Pão de Açúcar",
          "Pão de Açúcar",
          "Pão de Açúcar",
          "Pão de Açúcar",
          "Quebrangulo",
          "Roteiro",
          "Roteiro",
          "Roteiro",
          "Roteiro",
          "Santana do Mundaú",
          "Santana do Mundaú",
          "Santana do Mundaú",
          "Santana do Mundaú",
          "Santana do Mundaú",
          "São José da Laje",
          "São José da Laje",
          "São José da Laje",
          "São José da Laje",
          "São José da Laje",
          "São Luís do Quitunde",
          "São Luís do Quitunde",
          "São Miguel dos Campos",
          "São Miguel dos Campos",
          "São Miguel dos Campos",
          "São Miguel dos Campos",
          "São Miguel dos Campos",
          "São Miguel dos Campos",
          "São Miguel dos Campos",
          "São Miguel dos Campos",
          "São Miguel dos Campos",
          "São Miguel dos Campos",
          "São Miguel dos Campos",
          "São Miguel dos Campos",
          "São Miguel dos Campos",
          "São Miguel dos Campos",
          "São Miguel dos Campos",
          "São Miguel dos Campos",
          "São Miguel dos Campos",
          "São Miguel dos Campos",
          "São Miguel dos Campos",
          "São Miguel dos Milagres",
          "São Miguel dos Milagres",
          "São Miguel dos Milagres",
          "Tanque d Arca",
          "Taquarana",
          "Taquarana",
          "Taquarana",
          "Teotônio Vilela",
          "Teotônio Vilela",
          "Teotônio Vilela",
          "Teotônio Vilela",
          "Teotônio Vilela",
          "Teotônio Vilela",
          "Teotônio Vilela",
          "Teotônio Vilela",
          "Teotônio Vilela",
          "Teotônio Vilela",
          "Teotônio Vilela",
          "União dos Palmares",
          "União dos Palmares",
          "União dos Palmares",
          "União dos Palmares",
          "União dos Palmares",
          "União dos Palmares",
          "União dos Palmares",
          "União dos Palmares",
          "União dos Palmares",
          "União dos Palmares",
          "União dos Palmares",
          "União dos Palmares",
          "União dos Palmares",
          "União dos Palmares",
          "União dos Palmares",
          "União dos Palmares",
          "União dos Palmares",
          "União dos Palmares",
          "União dos Palmares",
          "União dos Palmares",
          "União dos Palmares",
          "União dos Palmares",
          "Viçosa",
          "Viçosa",
          "Viçosa",
          "Viçosa",
          "Viçosa",
          "Viçosa",
          "Viçosa",
          "Viçosa",
          "Viçosa",
          "Viçosa",
          "Viçosa",
          "Viçosa",
          "Viçosa",
          "Viçosa",
          "Viçosa",
          "Água Branca",
          "Água Branca",
          "Água Branca"
         ],
         "xaxis": "x",
         "y": [
          null,
          null,
          null,
          null,
          7.2,
          9,
          8.6,
          16.1,
          15.7,
          15.5,
          12.6,
          13.7,
          13.09,
          9.62,
          null,
          12.6,
          null,
          null,
          93.2,
          5.8,
          9.2,
          10.8,
          10.8,
          12.3,
          12.7,
          13.2,
          13.1,
          14.67,
          8.07,
          8.15,
          8.08,
          8.16,
          8.47,
          9.24,
          8.16,
          13.5,
          17.1,
          16.8,
          16,
          null,
          13.5,
          13.1,
          14.7,
          13.9,
          13,
          12.2,
          12.5,
          14.8,
          14.4,
          13.8,
          13.9,
          13.1,
          13,
          16.7,
          13.6,
          12.13,
          9.35,
          9.89,
          9.9,
          21.76,
          23.72,
          21.26,
          23.13,
          19.44,
          14.49,
          13.18,
          20.83,
          18.7,
          14.3,
          13.1,
          13.1,
          13.3,
          13.36,
          2.64,
          5.26,
          5.23,
          6.9,
          12.63,
          null,
          17.8,
          21.1,
          21,
          21.2,
          2.5,
          null,
          19.6,
          19.3,
          18.51,
          18.59,
          18.02,
          30.28,
          33.71,
          39.29,
          38.95,
          54.15,
          null,
          null,
          null,
          null,
          null,
          null,
          null,
          null,
          11,
          11.61,
          11.14,
          null,
          null,
          null,
          null,
          null,
          null,
          null,
          41,
          29.44,
          28.32,
          11.53,
          11.67,
          17.8,
          31.9,
          8.2,
          8.2,
          8.2,
          null,
          null,
          null,
          14.3,
          13.6,
          13.6,
          13.1,
          12.6,
          12.2,
          12.2,
          12.4,
          12.1,
          10.7,
          10.3,
          10.3,
          10.8,
          10.9,
          19.5,
          11.34,
          11.99,
          11.78,
          11.48,
          10.73,
          16.96,
          18.62,
          16.86,
          null,
          null,
          12.4,
          13.2,
          12.3,
          null,
          13.1,
          13.2,
          12.7,
          13.3,
          13.3,
          30.9,
          11.1,
          11.3,
          11.3,
          11.2,
          11.48,
          11.45,
          11.78,
          12.53,
          14.34,
          18.99,
          21.34,
          null,
          null,
          null,
          null,
          null,
          null,
          20.4,
          20.1,
          16.9,
          16.6,
          16.2,
          16.2,
          16.4,
          16.4,
          16,
          16,
          16.8,
          27,
          25.6,
          19.3,
          23.2,
          23.1,
          20.26,
          19.73,
          19.88,
          23.42,
          19.54,
          21.17,
          null,
          22.2,
          22.23,
          18.35,
          15.01,
          12.52,
          6.8,
          5.02,
          4.1,
          4.1,
          null,
          18.1,
          14.6,
          16,
          15.9,
          null,
          19.8,
          15.1,
          13.2,
          14.6,
          13.9,
          13.4,
          13.2,
          12.9,
          12.7,
          13.4,
          12.2,
          11.8,
          14.4,
          16.2,
          16.1,
          15.65,
          16.07,
          24.86,
          24.59,
          9.6,
          9.65,
          8.66,
          null,
          12.1,
          2.38,
          2.35,
          2.29,
          16,
          16.02,
          15.67,
          12.97,
          13.26,
          12.9,
          22.8,
          8.39,
          8.33,
          8.9,
          7.3,
          7.4,
          13.2,
          13.1,
          12.6,
          13.3,
          14.1,
          13.3,
          11.6,
          11.8,
          9.5,
          10.8,
          10.9,
          10.79,
          10.53,
          10.12,
          9.92,
          9.89,
          9.96,
          9.99,
          10.18,
          10.7,
          10.7,
          10.5,
          29.08,
          null,
          null,
          null,
          6.9,
          7.4,
          8.2,
          8.12,
          16.91,
          16.4,
          16.33,
          18.15,
          17.39,
          16.53,
          17.8,
          27.4,
          12.8,
          21.7,
          21.4,
          23,
          13.5,
          12.8,
          23.9,
          14,
          12.1,
          12.5,
          11.9,
          22.3,
          18.1,
          21.11,
          10.56,
          9.99,
          10.51,
          8.92,
          9.16,
          8.94,
          8.98,
          26.7,
          12.3,
          12,
          12.3,
          12.1,
          11.4,
          10.8,
          10.7,
          10.97,
          10.67,
          9.28,
          9.81,
          11.29,
          13.14,
          10.78,
          null,
          null,
          null
         ],
         "yaxis": "y"
        }
       ],
       "layout": {
        "autosize": true,
        "barmode": "relative",
        "legend": {
         "tracegroupgap": 0
        },
        "margin": {
         "t": 60
        },
        "template": {
         "data": {
          "bar": [
           {
            "error_x": {
             "color": "#2a3f5f"
            },
            "error_y": {
             "color": "#2a3f5f"
            },
            "marker": {
             "line": {
              "color": "#E5ECF6",
              "width": 0.5
             },
             "pattern": {
              "fillmode": "overlay",
              "size": 10,
              "solidity": 0.2
             }
            },
            "type": "bar"
           }
          ],
          "barpolar": [
           {
            "marker": {
             "line": {
              "color": "#E5ECF6",
              "width": 0.5
             },
             "pattern": {
              "fillmode": "overlay",
              "size": 10,
              "solidity": 0.2
             }
            },
            "type": "barpolar"
           }
          ],
          "carpet": [
           {
            "aaxis": {
             "endlinecolor": "#2a3f5f",
             "gridcolor": "white",
             "linecolor": "white",
             "minorgridcolor": "white",
             "startlinecolor": "#2a3f5f"
            },
            "baxis": {
             "endlinecolor": "#2a3f5f",
             "gridcolor": "white",
             "linecolor": "white",
             "minorgridcolor": "white",
             "startlinecolor": "#2a3f5f"
            },
            "type": "carpet"
           }
          ],
          "choropleth": [
           {
            "colorbar": {
             "outlinewidth": 0,
             "ticks": ""
            },
            "type": "choropleth"
           }
          ],
          "contour": [
           {
            "colorbar": {
             "outlinewidth": 0,
             "ticks": ""
            },
            "colorscale": [
             [
              0,
              "#0d0887"
             ],
             [
              0.1111111111111111,
              "#46039f"
             ],
             [
              0.2222222222222222,
              "#7201a8"
             ],
             [
              0.3333333333333333,
              "#9c179e"
             ],
             [
              0.4444444444444444,
              "#bd3786"
             ],
             [
              0.5555555555555556,
              "#d8576b"
             ],
             [
              0.6666666666666666,
              "#ed7953"
             ],
             [
              0.7777777777777778,
              "#fb9f3a"
             ],
             [
              0.8888888888888888,
              "#fdca26"
             ],
             [
              1,
              "#f0f921"
             ]
            ],
            "type": "contour"
           }
          ],
          "contourcarpet": [
           {
            "colorbar": {
             "outlinewidth": 0,
             "ticks": ""
            },
            "type": "contourcarpet"
           }
          ],
          "heatmap": [
           {
            "colorbar": {
             "outlinewidth": 0,
             "ticks": ""
            },
            "colorscale": [
             [
              0,
              "#0d0887"
             ],
             [
              0.1111111111111111,
              "#46039f"
             ],
             [
              0.2222222222222222,
              "#7201a8"
             ],
             [
              0.3333333333333333,
              "#9c179e"
             ],
             [
              0.4444444444444444,
              "#bd3786"
             ],
             [
              0.5555555555555556,
              "#d8576b"
             ],
             [
              0.6666666666666666,
              "#ed7953"
             ],
             [
              0.7777777777777778,
              "#fb9f3a"
             ],
             [
              0.8888888888888888,
              "#fdca26"
             ],
             [
              1,
              "#f0f921"
             ]
            ],
            "type": "heatmap"
           }
          ],
          "heatmapgl": [
           {
            "colorbar": {
             "outlinewidth": 0,
             "ticks": ""
            },
            "colorscale": [
             [
              0,
              "#0d0887"
             ],
             [
              0.1111111111111111,
              "#46039f"
             ],
             [
              0.2222222222222222,
              "#7201a8"
             ],
             [
              0.3333333333333333,
              "#9c179e"
             ],
             [
              0.4444444444444444,
              "#bd3786"
             ],
             [
              0.5555555555555556,
              "#d8576b"
             ],
             [
              0.6666666666666666,
              "#ed7953"
             ],
             [
              0.7777777777777778,
              "#fb9f3a"
             ],
             [
              0.8888888888888888,
              "#fdca26"
             ],
             [
              1,
              "#f0f921"
             ]
            ],
            "type": "heatmapgl"
           }
          ],
          "histogram": [
           {
            "marker": {
             "pattern": {
              "fillmode": "overlay",
              "size": 10,
              "solidity": 0.2
             }
            },
            "type": "histogram"
           }
          ],
          "histogram2d": [
           {
            "colorbar": {
             "outlinewidth": 0,
             "ticks": ""
            },
            "colorscale": [
             [
              0,
              "#0d0887"
             ],
             [
              0.1111111111111111,
              "#46039f"
             ],
             [
              0.2222222222222222,
              "#7201a8"
             ],
             [
              0.3333333333333333,
              "#9c179e"
             ],
             [
              0.4444444444444444,
              "#bd3786"
             ],
             [
              0.5555555555555556,
              "#d8576b"
             ],
             [
              0.6666666666666666,
              "#ed7953"
             ],
             [
              0.7777777777777778,
              "#fb9f3a"
             ],
             [
              0.8888888888888888,
              "#fdca26"
             ],
             [
              1,
              "#f0f921"
             ]
            ],
            "type": "histogram2d"
           }
          ],
          "histogram2dcontour": [
           {
            "colorbar": {
             "outlinewidth": 0,
             "ticks": ""
            },
            "colorscale": [
             [
              0,
              "#0d0887"
             ],
             [
              0.1111111111111111,
              "#46039f"
             ],
             [
              0.2222222222222222,
              "#7201a8"
             ],
             [
              0.3333333333333333,
              "#9c179e"
             ],
             [
              0.4444444444444444,
              "#bd3786"
             ],
             [
              0.5555555555555556,
              "#d8576b"
             ],
             [
              0.6666666666666666,
              "#ed7953"
             ],
             [
              0.7777777777777778,
              "#fb9f3a"
             ],
             [
              0.8888888888888888,
              "#fdca26"
             ],
             [
              1,
              "#f0f921"
             ]
            ],
            "type": "histogram2dcontour"
           }
          ],
          "mesh3d": [
           {
            "colorbar": {
             "outlinewidth": 0,
             "ticks": ""
            },
            "type": "mesh3d"
           }
          ],
          "parcoords": [
           {
            "line": {
             "colorbar": {
              "outlinewidth": 0,
              "ticks": ""
             }
            },
            "type": "parcoords"
           }
          ],
          "pie": [
           {
            "automargin": true,
            "type": "pie"
           }
          ],
          "scatter": [
           {
            "marker": {
             "colorbar": {
              "outlinewidth": 0,
              "ticks": ""
             }
            },
            "type": "scatter"
           }
          ],
          "scatter3d": [
           {
            "line": {
             "colorbar": {
              "outlinewidth": 0,
              "ticks": ""
             }
            },
            "marker": {
             "colorbar": {
              "outlinewidth": 0,
              "ticks": ""
             }
            },
            "type": "scatter3d"
           }
          ],
          "scattercarpet": [
           {
            "marker": {
             "colorbar": {
              "outlinewidth": 0,
              "ticks": ""
             }
            },
            "type": "scattercarpet"
           }
          ],
          "scattergeo": [
           {
            "marker": {
             "colorbar": {
              "outlinewidth": 0,
              "ticks": ""
             }
            },
            "type": "scattergeo"
           }
          ],
          "scattergl": [
           {
            "marker": {
             "colorbar": {
              "outlinewidth": 0,
              "ticks": ""
             }
            },
            "type": "scattergl"
           }
          ],
          "scattermapbox": [
           {
            "marker": {
             "colorbar": {
              "outlinewidth": 0,
              "ticks": ""
             }
            },
            "type": "scattermapbox"
           }
          ],
          "scatterpolar": [
           {
            "marker": {
             "colorbar": {
              "outlinewidth": 0,
              "ticks": ""
             }
            },
            "type": "scatterpolar"
           }
          ],
          "scatterpolargl": [
           {
            "marker": {
             "colorbar": {
              "outlinewidth": 0,
              "ticks": ""
             }
            },
            "type": "scatterpolargl"
           }
          ],
          "scatterternary": [
           {
            "marker": {
             "colorbar": {
              "outlinewidth": 0,
              "ticks": ""
             }
            },
            "type": "scatterternary"
           }
          ],
          "surface": [
           {
            "colorbar": {
             "outlinewidth": 0,
             "ticks": ""
            },
            "colorscale": [
             [
              0,
              "#0d0887"
             ],
             [
              0.1111111111111111,
              "#46039f"
             ],
             [
              0.2222222222222222,
              "#7201a8"
             ],
             [
              0.3333333333333333,
              "#9c179e"
             ],
             [
              0.4444444444444444,
              "#bd3786"
             ],
             [
              0.5555555555555556,
              "#d8576b"
             ],
             [
              0.6666666666666666,
              "#ed7953"
             ],
             [
              0.7777777777777778,
              "#fb9f3a"
             ],
             [
              0.8888888888888888,
              "#fdca26"
             ],
             [
              1,
              "#f0f921"
             ]
            ],
            "type": "surface"
           }
          ],
          "table": [
           {
            "cells": {
             "fill": {
              "color": "#EBF0F8"
             },
             "line": {
              "color": "white"
             }
            },
            "header": {
             "fill": {
              "color": "#C8D4E3"
             },
             "line": {
              "color": "white"
             }
            },
            "type": "table"
           }
          ]
         },
         "layout": {
          "annotationdefaults": {
           "arrowcolor": "#2a3f5f",
           "arrowhead": 0,
           "arrowwidth": 1
          },
          "autotypenumbers": "strict",
          "coloraxis": {
           "colorbar": {
            "outlinewidth": 0,
            "ticks": ""
           }
          },
          "colorscale": {
           "diverging": [
            [
             0,
             "#8e0152"
            ],
            [
             0.1,
             "#c51b7d"
            ],
            [
             0.2,
             "#de77ae"
            ],
            [
             0.3,
             "#f1b6da"
            ],
            [
             0.4,
             "#fde0ef"
            ],
            [
             0.5,
             "#f7f7f7"
            ],
            [
             0.6,
             "#e6f5d0"
            ],
            [
             0.7,
             "#b8e186"
            ],
            [
             0.8,
             "#7fbc41"
            ],
            [
             0.9,
             "#4d9221"
            ],
            [
             1,
             "#276419"
            ]
           ],
           "sequential": [
            [
             0,
             "#0d0887"
            ],
            [
             0.1111111111111111,
             "#46039f"
            ],
            [
             0.2222222222222222,
             "#7201a8"
            ],
            [
             0.3333333333333333,
             "#9c179e"
            ],
            [
             0.4444444444444444,
             "#bd3786"
            ],
            [
             0.5555555555555556,
             "#d8576b"
            ],
            [
             0.6666666666666666,
             "#ed7953"
            ],
            [
             0.7777777777777778,
             "#fb9f3a"
            ],
            [
             0.8888888888888888,
             "#fdca26"
            ],
            [
             1,
             "#f0f921"
            ]
           ],
           "sequentialminus": [
            [
             0,
             "#0d0887"
            ],
            [
             0.1111111111111111,
             "#46039f"
            ],
            [
             0.2222222222222222,
             "#7201a8"
            ],
            [
             0.3333333333333333,
             "#9c179e"
            ],
            [
             0.4444444444444444,
             "#bd3786"
            ],
            [
             0.5555555555555556,
             "#d8576b"
            ],
            [
             0.6666666666666666,
             "#ed7953"
            ],
            [
             0.7777777777777778,
             "#fb9f3a"
            ],
            [
             0.8888888888888888,
             "#fdca26"
            ],
            [
             1,
             "#f0f921"
            ]
           ]
          },
          "colorway": [
           "#636efa",
           "#EF553B",
           "#00cc96",
           "#ab63fa",
           "#FFA15A",
           "#19d3f3",
           "#FF6692",
           "#B6E880",
           "#FF97FF",
           "#FECB52"
          ],
          "font": {
           "color": "#2a3f5f"
          },
          "geo": {
           "bgcolor": "white",
           "lakecolor": "white",
           "landcolor": "#E5ECF6",
           "showlakes": true,
           "showland": true,
           "subunitcolor": "white"
          },
          "hoverlabel": {
           "align": "left"
          },
          "hovermode": "closest",
          "mapbox": {
           "style": "light"
          },
          "paper_bgcolor": "white",
          "plot_bgcolor": "#E5ECF6",
          "polar": {
           "angularaxis": {
            "gridcolor": "white",
            "linecolor": "white",
            "ticks": ""
           },
           "bgcolor": "#E5ECF6",
           "radialaxis": {
            "gridcolor": "white",
            "linecolor": "white",
            "ticks": ""
           }
          },
          "scene": {
           "xaxis": {
            "backgroundcolor": "#E5ECF6",
            "gridcolor": "white",
            "gridwidth": 2,
            "linecolor": "white",
            "showbackground": true,
            "ticks": "",
            "zerolinecolor": "white"
           },
           "yaxis": {
            "backgroundcolor": "#E5ECF6",
            "gridcolor": "white",
            "gridwidth": 2,
            "linecolor": "white",
            "showbackground": true,
            "ticks": "",
            "zerolinecolor": "white"
           },
           "zaxis": {
            "backgroundcolor": "#E5ECF6",
            "gridcolor": "white",
            "gridwidth": 2,
            "linecolor": "white",
            "showbackground": true,
            "ticks": "",
            "zerolinecolor": "white"
           }
          },
          "shapedefaults": {
           "line": {
            "color": "#2a3f5f"
           }
          },
          "ternary": {
           "aaxis": {
            "gridcolor": "white",
            "linecolor": "white",
            "ticks": ""
           },
           "baxis": {
            "gridcolor": "white",
            "linecolor": "white",
            "ticks": ""
           },
           "bgcolor": "#E5ECF6",
           "caxis": {
            "gridcolor": "white",
            "linecolor": "white",
            "ticks": ""
           }
          },
          "title": {
           "x": 0.05
          },
          "xaxis": {
           "automargin": true,
           "gridcolor": "white",
           "linecolor": "white",
           "ticks": "",
           "title": {
            "standoff": 15
           },
           "zerolinecolor": "white",
           "zerolinewidth": 2
          },
          "yaxis": {
           "automargin": true,
           "gridcolor": "white",
           "linecolor": "white",
           "ticks": "",
           "title": {
            "standoff": 15
           },
           "zerolinecolor": "white",
           "zerolinewidth": 2
          }
         }
        },
        "xaxis": {
         "anchor": "y",
         "autorange": true,
         "domain": [
          0,
          1
         ],
         "range": [
          -0.5,
          46.5
         ],
         "title": {
          "text": "Município"
         },
         "type": "category"
        },
        "yaxis": {
         "anchor": "x",
         "autorange": true,
         "domain": [
          0,
          1
         ],
         "range": [
          0,
          452.842105263158
         ],
         "title": {
          "text": "IN053 - Consumo médio de água por economia"
         },
         "type": "linear"
        }
       }
      },
      "image/png": "[encoded data removed]",
      "text/html": [
       "<div>                            <div id=\"a62c6711-b228-4a00-9bd5-724cd0e4eee3\" class=\"plotly-graph-div\" style=\"height:525px; width:100%;\"></div>            <script type=\"text/javascript\">                require([\"plotly\"], function(Plotly) {                    window.PLOTLYENV=window.PLOTLYENV || {};                                    if (document.getElementById(\"a62c6711-b228-4a00-9bd5-724cd0e4eee3\")) {                    Plotly.newPlot(                        \"a62c6711-b228-4a00-9bd5-724cd0e4eee3\",                        [{\"alignmentgroup\":\"True\",\"hovertemplate\":\"Munic\\u00edpio=%{x}<br>IN053 - Consumo m\\u00e9dio de \\u00e1gua por economia=%{y}<extra></extra>\",\"legendgroup\":\"\",\"marker\":{\"color\":\"#636efa\",\"pattern\":{\"shape\":\"\"}},\"name\":\"\",\"offsetgroup\":\"\",\"orientation\":\"v\",\"showlegend\":false,\"textposition\":\"auto\",\"x\":[\"Arapiraca\",\"Arapiraca\",\"Arapiraca\",\"Arapiraca\",\"Atalaia\",\"Atalaia\",\"Atalaia\",\"Atalaia\",\"Atalaia\",\"Atalaia\",\"Atalaia\",\"Atalaia\",\"Atalaia\",\"Barra de Santo Ant\\u00f4nio\",\"Barra de S\\u00e3o Miguel\",\"Boca da Mata\",\"Boca da Mata\",\"Boca da Mata\",\"Boca da Mata\",\"Boca da Mata\",\"Boca da Mata\",\"Boca da Mata\",\"Boca da Mata\",\"Boca da Mata\",\"Boca da Mata\",\"Boca da Mata\",\"Boca da Mata\",\"Boca da Mata\",\"Boca da Mata\",\"Boca da Mata\",\"Boca da Mata\",\"Boca da Mata\",\"Boca da Mata\",\"Boca da Mata\",\"Boca da Mata\",\"Branquinha\",\"Branquinha\",\"Branquinha\",\"Branquinha\",\"Cajueiro\",\"Cajueiro\",\"Cajueiro\",\"Cajueiro\",\"Cajueiro\",\"Cajueiro\",\"Cajueiro\",\"Cajueiro\",\"Cajueiro\",\"Cajueiro\",\"Cajueiro\",\"Cajueiro\",\"Cajueiro\",\"Cajueiro\",\"Cajueiro\",\"Cajueiro\",\"Cajueiro\",\"Cajueiro\",\"Cajueiro\",\"Cajueiro\",\"Cajueiro\",\"Cajueiro\",\"Cajueiro\",\"Cajueiro\",\"Campestre\",\"Campestre\",\"Campestre\",\"Campestre\",\"Campo Alegre\",\"Campo Alegre\",\"Campo Alegre\",\"Campo Alegre\",\"Campo Alegre\",\"Campo Alegre\",\"Campo Alegre\",\"Campo Alegre\",\"Campo Alegre\",\"Campo Alegre\",\"Campo Alegre\",\"Ch\\u00e3 Preta\",\"Ch\\u00e3 Preta\",\"Ch\\u00e3 Preta\",\"Ch\\u00e3 Preta\",\"Ch\\u00e3 Preta\",\"Ch\\u00e3 Preta\",\"Coruripe\",\"Coruripe\",\"Coruripe\",\"Coruripe\",\"Coruripe\",\"Coruripe\",\"Coruripe\",\"Coruripe\",\"Coruripe\",\"Coruripe\",\"Coruripe\",\"Delmiro Gouveia\",\"Delmiro Gouveia\",\"Delmiro Gouveia\",\"Delmiro Gouveia\",\"Delmiro Gouveia\",\"Delmiro Gouveia\",\"Delmiro Gouveia\",\"Feira Grande\",\"Feliz Deserto\",\"Feliz Deserto\",\"Feliz Deserto\",\"Flexeiras\",\"Flexeiras\",\"Ibateguara\",\"Igaci\",\"Jacu\\u00edpe\",\"Jaramataia\",\"Jaramataia\",\"Jequi\\u00e1 da Praia\",\"Jequi\\u00e1 da Praia\",\"Jequi\\u00e1 da Praia\",\"Jequi\\u00e1 da Praia\",\"Jequi\\u00e1 da Praia\",\"Limoeiro de Anadia\",\"Limoeiro de Anadia\",\"Limoeiro de Anadia\",\"Limoeiro de Anadia\",\"Limoeiro de Anadia\",\"Macei\\u00f3\",\"Macei\\u00f3\",\"Macei\\u00f3\",\"Macei\\u00f3\",\"Macei\\u00f3\",\"Macei\\u00f3\",\"Macei\\u00f3\",\"Macei\\u00f3\",\"Macei\\u00f3\",\"Macei\\u00f3\",\"Macei\\u00f3\",\"Macei\\u00f3\",\"Macei\\u00f3\",\"Macei\\u00f3\",\"Macei\\u00f3\",\"Macei\\u00f3\",\"Macei\\u00f3\",\"Macei\\u00f3\",\"Macei\\u00f3\",\"Macei\\u00f3\",\"Macei\\u00f3\",\"Macei\\u00f3\",\"Macei\\u00f3\",\"Macei\\u00f3\",\"Macei\\u00f3\",\"Macei\\u00f3\",\"Mar Vermelho\",\"Marechal Deodoro\",\"Marechal Deodoro\",\"Marechal Deodoro\",\"Marechal Deodoro\",\"Marechal Deodoro\",\"Marechal Deodoro\",\"Marechal Deodoro\",\"Marechal Deodoro\",\"Marechal Deodoro\",\"Marechal Deodoro\",\"Marechal Deodoro\",\"Marechal Deodoro\",\"Marechal Deodoro\",\"Marechal Deodoro\",\"Marechal Deodoro\",\"Marechal Deodoro\",\"Marechal Deodoro\",\"Marechal Deodoro\",\"Marechal Deodoro\",\"Marechal Deodoro\",\"Marechal Deodoro\",\"Marechal Deodoro\",\"Messias\",\"Messias\",\"Messias\",\"Murici\",\"Novo Lino\",\"Olho d \\u00c1gua do Casado\",\"Penedo\",\"Penedo\",\"Penedo\",\"Penedo\",\"Penedo\",\"Penedo\",\"Penedo\",\"Penedo\",\"Penedo\",\"Penedo\",\"Penedo\",\"Penedo\",\"Penedo\",\"Penedo\",\"Penedo\",\"Penedo\",\"Penedo\",\"Penedo\",\"Penedo\",\"Penedo\",\"Penedo\",\"Penedo\",\"Pia\\u00e7abu\\u00e7u\",\"Pilar\",\"Pilar\",\"Pilar\",\"Pilar\",\"Pilar\",\"Porto Calvo\",\"Porto Calvo\",\"Porto Calvo\",\"Porto Calvo\",\"Porto Real do Col\\u00e9gio\",\"Porto Real do Col\\u00e9gio\",\"Porto Real do Col\\u00e9gio\",\"Porto Real do Col\\u00e9gio\",\"Porto Real do Col\\u00e9gio\",\"Porto Real do Col\\u00e9gio\",\"P\\u00e3o de A\\u00e7\\u00facar\",\"P\\u00e3o de A\\u00e7\\u00facar\",\"P\\u00e3o de A\\u00e7\\u00facar\",\"P\\u00e3o de A\\u00e7\\u00facar\",\"P\\u00e3o de A\\u00e7\\u00facar\",\"P\\u00e3o de A\\u00e7\\u00facar\",\"P\\u00e3o de A\\u00e7\\u00facar\",\"P\\u00e3o de A\\u00e7\\u00facar\",\"P\\u00e3o de A\\u00e7\\u00facar\",\"P\\u00e3o de A\\u00e7\\u00facar\",\"P\\u00e3o de A\\u00e7\\u00facar\",\"P\\u00e3o de A\\u00e7\\u00facar\",\"P\\u00e3o de A\\u00e7\\u00facar\",\"P\\u00e3o de A\\u00e7\\u00facar\",\"P\\u00e3o de A\\u00e7\\u00facar\",\"P\\u00e3o de A\\u00e7\\u00facar\",\"P\\u00e3o de A\\u00e7\\u00facar\",\"P\\u00e3o de A\\u00e7\\u00facar\",\"P\\u00e3o de A\\u00e7\\u00facar\",\"P\\u00e3o de A\\u00e7\\u00facar\",\"P\\u00e3o de A\\u00e7\\u00facar\",\"P\\u00e3o de A\\u00e7\\u00facar\",\"Quebrangulo\",\"Roteiro\",\"Roteiro\",\"Roteiro\",\"Roteiro\",\"Santana do Munda\\u00fa\",\"Santana do Munda\\u00fa\",\"Santana do Munda\\u00fa\",\"Santana do Munda\\u00fa\",\"Santana do Munda\\u00fa\",\"S\\u00e3o Jos\\u00e9 da Laje\",\"S\\u00e3o Jos\\u00e9 da Laje\",\"S\\u00e3o Jos\\u00e9 da Laje\",\"S\\u00e3o Jos\\u00e9 da Laje\",\"S\\u00e3o Jos\\u00e9 da Laje\",\"S\\u00e3o Lu\\u00eds do Quitunde\",\"S\\u00e3o Lu\\u00eds do Quitunde\",\"S\\u00e3o Miguel dos Campos\",\"S\\u00e3o Miguel dos Campos\",\"S\\u00e3o Miguel dos Campos\",\"S\\u00e3o Miguel dos Campos\",\"S\\u00e3o Miguel dos Campos\",\"S\\u00e3o Miguel dos Campos\",\"S\\u00e3o Miguel dos Campos\",\"S\\u00e3o Miguel dos Campos\",\"S\\u00e3o Miguel dos Campos\",\"S\\u00e3o Miguel dos Campos\",\"S\\u00e3o Miguel dos Campos\",\"S\\u00e3o Miguel dos Campos\",\"S\\u00e3o Miguel dos Campos\",\"S\\u00e3o Miguel dos Campos\",\"S\\u00e3o Miguel dos Campos\",\"S\\u00e3o Miguel dos Campos\",\"S\\u00e3o Miguel dos Campos\",\"S\\u00e3o Miguel dos Campos\",\"S\\u00e3o Miguel dos Campos\",\"S\\u00e3o Miguel dos Milagres\",\"S\\u00e3o Miguel dos Milagres\",\"S\\u00e3o Miguel dos Milagres\",\"Tanque d Arca\",\"Taquarana\",\"Taquarana\",\"Taquarana\",\"Teot\\u00f4nio Vilela\",\"Teot\\u00f4nio Vilela\",\"Teot\\u00f4nio Vilela\",\"Teot\\u00f4nio Vilela\",\"Teot\\u00f4nio Vilela\",\"Teot\\u00f4nio Vilela\",\"Teot\\u00f4nio Vilela\",\"Teot\\u00f4nio Vilela\",\"Teot\\u00f4nio Vilela\",\"Teot\\u00f4nio Vilela\",\"Teot\\u00f4nio Vilela\",\"Uni\\u00e3o dos Palmares\",\"Uni\\u00e3o dos Palmares\",\"Uni\\u00e3o dos Palmares\",\"Uni\\u00e3o dos Palmares\",\"Uni\\u00e3o dos Palmares\",\"Uni\\u00e3o dos Palmares\",\"Uni\\u00e3o dos Palmares\",\"Uni\\u00e3o dos Palmares\",\"Uni\\u00e3o dos Palmares\",\"Uni\\u00e3o dos Palmares\",\"Uni\\u00e3o dos Palmares\",\"Uni\\u00e3o dos Palmares\",\"Uni\\u00e3o dos Palmares\",\"Uni\\u00e3o dos Palmares\",\"Uni\\u00e3o dos Palmares\",\"Uni\\u00e3o dos Palmares\",\"Uni\\u00e3o dos Palmares\",\"Uni\\u00e3o dos Palmares\",\"Uni\\u00e3o dos Palmares\",\"Uni\\u00e3o dos Palmares\",\"Uni\\u00e3o dos Palmares\",\"Uni\\u00e3o dos Palmares\",\"Vi\\u00e7osa\",\"Vi\\u00e7osa\",\"Vi\\u00e7osa\",\"Vi\\u00e7osa\",\"Vi\\u00e7osa\",\"Vi\\u00e7osa\",\"Vi\\u00e7osa\",\"Vi\\u00e7osa\",\"Vi\\u00e7osa\",\"Vi\\u00e7osa\",\"Vi\\u00e7osa\",\"Vi\\u00e7osa\",\"Vi\\u00e7osa\",\"Vi\\u00e7osa\",\"Vi\\u00e7osa\",\"\\u00c1gua Branca\",\"\\u00c1gua Branca\",\"\\u00c1gua Branca\"],\"xaxis\":\"x\",\"y\":[null,null,null,null,7.2,9.0,8.6,16.1,15.7,15.5,12.6,13.7,13.09,9.62,null,12.6,null,null,93.2,5.8,9.2,10.8,10.8,12.3,12.7,13.2,13.1,14.67,8.07,8.15,8.08,8.16,8.47,9.24,8.16,13.5,17.1,16.8,16.0,null,13.5,13.1,14.7,13.9,13.0,12.2,12.5,14.8,14.4,13.8,13.9,13.1,13.0,16.7,13.6,12.13,9.35,9.89,9.9,21.76,23.72,21.26,23.13,19.44,14.49,13.18,20.83,18.7,14.3,13.1,13.1,13.3,13.36,2.64,5.26,5.23,6.9,12.63,null,17.8,21.1,21.0,21.2,2.5,null,19.6,19.3,18.51,18.59,18.02,30.28,33.71,39.29,38.95,54.15,null,null,null,null,null,null,null,null,11.0,11.61,11.14,null,null,null,null,null,null,null,41.0,29.44,28.32,11.53,11.67,17.8,31.9,8.2,8.2,8.2,null,null,null,14.3,13.6,13.6,13.1,12.6,12.2,12.2,12.4,12.1,10.7,10.3,10.3,10.8,10.9,19.5,11.34,11.99,11.78,11.48,10.73,16.96,18.62,16.86,null,null,12.4,13.2,12.3,null,13.1,13.2,12.7,13.3,13.3,30.9,11.1,11.3,11.3,11.2,11.48,11.45,11.78,12.53,14.34,18.99,21.34,null,null,null,null,null,null,20.4,20.1,16.9,16.6,16.2,16.2,16.4,16.4,16.0,16.0,16.8,27.0,25.6,19.3,23.2,23.1,20.26,19.73,19.88,23.42,19.54,21.17,null,22.2,22.23,18.35,15.01,12.52,6.8,5.02,4.1,4.1,null,18.1,14.6,16.0,15.9,null,19.8,15.1,13.2,14.6,13.9,13.4,13.2,12.9,12.7,13.4,12.2,11.8,14.4,16.2,16.1,15.65,16.07,24.86,24.59,9.6,9.65,8.66,null,12.1,2.38,2.35,2.29,16.0,16.02,15.67,12.97,13.26,12.9,22.8,8.39,8.33,8.9,7.3,7.4,13.2,13.1,12.6,13.3,14.1,13.3,11.6,11.8,9.5,10.8,10.9,10.79,10.53,10.12,9.92,9.89,9.96,9.99,10.18,10.7,10.7,10.5,29.08,null,null,null,6.9,7.4,8.2,8.12,16.91,16.4,16.33,18.15,17.39,16.53,17.8,27.4,12.8,21.7,21.4,23.0,13.5,12.8,23.9,14.0,12.1,12.5,11.9,22.3,18.1,21.11,10.56,9.99,10.51,8.92,9.16,8.94,8.98,26.7,12.3,12.0,12.3,12.1,11.4,10.8,10.7,10.97,10.67,9.28,9.81,11.29,13.14,10.78,null,null,null],\"yaxis\":\"y\",\"type\":\"bar\"}],                        {\"template\":{\"data\":{\"bar\":[{\"error_x\":{\"color\":\"#2a3f5f\"},\"error_y\":{\"color\":\"#2a3f5f\"},\"marker\":{\"line\":{\"color\":\"#E5ECF6\",\"width\":0.5},\"pattern\":{\"fillmode\":\"overlay\",\"size\":10,\"solidity\":0.2}},\"type\":\"bar\"}],\"barpolar\":[{\"marker\":{\"line\":{\"color\":\"#E5ECF6\",\"width\":0.5},\"pattern\":{\"fillmode\":\"overlay\",\"size\":10,\"solidity\":0.2}},\"type\":\"barpolar\"}],\"carpet\":[{\"aaxis\":{\"endlinecolor\":\"#2a3f5f\",\"gridcolor\":\"white\",\"linecolor\":\"white\",\"minorgridcolor\":\"white\",\"startlinecolor\":\"#2a3f5f\"},\"baxis\":{\"endlinecolor\":\"#2a3f5f\",\"gridcolor\":\"white\",\"linecolor\":\"white\",\"minorgridcolor\":\"white\",\"startlinecolor\":\"#2a3f5f\"},\"type\":\"carpet\"}],\"choropleth\":[{\"colorbar\":{\"outlinewidth\":0,\"ticks\":\"\"},\"type\":\"choropleth\"}],\"contour\":[{\"colorbar\":{\"outlinewidth\":0,\"ticks\":\"\"},\"colorscale\":[[0.0,\"#0d0887\"],[0.1111111111111111,\"#46039f\"],[0.2222222222222222,\"#7201a8\"],[0.3333333333333333,\"#9c179e\"],[0.4444444444444444,\"#bd3786\"],[0.5555555555555556,\"#d8576b\"],[0.6666666666666666,\"#ed7953\"],[0.7777777777777778,\"#fb9f3a\"],[0.8888888888888888,\"#fdca26\"],[1.0,\"#f0f921\"]],\"type\":\"contour\"}],\"contourcarpet\":[{\"colorbar\":{\"outlinewidth\":0,\"ticks\":\"\"},\"type\":\"contourcarpet\"}],\"heatmap\":[{\"colorbar\":{\"outlinewidth\":0,\"ticks\":\"\"},\"colorscale\":[[0.0,\"#0d0887\"],[0.1111111111111111,\"#46039f\"],[0.2222222222222222,\"#7201a8\"],[0.3333333333333333,\"#9c179e\"],[0.4444444444444444,\"#bd3786\"],[0.5555555555555556,\"#d8576b\"],[0.6666666666666666,\"#ed7953\"],[0.7777777777777778,\"#fb9f3a\"],[0.8888888888888888,\"#fdca26\"],[1.0,\"#f0f921\"]],\"type\":\"heatmap\"}],\"heatmapgl\":[{\"colorbar\":{\"outlinewidth\":0,\"ticks\":\"\"},\"colorscale\":[[0.0,\"#0d0887\"],[0.1111111111111111,\"#46039f\"],[0.2222222222222222,\"#7201a8\"],[0.3333333333333333,\"#9c179e\"],[0.4444444444444444,\"#bd3786\"],[0.5555555555555556,\"#d8576b\"],[0.6666666666666666,\"#ed7953\"],[0.7777777777777778,\"#fb9f3a\"],[0.8888888888888888,\"#fdca26\"],[1.0,\"#f0f921\"]],\"type\":\"heatmapgl\"}],\"histogram\":[{\"marker\":{\"pattern\":{\"fillmode\":\"overlay\",\"size\":10,\"solidity\":0.2}},\"type\":\"histogram\"}],\"histogram2d\":[{\"colorbar\":{\"outlinewidth\":0,\"ticks\":\"\"},\"colorscale\":[[0.0,\"#0d0887\"],[0.1111111111111111,\"#46039f\"],[0.2222222222222222,\"#7201a8\"],[0.3333333333333333,\"#9c179e\"],[0.4444444444444444,\"#bd3786\"],[0.5555555555555556,\"#d8576b\"],[0.6666666666666666,\"#ed7953\"],[0.7777777777777778,\"#fb9f3a\"],[0.8888888888888888,\"#fdca26\"],[1.0,\"#f0f921\"]],\"type\":\"histogram2d\"}],\"histogram2dcontour\":[{\"colorbar\":{\"outlinewidth\":0,\"ticks\":\"\"},\"colorscale\":[[0.0,\"#0d0887\"],[0.1111111111111111,\"#46039f\"],[0.2222222222222222,\"#7201a8\"],[0.3333333333333333,\"#9c179e\"],[0.4444444444444444,\"#bd3786\"],[0.5555555555555556,\"#d8576b\"],[0.6666666666666666,\"#ed7953\"],[0.7777777777777778,\"#fb9f3a\"],[0.8888888888888888,\"#fdca26\"],[1.0,\"#f0f921\"]],\"type\":\"histogram2dcontour\"}],\"mesh3d\":[{\"colorbar\":{\"outlinewidth\":0,\"ticks\":\"\"},\"type\":\"mesh3d\"}],\"parcoords\":[{\"line\":{\"colorbar\":{\"outlinewidth\":0,\"ticks\":\"\"}},\"type\":\"parcoords\"}],\"pie\":[{\"automargin\":true,\"type\":\"pie\"}],\"scatter\":[{\"marker\":{\"colorbar\":{\"outlinewidth\":0,\"ticks\":\"\"}},\"type\":\"scatter\"}],\"scatter3d\":[{\"line\":{\"colorbar\":{\"outlinewidth\":0,\"ticks\":\"\"}},\"marker\":{\"colorbar\":{\"outlinewidth\":0,\"ticks\":\"\"}},\"type\":\"scatter3d\"}],\"scattercarpet\":[{\"marker\":{\"colorbar\":{\"outlinewidth\":0,\"ticks\":\"\"}},\"type\":\"scattercarpet\"}],\"scattergeo\":[{\"marker\":{\"colorbar\":{\"outlinewidth\":0,\"ticks\":\"\"}},\"type\":\"scattergeo\"}],\"scattergl\":[{\"marker\":{\"colorbar\":{\"outlinewidth\":0,\"ticks\":\"\"}},\"type\":\"scattergl\"}],\"scattermapbox\":[{\"marker\":{\"colorbar\":{\"outlinewidth\":0,\"ticks\":\"\"}},\"type\":\"scattermapbox\"}],\"scatterpolar\":[{\"marker\":{\"colorbar\":{\"outlinewidth\":0,\"ticks\":\"\"}},\"type\":\"scatterpolar\"}],\"scatterpolargl\":[{\"marker\":{\"colorbar\":{\"outlinewidth\":0,\"ticks\":\"\"}},\"type\":\"scatterpolargl\"}],\"scatterternary\":[{\"marker\":{\"colorbar\":{\"outlinewidth\":0,\"ticks\":\"\"}},\"type\":\"scatterternary\"}],\"surface\":[{\"colorbar\":{\"outlinewidth\":0,\"ticks\":\"\"},\"colorscale\":[[0.0,\"#0d0887\"],[0.1111111111111111,\"#46039f\"],[0.2222222222222222,\"#7201a8\"],[0.3333333333333333,\"#9c179e\"],[0.4444444444444444,\"#bd3786\"],[0.5555555555555556,\"#d8576b\"],[0.6666666666666666,\"#ed7953\"],[0.7777777777777778,\"#fb9f3a\"],[0.8888888888888888,\"#fdca26\"],[1.0,\"#f0f921\"]],\"type\":\"surface\"}],\"table\":[{\"cells\":{\"fill\":{\"color\":\"#EBF0F8\"},\"line\":{\"color\":\"white\"}},\"header\":{\"fill\":{\"color\":\"#C8D4E3\"},\"line\":{\"color\":\"white\"}},\"type\":\"table\"}]},\"layout\":{\"annotationdefaults\":{\"arrowcolor\":\"#2a3f5f\",\"arrowhead\":0,\"arrowwidth\":1},\"autotypenumbers\":\"strict\",\"coloraxis\":{\"colorbar\":{\"outlinewidth\":0,\"ticks\":\"\"}},\"colorscale\":{\"diverging\":[[0,\"#8e0152\"],[0.1,\"#c51b7d\"],[0.2,\"#de77ae\"],[0.3,\"#f1b6da\"],[0.4,\"#fde0ef\"],[0.5,\"#f7f7f7\"],[0.6,\"#e6f5d0\"],[0.7,\"#b8e186\"],[0.8,\"#7fbc41\"],[0.9,\"#4d9221\"],[1,\"#276419\"]],\"sequential\":[[0.0,\"#0d0887\"],[0.1111111111111111,\"#46039f\"],[0.2222222222222222,\"#7201a8\"],[0.3333333333333333,\"#9c179e\"],[0.4444444444444444,\"#bd3786\"],[0.5555555555555556,\"#d8576b\"],[0.6666666666666666,\"#ed7953\"],[0.7777777777777778,\"#fb9f3a\"],[0.8888888888888888,\"#fdca26\"],[1.0,\"#f0f921\"]],\"sequentialminus\":[[0.0,\"#0d0887\"],[0.1111111111111111,\"#46039f\"],[0.2222222222222222,\"#7201a8\"],[0.3333333333333333,\"#9c179e\"],[0.4444444444444444,\"#bd3786\"],[0.5555555555555556,\"#d8576b\"],[0.6666666666666666,\"#ed7953\"],[0.7777777777777778,\"#fb9f3a\"],[0.8888888888888888,\"#fdca26\"],[1.0,\"#f0f921\"]]},\"colorway\":[\"#636efa\",\"#EF553B\",\"#00cc96\",\"#ab63fa\",\"#FFA15A\",\"#19d3f3\",\"#FF6692\",\"#B6E880\",\"#FF97FF\",\"#FECB52\"],\"font\":{\"color\":\"#2a3f5f\"},\"geo\":{\"bgcolor\":\"white\",\"lakecolor\":\"white\",\"landcolor\":\"#E5ECF6\",\"showlakes\":true,\"showland\":true,\"subunitcolor\":\"white\"},\"hoverlabel\":{\"align\":\"left\"},\"hovermode\":\"closest\",\"mapbox\":{\"style\":\"light\"},\"paper_bgcolor\":\"white\",\"plot_bgcolor\":\"#E5ECF6\",\"polar\":{\"angularaxis\":{\"gridcolor\":\"white\",\"linecolor\":\"white\",\"ticks\":\"\"},\"bgcolor\":\"#E5ECF6\",\"radialaxis\":{\"gridcolor\":\"white\",\"linecolor\":\"white\",\"ticks\":\"\"}},\"scene\":{\"xaxis\":{\"backgroundcolor\":\"#E5ECF6\",\"gridcolor\":\"white\",\"gridwidth\":2,\"linecolor\":\"white\",\"showbackground\":true,\"ticks\":\"\",\"zerolinecolor\":\"white\"},\"yaxis\":{\"backgroundcolor\":\"#E5ECF6\",\"gridcolor\":\"white\",\"gridwidth\":2,\"linecolor\":\"white\",\"showbackground\":true,\"ticks\":\"\",\"zerolinecolor\":\"white\"},\"zaxis\":{\"backgroundcolor\":\"#E5ECF6\",\"gridcolor\":\"white\",\"gridwidth\":2,\"linecolor\":\"white\",\"showbackground\":true,\"ticks\":\"\",\"zerolinecolor\":\"white\"}},\"shapedefaults\":{\"line\":{\"color\":\"#2a3f5f\"}},\"ternary\":{\"aaxis\":{\"gridcolor\":\"white\",\"linecolor\":\"white\",\"ticks\":\"\"},\"baxis\":{\"gridcolor\":\"white\",\"linecolor\":\"white\",\"ticks\":\"\"},\"bgcolor\":\"#E5ECF6\",\"caxis\":{\"gridcolor\":\"white\",\"linecolor\":\"white\",\"ticks\":\"\"}},\"title\":{\"x\":0.05},\"xaxis\":{\"automargin\":true,\"gridcolor\":\"white\",\"linecolor\":\"white\",\"ticks\":\"\",\"title\":{\"standoff\":15},\"zerolinecolor\":\"white\",\"zerolinewidth\":2},\"yaxis\":{\"automargin\":true,\"gridcolor\":\"white\",\"linecolor\":\"white\",\"ticks\":\"\",\"title\":{\"standoff\":15},\"zerolinecolor\":\"white\",\"zerolinewidth\":2}}},\"xaxis\":{\"anchor\":\"y\",\"domain\":[0.0,1.0],\"title\":{\"text\":\"Munic\\u00edpio\"}},\"yaxis\":{\"anchor\":\"x\",\"domain\":[0.0,1.0],\"title\":{\"text\":\"IN053 - Consumo m\\u00e9dio de \\u00e1gua por economia\"}},\"legend\":{\"tracegroupgap\":0},\"margin\":{\"t\":60},\"barmode\":\"relative\"},                        {\"responsive\": true}                    ).then(function(){\n",
       "                            \n",
       "var gd = document.getElementById('a62c6711-b228-4a00-9bd5-724cd0e4eee3');\n",
       "var x = new MutationObserver(function (mutations, observer) {{\n",
       "        var display = window.getComputedStyle(gd).display;\n",
       "        if (!display || display === 'none') {{\n",
       "            console.log([gd, 'removed!']);\n",
       "            Plotly.purge(gd);\n",
       "            observer.disconnect();\n",
       "        }}\n",
       "}});\n",
       "\n",
       "// Listen for the removal of the full notebook cells\n",
       "var notebookContainer = gd.closest('#notebook-container');\n",
       "if (notebookContainer) {{\n",
       "    x.observe(notebookContainer, {childList: true});\n",
       "}}\n",
       "\n",
       "// Listen for the clearing of the current output cell\n",
       "var outputEl = gd.closest('.output');\n",
       "if (outputEl) {{\n",
       "    x.observe(outputEl, {childList: true});\n",
       "}}\n",
       "\n",
       "                        })                };                });            </script>        </div>"
      ]
     },
     "metadata": {},
     "output_type": "display_data"
    }
   ],
   "source": [
    "px.bar(data_frame = df_AL, x='Município', y= 'IN053 - Consumo médio de água por economia', barmode = 'relative')"
   ]
  },
  {
   "cell_type": "code",
   "execution_count": null,
   "id": "0c9123be-2657-4ce5-860c-df0c7a23b744",
   "metadata": {},
   "outputs": [],
   "source": []
  }
 ],
 "metadata": {
  "kernelspec": {
   "display_name": "Python 3 (ipykernel)",
   "language": "python",
   "name": "python3"
  },
  "language_info": {
   "codemirror_mode": {
    "name": "ipython",
    "version": 3
   },
   "file_extension": ".py",
   "mimetype": "text/x-python",
   "name": "python",
   "nbconvert_exporter": "python",
   "pygments_lexer": "ipython3",
   "version": "3.9.10"
  },
  "toc-autonumbering": true
 },
 "nbformat": 4,
 "nbformat_minor": 5
}
